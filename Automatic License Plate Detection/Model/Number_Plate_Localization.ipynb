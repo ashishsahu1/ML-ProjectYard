{
  "nbformat": 4,
  "nbformat_minor": 0,
  "metadata": {
    "colab": {
      "name": "ANPR_1.ipynb",
      "provenance": [],
      "collapsed_sections": []
    },
    "kernelspec": {
      "name": "python3",
      "display_name": "Python 3"
    },
    "accelerator": "GPU"
  },
  "cells": [
    {
      "cell_type": "markdown",
      "metadata": {
        "id": "ry7gWDLR__Iw"
      },
      "source": [
        "## Imports"
      ]
    },
    {
      "cell_type": "code",
      "metadata": {
        "id": "GTC1rHoaiI5g"
      },
      "source": [
        "import numpy as np\n",
        "import pandas as pd\n",
        "import matplotlib.pyplot as plt\n",
        "from tqdm.notebook import tqdm\n",
        "import os\n",
        "import cv2\n",
        "import zipfile\n",
        "\n",
        "from sklearn.model_selection import train_test_split\n",
        "from sklearn.metrics import mean_squared_error\n",
        "import tensorflow as tf\n",
        "from keras.models import Sequential\n",
        "from keras.layers import Conv2D, Dropout, Dense, Flatten, BatchNormalization, MaxPooling2D, LeakyReLU\n",
        "from keras.optimizers import RMSprop, Adadelta, Adagrad\n",
        "from tensorflow.keras.callbacks import ReduceLROnPlateau, EarlyStopping\n",
        "from tensorflow.keras import layers, Model\n",
        "\n",
        "from tensorflow.keras.applications import ResNet152V2\n",
        "from tensorflow.keras.applications import ResNet50V2\n",
        "from tensorflow.keras.applications import DenseNet121\n",
        "from tensorflow.keras.applications import DenseNet201\n",
        "from tensorflow.keras.applications import InceptionResNetV2\n",
        "from tensorflow.keras.applications import EfficientNetB7\n",
        "from tensorflow.keras.applications import MobileNet\n",
        "from tensorflow.keras.applications import Xception\n",
        "from tensorflow.keras.applications import VGG19\n",
        "from tensorflow.keras.applications import ResNet101V2\n",
        "from tensorflow.keras.applications import MobileNetV3Small\n",
        "\n",
        "from tensorflow.keras.applications import VGG16\n",
        "from tensorflow.keras.applications import ResNet50\n",
        "from tensorflow.keras.applications import DenseNet169\n",
        "from tensorflow.keras.applications import InceptionV3\n",
        "from tensorflow.keras.applications import MobileNetV2\n",
        "from tensorflow.keras.applications import MobileNetV3Large\n",
        "\n",
        "import warnings\n",
        "warnings.filterwarnings('ignore')"
      ],
      "execution_count": null,
      "outputs": []
    },
    {
      "cell_type": "markdown",
      "metadata": {
        "id": "qg2J_iSSABzI"
      },
      "source": [
        "## Data Download"
      ]
    },
    {
      "cell_type": "code",
      "metadata": {
        "colab": {
          "base_uri": "https://localhost:8080/"
        },
        "id": "71lo69ya5uig",
        "outputId": "f2e1faad-2c93-42d7-8b22-8f92c7ea89d6"
      },
      "source": [
        "! pip install --upgrade --force-reinstall --no-deps kaggle\n",
        "import os\n",
        "from google.colab import files"
      ],
      "execution_count": null,
      "outputs": [
        {
          "output_type": "stream",
          "text": [
            "Collecting kaggle\n",
            "\u001b[?25l  Downloading https://files.pythonhosted.org/packages/3a/e7/3bac01547d2ed3d308ac92a0878fbdb0ed0f3d41fb1906c319ccbba1bfbc/kaggle-1.5.12.tar.gz (58kB)\n",
            "\r\u001b[K     |█████▋                          | 10kB 16.5MB/s eta 0:00:01\r\u001b[K     |███████████▏                    | 20kB 21.5MB/s eta 0:00:01\r\u001b[K     |████████████████▊               | 30kB 12.3MB/s eta 0:00:01\r\u001b[K     |██████████████████████▎         | 40kB 9.2MB/s eta 0:00:01\r\u001b[K     |███████████████████████████▉    | 51kB 8.2MB/s eta 0:00:01\r\u001b[K     |████████████████████████████████| 61kB 3.9MB/s \n",
            "\u001b[?25hBuilding wheels for collected packages: kaggle\n",
            "  Building wheel for kaggle (setup.py) ... \u001b[?25l\u001b[?25hdone\n",
            "  Created wheel for kaggle: filename=kaggle-1.5.12-cp37-none-any.whl size=73053 sha256=ce802414d5360d8c888a9321ff706963876fbe0c9a05740b34ce1c40daf1fbc3\n",
            "  Stored in directory: /root/.cache/pip/wheels/a1/6a/26/d30b7499ff85a4a4593377a87ecf55f7d08af42f0de9b60303\n",
            "Successfully built kaggle\n",
            "Installing collected packages: kaggle\n",
            "  Found existing installation: kaggle 1.5.10\n",
            "    Uninstalling kaggle-1.5.10:\n",
            "      Successfully uninstalled kaggle-1.5.10\n",
            "Successfully installed kaggle-1.5.12\n"
          ],
          "name": "stdout"
        }
      ]
    },
    {
      "cell_type": "code",
      "metadata": {
        "colab": {
          "resources": {
            "http://localhost:8080/nbextensions/google.colab/files.js": {
              "data": "Ly8gQ29weXJpZ2h0IDIwMTcgR29vZ2xlIExMQwovLwovLyBMaWNlbnNlZCB1bmRlciB0aGUgQXBhY2hlIExpY2Vuc2UsIFZlcnNpb24gMi4wICh0aGUgIkxpY2Vuc2UiKTsKLy8geW91IG1heSBub3QgdXNlIHRoaXMgZmlsZSBleGNlcHQgaW4gY29tcGxpYW5jZSB3aXRoIHRoZSBMaWNlbnNlLgovLyBZb3UgbWF5IG9idGFpbiBhIGNvcHkgb2YgdGhlIExpY2Vuc2UgYXQKLy8KLy8gICAgICBodHRwOi8vd3d3LmFwYWNoZS5vcmcvbGljZW5zZXMvTElDRU5TRS0yLjAKLy8KLy8gVW5sZXNzIHJlcXVpcmVkIGJ5IGFwcGxpY2FibGUgbGF3IG9yIGFncmVlZCB0byBpbiB3cml0aW5nLCBzb2Z0d2FyZQovLyBkaXN0cmlidXRlZCB1bmRlciB0aGUgTGljZW5zZSBpcyBkaXN0cmlidXRlZCBvbiBhbiAiQVMgSVMiIEJBU0lTLAovLyBXSVRIT1VUIFdBUlJBTlRJRVMgT1IgQ09ORElUSU9OUyBPRiBBTlkgS0lORCwgZWl0aGVyIGV4cHJlc3Mgb3IgaW1wbGllZC4KLy8gU2VlIHRoZSBMaWNlbnNlIGZvciB0aGUgc3BlY2lmaWMgbGFuZ3VhZ2UgZ292ZXJuaW5nIHBlcm1pc3Npb25zIGFuZAovLyBsaW1pdGF0aW9ucyB1bmRlciB0aGUgTGljZW5zZS4KCi8qKgogKiBAZmlsZW92ZXJ2aWV3IEhlbHBlcnMgZm9yIGdvb2dsZS5jb2xhYiBQeXRob24gbW9kdWxlLgogKi8KKGZ1bmN0aW9uKHNjb3BlKSB7CmZ1bmN0aW9uIHNwYW4odGV4dCwgc3R5bGVBdHRyaWJ1dGVzID0ge30pIHsKICBjb25zdCBlbGVtZW50ID0gZG9jdW1lbnQuY3JlYXRlRWxlbWVudCgnc3BhbicpOwogIGVsZW1lbnQudGV4dENvbnRlbnQgPSB0ZXh0OwogIGZvciAoY29uc3Qga2V5IG9mIE9iamVjdC5rZXlzKHN0eWxlQXR0cmlidXRlcykpIHsKICAgIGVsZW1lbnQuc3R5bGVba2V5XSA9IHN0eWxlQXR0cmlidXRlc1trZXldOwogIH0KICByZXR1cm4gZWxlbWVudDsKfQoKLy8gTWF4IG51bWJlciBvZiBieXRlcyB3aGljaCB3aWxsIGJlIHVwbG9hZGVkIGF0IGEgdGltZS4KY29uc3QgTUFYX1BBWUxPQURfU0laRSA9IDEwMCAqIDEwMjQ7CgpmdW5jdGlvbiBfdXBsb2FkRmlsZXMoaW5wdXRJZCwgb3V0cHV0SWQpIHsKICBjb25zdCBzdGVwcyA9IHVwbG9hZEZpbGVzU3RlcChpbnB1dElkLCBvdXRwdXRJZCk7CiAgY29uc3Qgb3V0cHV0RWxlbWVudCA9IGRvY3VtZW50LmdldEVsZW1lbnRCeUlkKG91dHB1dElkKTsKICAvLyBDYWNoZSBzdGVwcyBvbiB0aGUgb3V0cHV0RWxlbWVudCB0byBtYWtlIGl0IGF2YWlsYWJsZSBmb3IgdGhlIG5leHQgY2FsbAogIC8vIHRvIHVwbG9hZEZpbGVzQ29udGludWUgZnJvbSBQeXRob24uCiAgb3V0cHV0RWxlbWVudC5zdGVwcyA9IHN0ZXBzOwoKICByZXR1cm4gX3VwbG9hZEZpbGVzQ29udGludWUob3V0cHV0SWQpOwp9CgovLyBUaGlzIGlzIHJvdWdobHkgYW4gYXN5bmMgZ2VuZXJhdG9yIChub3Qgc3VwcG9ydGVkIGluIHRoZSBicm93c2VyIHlldCksCi8vIHdoZXJlIHRoZXJlIGFyZSBtdWx0aXBsZSBhc3luY2hyb25vdXMgc3RlcHMgYW5kIHRoZSBQeXRob24gc2lkZSBpcyBnb2luZwovLyB0byBwb2xsIGZvciBjb21wbGV0aW9uIG9mIGVhY2ggc3RlcC4KLy8gVGhpcyB1c2VzIGEgUHJvbWlzZSB0byBibG9jayB0aGUgcHl0aG9uIHNpZGUgb24gY29tcGxldGlvbiBvZiBlYWNoIHN0ZXAsCi8vIHRoZW4gcGFzc2VzIHRoZSByZXN1bHQgb2YgdGhlIHByZXZpb3VzIHN0ZXAgYXMgdGhlIGlucHV0IHRvIHRoZSBuZXh0IHN0ZXAuCmZ1bmN0aW9uIF91cGxvYWRGaWxlc0NvbnRpbnVlKG91dHB1dElkKSB7CiAgY29uc3Qgb3V0cHV0RWxlbWVudCA9IGRvY3VtZW50LmdldEVsZW1lbnRCeUlkKG91dHB1dElkKTsKICBjb25zdCBzdGVwcyA9IG91dHB1dEVsZW1lbnQuc3RlcHM7CgogIGNvbnN0IG5leHQgPSBzdGVwcy5uZXh0KG91dHB1dEVsZW1lbnQubGFzdFByb21pc2VWYWx1ZSk7CiAgcmV0dXJuIFByb21pc2UucmVzb2x2ZShuZXh0LnZhbHVlLnByb21pc2UpLnRoZW4oKHZhbHVlKSA9PiB7CiAgICAvLyBDYWNoZSB0aGUgbGFzdCBwcm9taXNlIHZhbHVlIHRvIG1ha2UgaXQgYXZhaWxhYmxlIHRvIHRoZSBuZXh0CiAgICAvLyBzdGVwIG9mIHRoZSBnZW5lcmF0b3IuCiAgICBvdXRwdXRFbGVtZW50Lmxhc3RQcm9taXNlVmFsdWUgPSB2YWx1ZTsKICAgIHJldHVybiBuZXh0LnZhbHVlLnJlc3BvbnNlOwogIH0pOwp9CgovKioKICogR2VuZXJhdG9yIGZ1bmN0aW9uIHdoaWNoIGlzIGNhbGxlZCBiZXR3ZWVuIGVhY2ggYXN5bmMgc3RlcCBvZiB0aGUgdXBsb2FkCiAqIHByb2Nlc3MuCiAqIEBwYXJhbSB7c3RyaW5nfSBpbnB1dElkIEVsZW1lbnQgSUQgb2YgdGhlIGlucHV0IGZpbGUgcGlja2VyIGVsZW1lbnQuCiAqIEBwYXJhbSB7c3RyaW5nfSBvdXRwdXRJZCBFbGVtZW50IElEIG9mIHRoZSBvdXRwdXQgZGlzcGxheS4KICogQHJldHVybiB7IUl0ZXJhYmxlPCFPYmplY3Q+fSBJdGVyYWJsZSBvZiBuZXh0IHN0ZXBzLgogKi8KZnVuY3Rpb24qIHVwbG9hZEZpbGVzU3RlcChpbnB1dElkLCBvdXRwdXRJZCkgewogIGNvbnN0IGlucHV0RWxlbWVudCA9IGRvY3VtZW50LmdldEVsZW1lbnRCeUlkKGlucHV0SWQpOwogIGlucHV0RWxlbWVudC5kaXNhYmxlZCA9IGZhbHNlOwoKICBjb25zdCBvdXRwdXRFbGVtZW50ID0gZG9jdW1lbnQuZ2V0RWxlbWVudEJ5SWQob3V0cHV0SWQpOwogIG91dHB1dEVsZW1lbnQuaW5uZXJIVE1MID0gJyc7CgogIGNvbnN0IHBpY2tlZFByb21pc2UgPSBuZXcgUHJvbWlzZSgocmVzb2x2ZSkgPT4gewogICAgaW5wdXRFbGVtZW50LmFkZEV2ZW50TGlzdGVuZXIoJ2NoYW5nZScsIChlKSA9PiB7CiAgICAgIHJlc29sdmUoZS50YXJnZXQuZmlsZXMpOwogICAgfSk7CiAgfSk7CgogIGNvbnN0IGNhbmNlbCA9IGRvY3VtZW50LmNyZWF0ZUVsZW1lbnQoJ2J1dHRvbicpOwogIGlucHV0RWxlbWVudC5wYXJlbnRFbGVtZW50LmFwcGVuZENoaWxkKGNhbmNlbCk7CiAgY2FuY2VsLnRleHRDb250ZW50ID0gJ0NhbmNlbCB1cGxvYWQnOwogIGNvbnN0IGNhbmNlbFByb21pc2UgPSBuZXcgUHJvbWlzZSgocmVzb2x2ZSkgPT4gewogICAgY2FuY2VsLm9uY2xpY2sgPSAoKSA9PiB7CiAgICAgIHJlc29sdmUobnVsbCk7CiAgICB9OwogIH0pOwoKICAvLyBXYWl0IGZvciB0aGUgdXNlciB0byBwaWNrIHRoZSBmaWxlcy4KICBjb25zdCBmaWxlcyA9IHlpZWxkIHsKICAgIHByb21pc2U6IFByb21pc2UucmFjZShbcGlja2VkUHJvbWlzZSwgY2FuY2VsUHJvbWlzZV0pLAogICAgcmVzcG9uc2U6IHsKICAgICAgYWN0aW9uOiAnc3RhcnRpbmcnLAogICAgfQogIH07CgogIGNhbmNlbC5yZW1vdmUoKTsKCiAgLy8gRGlzYWJsZSB0aGUgaW5wdXQgZWxlbWVudCBzaW5jZSBmdXJ0aGVyIHBpY2tzIGFyZSBub3QgYWxsb3dlZC4KICBpbnB1dEVsZW1lbnQuZGlzYWJsZWQgPSB0cnVlOwoKICBpZiAoIWZpbGVzKSB7CiAgICByZXR1cm4gewogICAgICByZXNwb25zZTogewogICAgICAgIGFjdGlvbjogJ2NvbXBsZXRlJywKICAgICAgfQogICAgfTsKICB9CgogIGZvciAoY29uc3QgZmlsZSBvZiBmaWxlcykgewogICAgY29uc3QgbGkgPSBkb2N1bWVudC5jcmVhdGVFbGVtZW50KCdsaScpOwogICAgbGkuYXBwZW5kKHNwYW4oZmlsZS5uYW1lLCB7Zm9udFdlaWdodDogJ2JvbGQnfSkpOwogICAgbGkuYXBwZW5kKHNwYW4oCiAgICAgICAgYCgke2ZpbGUudHlwZSB8fCAnbi9hJ30pIC0gJHtmaWxlLnNpemV9IGJ5dGVzLCBgICsKICAgICAgICBgbGFzdCBtb2RpZmllZDogJHsKICAgICAgICAgICAgZmlsZS5sYXN0TW9kaWZpZWREYXRlID8gZmlsZS5sYXN0TW9kaWZpZWREYXRlLnRvTG9jYWxlRGF0ZVN0cmluZygpIDoKICAgICAgICAgICAgICAgICAgICAgICAgICAgICAgICAgICAgJ24vYSd9IC0gYCkpOwogICAgY29uc3QgcGVyY2VudCA9IHNwYW4oJzAlIGRvbmUnKTsKICAgIGxpLmFwcGVuZENoaWxkKHBlcmNlbnQpOwoKICAgIG91dHB1dEVsZW1lbnQuYXBwZW5kQ2hpbGQobGkpOwoKICAgIGNvbnN0IGZpbGVEYXRhUHJvbWlzZSA9IG5ldyBQcm9taXNlKChyZXNvbHZlKSA9PiB7CiAgICAgIGNvbnN0IHJlYWRlciA9IG5ldyBGaWxlUmVhZGVyKCk7CiAgICAgIHJlYWRlci5vbmxvYWQgPSAoZSkgPT4gewogICAgICAgIHJlc29sdmUoZS50YXJnZXQucmVzdWx0KTsKICAgICAgfTsKICAgICAgcmVhZGVyLnJlYWRBc0FycmF5QnVmZmVyKGZpbGUpOwogICAgfSk7CiAgICAvLyBXYWl0IGZvciB0aGUgZGF0YSB0byBiZSByZWFkeS4KICAgIGxldCBmaWxlRGF0YSA9IHlpZWxkIHsKICAgICAgcHJvbWlzZTogZmlsZURhdGFQcm9taXNlLAogICAgICByZXNwb25zZTogewogICAgICAgIGFjdGlvbjogJ2NvbnRpbnVlJywKICAgICAgfQogICAgfTsKCiAgICAvLyBVc2UgYSBjaHVua2VkIHNlbmRpbmcgdG8gYXZvaWQgbWVzc2FnZSBzaXplIGxpbWl0cy4gU2VlIGIvNjIxMTU2NjAuCiAgICBsZXQgcG9zaXRpb24gPSAwOwogICAgd2hpbGUgKHBvc2l0aW9uIDwgZmlsZURhdGEuYnl0ZUxlbmd0aCkgewogICAgICBjb25zdCBsZW5ndGggPSBNYXRoLm1pbihmaWxlRGF0YS5ieXRlTGVuZ3RoIC0gcG9zaXRpb24sIE1BWF9QQVlMT0FEX1NJWkUpOwogICAgICBjb25zdCBjaHVuayA9IG5ldyBVaW50OEFycmF5KGZpbGVEYXRhLCBwb3NpdGlvbiwgbGVuZ3RoKTsKICAgICAgcG9zaXRpb24gKz0gbGVuZ3RoOwoKICAgICAgY29uc3QgYmFzZTY0ID0gYnRvYShTdHJpbmcuZnJvbUNoYXJDb2RlLmFwcGx5KG51bGwsIGNodW5rKSk7CiAgICAgIHlpZWxkIHsKICAgICAgICByZXNwb25zZTogewogICAgICAgICAgYWN0aW9uOiAnYXBwZW5kJywKICAgICAgICAgIGZpbGU6IGZpbGUubmFtZSwKICAgICAgICAgIGRhdGE6IGJhc2U2NCwKICAgICAgICB9LAogICAgICB9OwogICAgICBwZXJjZW50LnRleHRDb250ZW50ID0KICAgICAgICAgIGAke01hdGgucm91bmQoKHBvc2l0aW9uIC8gZmlsZURhdGEuYnl0ZUxlbmd0aCkgKiAxMDApfSUgZG9uZWA7CiAgICB9CiAgfQoKICAvLyBBbGwgZG9uZS4KICB5aWVsZCB7CiAgICByZXNwb25zZTogewogICAgICBhY3Rpb246ICdjb21wbGV0ZScsCiAgICB9CiAgfTsKfQoKc2NvcGUuZ29vZ2xlID0gc2NvcGUuZ29vZ2xlIHx8IHt9OwpzY29wZS5nb29nbGUuY29sYWIgPSBzY29wZS5nb29nbGUuY29sYWIgfHwge307CnNjb3BlLmdvb2dsZS5jb2xhYi5fZmlsZXMgPSB7CiAgX3VwbG9hZEZpbGVzLAogIF91cGxvYWRGaWxlc0NvbnRpbnVlLAp9Owp9KShzZWxmKTsK",
              "ok": true,
              "headers": [
                [
                  "content-type",
                  "application/javascript"
                ]
              ],
              "status": 200,
              "status_text": ""
            }
          },
          "base_uri": "https://localhost:8080/",
          "height": 38
        },
        "id": "zUlHX1zp5ulH",
        "outputId": "4da72901-db2b-4013-b9f7-6fbc1049eebf"
      },
      "source": [
        "files.upload()\n",
        "! mkdir ~/.kaggle\n",
        "! cp kaggle.json ~/.kaggle/\n",
        "! chmod 600 ~/.kaggle/kaggle.json"
      ],
      "execution_count": null,
      "outputs": [
        {
          "output_type": "display_data",
          "data": {
            "text/html": [
              "\n",
              "     <input type=\"file\" id=\"files-531a32e3-3d4f-45c1-bdbd-72de36bfdd9f\" name=\"files[]\" multiple disabled\n",
              "        style=\"border:none\" />\n",
              "     <output id=\"result-531a32e3-3d4f-45c1-bdbd-72de36bfdd9f\">\n",
              "      Upload widget is only available when the cell has been executed in the\n",
              "      current browser session. Please rerun this cell to enable.\n",
              "      </output>\n",
              "      <script src=\"/nbextensions/google.colab/files.js\"></script> "
            ],
            "text/plain": [
              "<IPython.core.display.HTML object>"
            ]
          },
          "metadata": {
            "tags": []
          }
        }
      ]
    },
    {
      "cell_type": "code",
      "metadata": {
        "id": "-eLFqSvP5un-"
      },
      "source": [
        "! kaggle datasets download -d prithwirajmitra/anpr-data\n",
        "zip_obj = zipfile.ZipFile(r'/content/anpr-data.zip' , 'r')\n",
        "zip_obj.extractall('Dataset')\n",
        "os.remove(r\"/content/anpr-data.zip\")\n",
        "os.remove(r\"/content/kaggle.json\")"
      ],
      "execution_count": null,
      "outputs": []
    },
    {
      "cell_type": "markdown",
      "metadata": {
        "id": "I8ya4i04AnNk"
      },
      "source": [
        "## Data Preparation"
      ]
    },
    {
      "cell_type": "code",
      "metadata": {
        "id": "8zBjiZTNlAU9"
      },
      "source": [
        "dataset_path = r\"/content/Dataset/augmented images\""
      ],
      "execution_count": null,
      "outputs": []
    },
    {
      "cell_type": "code",
      "metadata": {
        "id": "MCt_p2-KA2np"
      },
      "source": [
        "data = pd.read_csv(r\"/content/Dataset/AugmentData.csv\")\n",
        "print(data.shape)\n",
        "data.head()"
      ],
      "execution_count": null,
      "outputs": []
    },
    {
      "cell_type": "code",
      "metadata": {
        "id": "ew8RgEH0BR6H"
      },
      "source": [
        "fig = plt.figure(figsize=(22, 8))\n",
        "\n",
        "rows = 2\n",
        "columns = 4\n",
        "\n",
        "for i in range(1, rows*columns+1):\n",
        "    fig.add_subplot(rows, columns, i)\n",
        "\n",
        "    pos = np.random.randint(0, len(data) + 1)\n",
        "    img = cv2.imread(os.path.join(dataset_path, data.loc[pos, \"name\"]))\n",
        "    img = cv2.cvtColor(img, cv2.COLOR_BGR2RGB)\n",
        "    img = cv2.rectangle(img, (data.loc[pos,\"xmax\"], data.loc[pos,\"ymax\"]), (data.loc[pos,\"xmin\"], data.loc[pos,\"ymin\"]), (255, 0, 0), 2)\n",
        "\n",
        "    plt.imshow(img)\n",
        "    plt.axis('off')\n",
        "    plt.title(f\"Image {i}\")\n",
        "\n",
        "plt.show()"
      ],
      "execution_count": null,
      "outputs": []
    },
    {
      "cell_type": "markdown",
      "metadata": {
        "id": "_11ibVA7lu8L"
      },
      "source": [
        "## Data changing for Model"
      ]
    },
    {
      "cell_type": "code",
      "metadata": {
        "id": "65SAgGrflua7"
      },
      "source": [
        "class data_split():\n",
        "    def __init__(self, data):\n",
        "        self.df = data\n",
        "        self.train_img = []\n",
        "        self.train_coors = []\n",
        "        self.val_img = []\n",
        "        self.val_coors = []\n",
        "        self.test_img = []\n",
        "        self.test_coors = []\n",
        "    \n",
        "    def split(self, train_percent=0.63, val_percent=0.80):\n",
        "        self.df = self.df.sample(frac=1)\n",
        "        self.df.reset_index(drop=True, inplace=True)\n",
        "\n",
        "        train_data, val_data = train_test_split(self.df, train_size = train_percent, random_state = 42)\n",
        "        val_data, test_data = train_test_split(val_data, train_size = val_percent, random_state = 42)\n",
        "        train_data.reset_index(drop=True, inplace=True)\n",
        "        val_data.reset_index(drop=True, inplace=True)\n",
        "        test_data.reset_index(drop=True, inplace=True)\n",
        "\n",
        "        for i in tqdm(range(len(train_data))):\n",
        "            path = os.path.join(dataset_path, train_data.loc[i, \"name\"])\n",
        "            img = cv2.imread(path)\n",
        "            img = cv2.cvtColor(img, cv2.COLOR_BGR2RGB)\n",
        "            self.train_img.append(img)\n",
        "            self.train_coors.append(train_data.iloc[i, 1:].values.tolist())\n",
        "        \n",
        "        for i in tqdm(range(len(val_data))):\n",
        "            path = os.path.join(dataset_path, val_data.loc[i, \"name\"])\n",
        "            img = cv2.imread(path)\n",
        "            img = cv2.cvtColor(img, cv2.COLOR_BGR2RGB)\n",
        "            self.val_img.append(img)\n",
        "            self.val_coors.append(val_data.iloc[i, 1:].values.tolist())\n",
        "        \n",
        "        for i in tqdm(range(len(test_data))):\n",
        "            path = os.path.join(dataset_path, test_data.loc[i, \"name\"])\n",
        "            img = cv2.imread(path)\n",
        "            img = cv2.cvtColor(img, cv2.COLOR_BGR2RGB)\n",
        "            self.test_img.append(img)\n",
        "            self.test_coors.append(test_data.iloc[i, 1:].values.tolist())\n",
        "        \n",
        "        return (np.array(self.train_img), np.array(self.train_coors), \n",
        "                np.array(self.val_img), np.array(self.val_coors), \n",
        "                np.array(self.test_img), np.array(self.test_coors))"
      ],
      "execution_count": null,
      "outputs": []
    },
    {
      "cell_type": "code",
      "metadata": {
        "id": "0kruAbAEAmD9"
      },
      "source": [
        "obj = data_split(data)\n",
        "x_train, y_train, x_val, y_val, x_test, y_test = obj.split(train_percent=0.78, val_percent=0.71)"
      ],
      "execution_count": null,
      "outputs": []
    },
    {
      "cell_type": "code",
      "metadata": {
        "id": "2sY4QtisETOE"
      },
      "source": [
        "print(x_train.shape)\n",
        "print(y_train.shape)\n",
        "print(x_val.shape)\n",
        "print(y_val.shape)\n",
        "print(x_test.shape)\n",
        "print(y_test.shape)"
      ],
      "execution_count": null,
      "outputs": []
    },
    {
      "cell_type": "markdown",
      "metadata": {
        "id": "bCzax5BJGNh-"
      },
      "source": [
        "## Model Training"
      ]
    },
    {
      "cell_type": "markdown",
      "metadata": {
        "id": "O2j1tU-jGbLl"
      },
      "source": [
        "### Callbacks"
      ]
    },
    {
      "cell_type": "code",
      "metadata": {
        "id": "RP1wYdSaGCXo"
      },
      "source": [
        "class myCallback(tf.keras.callbacks.Callback):\n",
        "    def on_epoch_end(self, epoch, logs={}):\n",
        "        if(logs.get('accuracy') > 0.990):\n",
        "            print(\"\\nReached 99.0% accuracy so cancelling training!\")\n",
        "            self.model.stop_training = True\n",
        "\n",
        "LR_reduce = ReduceLROnPlateau(monitor='val_accuracy' , factor=.5 , patience=6 , min_lr=.000001 , verbose=1)\n",
        "\n",
        "ES_monitor = EarlyStopping(monitor='val_loss' , patience=5)\n",
        "\n",
        "callbacks = myCallback()"
      ],
      "execution_count": null,
      "outputs": []
    },
    {
      "cell_type": "code",
      "metadata": {
        "id": "Q3deGlbeGYuE"
      },
      "source": [
        "tf.keras.backend.clear_session()\n",
        "tf.random.set_seed(0)\n",
        "tf.compat.v1.set_random_seed(0)\n",
        "np.random.seed(0)\n",
        "\n",
        "pre_trained_model = ResNet152V2(input_shape = (350, 350, 3), include_top = False, weights = 'imagenet')\n",
        "\n",
        "for layer in pre_trained_model.layers:\n",
        "    layer.trainable = False\n",
        "\n",
        "pre_trained_model.summary()"
      ],
      "execution_count": null,
      "outputs": []
    },
    {
      "cell_type": "code",
      "metadata": {
        "id": "sObYg2NhYMqQ"
      },
      "source": [
        "last_layer = pre_trained_model.get_layer('multiply_18')\n",
        "last_output = last_layer.output\n",
        "\n",
        "x = Flatten()(last_output)\n",
        "x = Dense(500)(x)\n",
        "x = LeakyReLU(alpha=0.1)(x)\n",
        "x = BatchNormalization(momentum=0.9, epsilon=1e-5, gamma_initializer=\"uniform\")(x)\n",
        "x = Dropout(0.25)(x)\n",
        "\n",
        "x = Dense(500)(x)\n",
        "x = LeakyReLU(alpha=0.1)(x)\n",
        "x = BatchNormalization(momentum=0.9, epsilon=1e-5, gamma_initializer=\"uniform\")(x)\n",
        "x = Dropout(0.25)(x)\n",
        "\n",
        "x = Dense(500)(x)\n",
        "x = LeakyReLU(alpha=0.1)(x)\n",
        "x = BatchNormalization(momentum=0.9, epsilon=1e-5, gamma_initializer=\"uniform\")(x)\n",
        "x = Dropout(0.25)(x)\n",
        "\n",
        "x = layers.Dense(4, activation='linear')(x)\n",
        "\n",
        "model = Model(pre_trained_model.input, x)\n",
        "model.compile(optimizer=Adadelta(), loss=\"mean_squared_error\", metrics=['accuracy'])"
      ],
      "execution_count": null,
      "outputs": []
    },
    {
      "cell_type": "code",
      "metadata": {
        "id": "vQNI5UpeGYzr",
        "colab": {
          "base_uri": "https://localhost:8080/"
        },
        "outputId": "7b4189bd-719b-4b88-f5bf-bdb50a6640c4"
      },
      "source": [
        "history = model.fit(x=x_train, y=y_train, validation_data=(x_val, y_val), validation_batch_size=5,\n",
        "                    epochs=30, verbose=1, batch_size=5, callbacks=[LR_reduce, ES_monitor, callbacks])"
      ],
      "execution_count": null,
      "outputs": [
        {
          "output_type": "stream",
          "text": [
            "Epoch 1/30\n",
            "  6/405 [..............................] - ETA: 18s - loss: 42586.2090 - accuracy: 0.3039WARNING:tensorflow:Callback method `on_train_batch_end` is slow compared to the batch time (batch time: 0.0124s vs `on_train_batch_end` time: 0.0328s). Check your callbacks.\n",
            "405/405 [==============================] - 27s 55ms/step - loss: 41831.6816 - accuracy: 0.2537 - val_loss: 40949.4062 - val_accuracy: 0.2626\n",
            "Epoch 2/30\n",
            "405/405 [==============================] - 21s 52ms/step - loss: 42217.1623 - accuracy: 0.2693 - val_loss: 40942.0742 - val_accuracy: 0.2532\n",
            "Epoch 3/30\n",
            "405/405 [==============================] - 21s 51ms/step - loss: 41330.9208 - accuracy: 0.2973 - val_loss: 40939.0430 - val_accuracy: 0.3309\n",
            "Epoch 4/30\n",
            "405/405 [==============================] - 21s 51ms/step - loss: 42285.5790 - accuracy: 0.2897 - val_loss: 40932.2734 - val_accuracy: 0.3761\n",
            "Epoch 5/30\n",
            "405/405 [==============================] - 21s 52ms/step - loss: 42082.4315 - accuracy: 0.3282 - val_loss: 40923.7422 - val_accuracy: 0.3603\n",
            "Epoch 6/30\n",
            "405/405 [==============================] - 21s 51ms/step - loss: 41716.3684 - accuracy: 0.3672 - val_loss: 40918.0117 - val_accuracy: 0.3971\n",
            "Epoch 7/30\n",
            "405/405 [==============================] - 21s 51ms/step - loss: 41489.5746 - accuracy: 0.4199 - val_loss: 40905.1562 - val_accuracy: 0.4202\n",
            "Epoch 8/30\n",
            "405/405 [==============================] - 21s 51ms/step - loss: 41428.5145 - accuracy: 0.3974 - val_loss: 40885.8945 - val_accuracy: 0.4443\n",
            "Epoch 9/30\n",
            "405/405 [==============================] - 21s 51ms/step - loss: 41742.6193 - accuracy: 0.4671 - val_loss: 40853.1367 - val_accuracy: 0.5231\n",
            "Epoch 10/30\n",
            "405/405 [==============================] - 21s 51ms/step - loss: 41327.5368 - accuracy: 0.4711 - val_loss: 40810.5742 - val_accuracy: 0.5032\n",
            "Epoch 11/30\n",
            "405/405 [==============================] - 21s 51ms/step - loss: 42231.3719 - accuracy: 0.5208 - val_loss: 40749.1992 - val_accuracy: 0.5735\n",
            "Epoch 12/30\n",
            "405/405 [==============================] - 21s 51ms/step - loss: 41683.4753 - accuracy: 0.5080 - val_loss: 40669.8477 - val_accuracy: 0.5168\n",
            "Epoch 13/30\n",
            "405/405 [==============================] - 21s 51ms/step - loss: 41185.6327 - accuracy: 0.4685 - val_loss: 40564.5859 - val_accuracy: 0.4695\n",
            "Epoch 14/30\n",
            "405/405 [==============================] - 21s 51ms/step - loss: 41776.9738 - accuracy: 0.4309 - val_loss: 40442.1367 - val_accuracy: 0.4391\n",
            "Epoch 15/30\n",
            "405/405 [==============================] - 21s 51ms/step - loss: 41294.5364 - accuracy: 0.4614 - val_loss: 40289.6211 - val_accuracy: 0.4370\n",
            "Epoch 16/30\n",
            "405/405 [==============================] - 21s 51ms/step - loss: 41425.2217 - accuracy: 0.4462 - val_loss: 40120.6289 - val_accuracy: 0.4370\n",
            "Epoch 17/30\n",
            "405/405 [==============================] - 21s 51ms/step - loss: 41057.7737 - accuracy: 0.4355 - val_loss: 39942.1367 - val_accuracy: 0.4370\n",
            "\n",
            "Epoch 00017: ReduceLROnPlateau reducing learning rate to 0.0005000000237487257.\n",
            "Epoch 18/30\n",
            "405/405 [==============================] - 21s 51ms/step - loss: 41320.1410 - accuracy: 0.4459 - val_loss: 39849.2891 - val_accuracy: 0.4370\n",
            "Epoch 19/30\n",
            "405/405 [==============================] - 21s 51ms/step - loss: 40946.1254 - accuracy: 0.4493 - val_loss: 39768.6211 - val_accuracy: 0.4370\n",
            "Epoch 20/30\n",
            "405/405 [==============================] - 21s 51ms/step - loss: 40459.4234 - accuracy: 0.4638 - val_loss: 39686.8984 - val_accuracy: 0.4370\n",
            "Epoch 21/30\n",
            "405/405 [==============================] - 21s 51ms/step - loss: 40570.2573 - accuracy: 0.4348 - val_loss: 39611.1289 - val_accuracy: 0.4370\n",
            "Epoch 22/30\n",
            "405/405 [==============================] - 21s 51ms/step - loss: 40387.6038 - accuracy: 0.4624 - val_loss: 39538.3398 - val_accuracy: 0.4370\n",
            "Epoch 23/30\n",
            "405/405 [==============================] - 21s 52ms/step - loss: 40302.7559 - accuracy: 0.4737 - val_loss: 39475.1562 - val_accuracy: 0.4370\n",
            "\n",
            "Epoch 00023: ReduceLROnPlateau reducing learning rate to 0.0002500000118743628.\n",
            "Epoch 24/30\n",
            "405/405 [==============================] - 21s 51ms/step - loss: 40558.9244 - accuracy: 0.4297 - val_loss: 39447.8633 - val_accuracy: 0.4370\n",
            "Epoch 25/30\n",
            "405/405 [==============================] - 21s 51ms/step - loss: 40574.8602 - accuracy: 0.4561 - val_loss: 39426.5156 - val_accuracy: 0.4370\n",
            "Epoch 26/30\n",
            "405/405 [==============================] - 21s 52ms/step - loss: 39945.5933 - accuracy: 0.4411 - val_loss: 39397.8867 - val_accuracy: 0.4370\n",
            "Epoch 27/30\n",
            "405/405 [==============================] - 21s 51ms/step - loss: 40368.7992 - accuracy: 0.4511 - val_loss: 39381.3164 - val_accuracy: 0.4370\n",
            "Epoch 28/30\n",
            "405/405 [==============================] - 21s 51ms/step - loss: 40324.5886 - accuracy: 0.4578 - val_loss: 39355.7344 - val_accuracy: 0.4370\n",
            "Epoch 29/30\n",
            "405/405 [==============================] - 21s 51ms/step - loss: 39948.7485 - accuracy: 0.4628 - val_loss: 39343.2148 - val_accuracy: 0.4370\n",
            "\n",
            "Epoch 00029: ReduceLROnPlateau reducing learning rate to 0.0001250000059371814.\n",
            "Epoch 30/30\n",
            "405/405 [==============================] - 21s 51ms/step - loss: 39910.0625 - accuracy: 0.4528 - val_loss: 39327.6250 - val_accuracy: 0.4370\n"
          ],
          "name": "stdout"
        }
      ]
    },
    {
      "cell_type": "code",
      "metadata": {
        "colab": {
          "base_uri": "https://localhost:8080/",
          "height": 545
        },
        "id": "NFkrDzycItQA",
        "outputId": "f493f939-98a0-41a7-87ea-a365b4e6837b"
      },
      "source": [
        "acc = history.history['accuracy']\n",
        "val_acc = history.history['val_accuracy']\n",
        "loss = history.history['loss']\n",
        "val_loss = history.history['val_loss']\n",
        "\n",
        "epochs = range(len(acc))\n",
        "\n",
        "plt.plot(epochs, acc, 'r', label='Training accuracy')\n",
        "plt.plot(epochs, val_acc, 'b', label='Validation accuracy')\n",
        "plt.title('Training and validation accuracy')\n",
        "plt.legend()\n",
        "\n",
        "plt.figure()\n",
        "\n",
        "plt.plot(epochs, loss, 'r', label='Training Loss')\n",
        "plt.plot(epochs, val_loss, 'b', label='Validation Loss')\n",
        "plt.title('Training and validation loss')\n",
        "plt.legend()\n",
        "\n",
        "plt.show()"
      ],
      "execution_count": null,
      "outputs": [
        {
          "output_type": "display_data",
          "data": {
            "image/png": "[encoded data removed]",
            "text/plain": [
              "<Figure size 432x288 with 1 Axes>"
            ]
          },
          "metadata": {
            "tags": [],
            "needs_background": "light"
          }
        },
        {
          "output_type": "display_data",
          "data": {
            "image/png": "[encoded data removed]",
            "text/plain": [
              "<Figure size 432x288 with 1 Axes>"
            ]
          },
          "metadata": {
            "tags": [],
            "needs_background": "light"
          }
        }
      ]
    },
    {
      "cell_type": "markdown",
      "metadata": {
        "id": "pm_kVjz8q-Q1"
      },
      "source": [
        "## Testing"
      ]
    },
    {
      "cell_type": "code",
      "metadata": {
        "id": "y4N0goSV7Xtb",
        "colab": {
          "base_uri": "https://localhost:8080/"
        },
        "outputId": "e0ef23a6-e557-458d-a8ad-1bff6143b5ca"
      },
      "source": [
        "predictions = model.predict(x_test)\n",
        "rmse = mean_squared_error(y_test, predictions, squared=False)\n",
        "print(f\"RMSE --> {rmse:.02f}\")"
      ],
      "execution_count": null,
      "outputs": [
        {
          "output_type": "stream",
          "text": [
            "RMSE --> 199.97\n"
          ],
          "name": "stdout"
        }
      ]
    },
    {
      "cell_type": "code",
      "metadata": {
        "id": "_u7Phuz_q_rf"
      },
      "source": [
        ""
      ],
      "execution_count": null,
      "outputs": []
    }
  ]
}