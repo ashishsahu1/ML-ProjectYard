{
  "nbformat": 4,
  "nbformat_minor": 0,
  "metadata": {
    "accelerator": "GPU",
    "colab": {
      "name": "ClassificationBusinessAnalytics.ipynb",
      "provenance": [],
      "collapsed_sections": []
    },
    "kernelspec": {
      "display_name": "Python 3",
      "name": "python3"
    },
    "language_info": {
      "name": "python"
    }
  },
  "cells": [
    {
      "cell_type": "markdown",
      "metadata": {
        "id": "6QHuFd-JlTSf"
      },
      "source": [
        "The objective here is to develop a machine learning model on bussiness prospective to classifies arguments about the mental health challenges that a person struggle with. The four categories are depression, suicide, alchoholism, and drug abuse."
      ]
    },
    {
      "cell_type": "code",
      "metadata": {
        "colab": {
          "base_uri": "https://localhost:8080/"
        },
        "id": "c8hqsEECmcIE",
        "outputId": "5522b2d5-9f3a-427b-f7c4-07dfa0e3959b"
      },
      "source": [
        "import pandas as pd\n",
        "import numpy as np\n",
        "import matplotlib.pyplot as plt\n",
        "%matplotlib inline\n",
        "import os\n",
        "import random\n",
        "from sklearn.feature_extraction.text import CountVectorizer,TfidfVectorizer\n",
        "from sklearn.naive_bayes import MultinomialNB,CategoricalNB\n",
        "import nltk\n",
        "nltk.download('stopwords')\n",
        "nltk.download('punkt')\n",
        "import re\n",
        "from nltk.corpus import stopwords\n",
        "import string\n",
        "from sklearn import preprocessing\n",
        "from sklearn.neural_network import MLPClassifier\n",
        "from sklearn.preprocessing import StandardScaler\n",
        "from sklearn.manifold import TSNE\n",
        "import seaborn as sns\n",
        "from nltk.stem import SnowballStemmer as sno\n",
        "from nltk.stem.porter import PorterStemmer\n",
        "from sklearn.metrics import log_loss\n",
        "from sklearn.linear_model import LogisticRegression,SGDClassifier\n",
        "from sklearn import svm\n",
        "from sklearn.tree import DecisionTreeClassifier\n",
        "from sklearn.model_selection import cross_val_score,cross_validate,GridSearchCV,train_test_split\n",
        "from sklearn.ensemble import RandomForestClassifier,AdaBoostClassifier,VotingClassifier\n",
        "from xgboost import XGBClassifier\n",
        "from sklearn.neighbors import KNeighborsClassifier\n",
        "from sklearn.multiclass import OneVsRestClassifier\n",
        "from sklearn.decomposition import TruncatedSVD"
      ],
      "execution_count": 1,
      "outputs": [
        {
          "output_type": "stream",
          "text": [
            "[nltk_data] Downloading package stopwords to /root/nltk_data...\n",
            "[nltk_data]   Unzipping corpora/stopwords.zip.\n",
            "[nltk_data] Downloading package punkt to /root/nltk_data...\n",
            "[nltk_data]   Unzipping tokenizers/punkt.zip.\n"
          ],
          "name": "stdout"
        }
      ]
    },
    {
      "cell_type": "markdown",
      "metadata": {
        "id": "-W4sGjPlrLKI"
      },
      "source": [
        "**Upload Data**"
      ]
    },
    {
      "cell_type": "code",
      "metadata": {
        "id": "ABDfIkWtvftS"
      },
      "source": [
        "train=pd.read_csv('Train.csv')\n",
        "test=pd.read_csv('Test.csv')"
      ],
      "execution_count": 2,
      "outputs": []
    },
    {
      "cell_type": "markdown",
      "metadata": {
        "id": "bavr72L_rQPG"
      },
      "source": [
        "**Data Exploration:**"
      ]
    },
    {
      "cell_type": "code",
      "metadata": {
        "colab": {
          "base_uri": "https://localhost:8080/"
        },
        "id": "CN4g_v5nwIgb",
        "outputId": "cc4638aa-6341-4683-f693-16db820534d7"
      },
      "source": [
        "train.shape"
      ],
      "execution_count": 3,
      "outputs": [
        {
          "output_type": "execute_result",
          "data": {
            "text/plain": [
              "(616, 3)"
            ]
          },
          "metadata": {
            "tags": []
          },
          "execution_count": 3
        }
      ]
    },
    {
      "cell_type": "code",
      "metadata": {
        "colab": {
          "base_uri": "https://localhost:8080/"
        },
        "id": "zrJO8MY2wJyq",
        "outputId": "dd6cdcd3-dd3e-48c2-8a14-dc01e68f8b09"
      },
      "source": [
        "test.shape"
      ],
      "execution_count": 4,
      "outputs": [
        {
          "output_type": "execute_result",
          "data": {
            "text/plain": [
              "(309, 2)"
            ]
          },
          "metadata": {
            "tags": []
          },
          "execution_count": 4
        }
      ]
    },
    {
      "cell_type": "code",
      "metadata": {
        "colab": {
          "base_uri": "https://localhost:8080/",
          "height": 264
        },
        "id": "42YW2i0fwM8-",
        "outputId": "7b8db4fe-b71f-4260-e410-7ef0efaecf50"
      },
      "source": [
        "print('Train shape:',train.shape,'and number of null values are:',train.isnull().sum())\n",
        "train.head()"
      ],
      "execution_count": 5,
      "outputs": [
        {
          "output_type": "stream",
          "text": [
            "Train shape: (616, 3) and number of null values are: ID       0\n",
            "text     0\n",
            "label    0\n",
            "dtype: int64\n"
          ],
          "name": "stdout"
        },
        {
          "output_type": "execute_result",
          "data": {
            "text/html": [
              "<div>\n",
              "<style scoped>\n",
              "    .dataframe tbody tr th:only-of-type {\n",
              "        vertical-align: middle;\n",
              "    }\n",
              "\n",
              "    .dataframe tbody tr th {\n",
              "        vertical-align: top;\n",
              "    }\n",
              "\n",
              "    .dataframe thead th {\n",
              "        text-align: right;\n",
              "    }\n",
              "</style>\n",
              "<table border=\"1\" class=\"dataframe\">\n",
              "  <thead>\n",
              "    <tr style=\"text-align: right;\">\n",
              "      <th></th>\n",
              "      <th>ID</th>\n",
              "      <th>text</th>\n",
              "      <th>label</th>\n",
              "    </tr>\n",
              "  </thead>\n",
              "  <tbody>\n",
              "    <tr>\n",
              "      <th>0</th>\n",
              "      <td>SUAVK39Z</td>\n",
              "      <td>I feel that it was better I dieAm happy</td>\n",
              "      <td>Depression</td>\n",
              "    </tr>\n",
              "    <tr>\n",
              "      <th>1</th>\n",
              "      <td>9JDAGUV3</td>\n",
              "      <td>Why do I get hallucinations?</td>\n",
              "      <td>Drugs</td>\n",
              "    </tr>\n",
              "    <tr>\n",
              "      <th>2</th>\n",
              "      <td>419WR1LQ</td>\n",
              "      <td>I am stresseed due to lack of financial suppor...</td>\n",
              "      <td>Depression</td>\n",
              "    </tr>\n",
              "    <tr>\n",
              "      <th>3</th>\n",
              "      <td>6UY7DX6Q</td>\n",
              "      <td>Why is life important?</td>\n",
              "      <td>Suicide</td>\n",
              "    </tr>\n",
              "    <tr>\n",
              "      <th>4</th>\n",
              "      <td>FYC0FTFB</td>\n",
              "      <td>How could I be helped to go through the depres...</td>\n",
              "      <td>Depression</td>\n",
              "    </tr>\n",
              "  </tbody>\n",
              "</table>\n",
              "</div>"
            ],
            "text/plain": [
              "         ID                                               text       label\n",
              "0  SUAVK39Z            I feel that it was better I dieAm happy  Depression\n",
              "1  9JDAGUV3                       Why do I get hallucinations?       Drugs\n",
              "2  419WR1LQ  I am stresseed due to lack of financial suppor...  Depression\n",
              "3  6UY7DX6Q                             Why is life important?     Suicide\n",
              "4  FYC0FTFB  How could I be helped to go through the depres...  Depression"
            ]
          },
          "metadata": {
            "tags": []
          },
          "execution_count": 5
        }
      ]
    },
    {
      "cell_type": "code",
      "metadata": {
        "colab": {
          "base_uri": "https://localhost:8080/",
          "height": 247
        },
        "id": "WyrYxzj2wPNC",
        "outputId": "c87eb0d2-1b89-416f-92dc-a49bb7571f13"
      },
      "source": [
        "print('Test shape:',test.shape,'and number of null values are:',test.isnull().sum())\n",
        "test.head()"
      ],
      "execution_count": 6,
      "outputs": [
        {
          "output_type": "stream",
          "text": [
            "Test shape: (309, 2) and number of null values are: ID      0\n",
            "text    0\n",
            "dtype: int64\n"
          ],
          "name": "stdout"
        },
        {
          "output_type": "execute_result",
          "data": {
            "text/html": [
              "<div>\n",
              "<style scoped>\n",
              "    .dataframe tbody tr th:only-of-type {\n",
              "        vertical-align: middle;\n",
              "    }\n",
              "\n",
              "    .dataframe tbody tr th {\n",
              "        vertical-align: top;\n",
              "    }\n",
              "\n",
              "    .dataframe thead th {\n",
              "        text-align: right;\n",
              "    }\n",
              "</style>\n",
              "<table border=\"1\" class=\"dataframe\">\n",
              "  <thead>\n",
              "    <tr style=\"text-align: right;\">\n",
              "      <th></th>\n",
              "      <th>ID</th>\n",
              "      <th>text</th>\n",
              "    </tr>\n",
              "  </thead>\n",
              "  <tbody>\n",
              "    <tr>\n",
              "      <th>0</th>\n",
              "      <td>02V56KMO</td>\n",
              "      <td>How to overcome bad feelings and emotions</td>\n",
              "    </tr>\n",
              "    <tr>\n",
              "      <th>1</th>\n",
              "      <td>03BMGTOK</td>\n",
              "      <td>I feel like giving up in life</td>\n",
              "    </tr>\n",
              "    <tr>\n",
              "      <th>2</th>\n",
              "      <td>03LZVFM6</td>\n",
              "      <td>I was so depressed feel like got no strength t...</td>\n",
              "    </tr>\n",
              "    <tr>\n",
              "      <th>3</th>\n",
              "      <td>0EPULUM5</td>\n",
              "      <td>I feel so low especially since I had no one to...</td>\n",
              "    </tr>\n",
              "    <tr>\n",
              "      <th>4</th>\n",
              "      <td>0GM4C5GD</td>\n",
              "      <td>can i be successful when I am a drug addict?</td>\n",
              "    </tr>\n",
              "  </tbody>\n",
              "</table>\n",
              "</div>"
            ],
            "text/plain": [
              "         ID                                               text\n",
              "0  02V56KMO          How to overcome bad feelings and emotions\n",
              "1  03BMGTOK                     I feel like giving up in life \n",
              "2  03LZVFM6  I was so depressed feel like got no strength t...\n",
              "3  0EPULUM5  I feel so low especially since I had no one to...\n",
              "4  0GM4C5GD       can i be successful when I am a drug addict?"
            ]
          },
          "metadata": {
            "tags": []
          },
          "execution_count": 6
        }
      ]
    },
    {
      "cell_type": "code",
      "metadata": {
        "colab": {
          "base_uri": "https://localhost:8080/",
          "height": 434
        },
        "id": "J3fiG4i9wTM-",
        "outputId": "d8077ec7-235c-41e0-9029-38a3f94e2ac9"
      },
      "source": [
        "import matplotlib.pyplot as plt\n",
        "fig = plt.figure(figsize=(8,6))\n",
        "train.groupby('label').text.count().plot.bar(ylim=0)\n",
        "plt.show()"
      ],
      "execution_count": 7,
      "outputs": [
        {
          "output_type": "display_data",
          "data": {
            "image/png": "[encoded data removed]",
            "text/plain": [
              "<Figure size 576x432 with 1 Axes>"
            ]
          },
          "metadata": {
            "tags": [],
            "needs_background": "light"
          }
        }
      ]
    },
    {
      "cell_type": "markdown",
      "metadata": {
        "id": "qa8nzgy1hSYY"
      },
      "source": [
        "# Text cleaning"
      ]
    },
    {
      "cell_type": "code",
      "metadata": {
        "id": "IhBJ8u_twefi"
      },
      "source": [
        "corpus  = []\n",
        "pstem = PorterStemmer()\n",
        "for i in range(train['text'].shape[0]):\n",
        "    #Remove unwanted words\n",
        "    tweet = re.sub(\"[^a-zA-Z]\", ' ', train['text'][i])\n",
        "    #Transform words to lowercase\n",
        "    tweet = tweet.lower()\n",
        "    tweet = tweet.split()\n",
        "    #Remove stopwords then Stemming it\n",
        "    tweet = [pstem.stem(word) for word in tweet if not word in set(stopwords.words('english'))]\n",
        "    tweet = ' '.join(tweet)\n",
        "    #Append cleaned tweet to corpus\n",
        "    corpus.append(tweet)"
      ],
      "execution_count": 8,
      "outputs": []
    },
    {
      "cell_type": "code",
      "metadata": {
        "colab": {
          "base_uri": "https://localhost:8080/"
        },
        "id": "PPOYCfYJhZ-n",
        "outputId": "62c43f4f-d283-44c9-e626-bd068beca135"
      },
      "source": [
        "stop_words = stopwords.words('english')\n",
        "print(stop_words)"
      ],
      "execution_count": 35,
      "outputs": [
        {
          "output_type": "stream",
          "text": [
            "['i', 'me', 'my', 'myself', 'we', 'our', 'ours', 'ourselves', 'you', \"you're\", \"you've\", \"you'll\", \"you'd\", 'your', 'yours', 'yourself', 'yourselves', 'he', 'him', 'his', 'himself', 'she', \"she's\", 'her', 'hers', 'herself', 'it', \"it's\", 'its', 'itself', 'they', 'them', 'their', 'theirs', 'themselves', 'what', 'which', 'who', 'whom', 'this', 'that', \"that'll\", 'these', 'those', 'am', 'is', 'are', 'was', 'were', 'be', 'been', 'being', 'have', 'has', 'had', 'having', 'do', 'does', 'did', 'doing', 'a', 'an', 'the', 'and', 'but', 'if', 'or', 'because', 'as', 'until', 'while', 'of', 'at', 'by', 'for', 'with', 'about', 'against', 'between', 'into', 'through', 'during', 'before', 'after', 'above', 'below', 'to', 'from', 'up', 'down', 'in', 'out', 'on', 'off', 'over', 'under', 'again', 'further', 'then', 'once', 'here', 'there', 'when', 'where', 'why', 'how', 'all', 'any', 'both', 'each', 'few', 'more', 'most', 'other', 'some', 'such', 'no', 'nor', 'not', 'only', 'own', 'same', 'so', 'than', 'too', 'very', 's', 't', 'can', 'will', 'just', 'don', \"don't\", 'should', \"should've\", 'now', 'd', 'll', 'm', 'o', 're', 've', 'y', 'ain', 'aren', \"aren't\", 'couldn', \"couldn't\", 'didn', \"didn't\", 'doesn', \"doesn't\", 'hadn', \"hadn't\", 'hasn', \"hasn't\", 'haven', \"haven't\", 'isn', \"isn't\", 'ma', 'mightn', \"mightn't\", 'mustn', \"mustn't\", 'needn', \"needn't\", 'shan', \"shan't\", 'shouldn', \"shouldn't\", 'wasn', \"wasn't\", 'weren', \"weren't\", 'won', \"won't\", 'wouldn', \"wouldn't\"]\n"
          ],
          "name": "stdout"
        }
      ]
    },
    {
      "cell_type": "code",
      "metadata": {
        "colab": {
          "base_uri": "https://localhost:8080/"
        },
        "id": "f3i-A2o_wVSA",
        "outputId": "e7d95175-d93c-438e-f0b0-284680c7b596"
      },
      "source": [
        "print(pd.DataFrame(corpus)[0].head())"
      ],
      "execution_count": 9,
      "outputs": [
        {
          "output_type": "stream",
          "text": [
            "0                    feel better dieam happi\n",
            "1                               get hallucin\n",
            "2    stresse due lack financi support school\n",
            "3                                life import\n",
            "4                      could help go depress\n",
            "Name: 0, dtype: object\n"
          ],
          "name": "stdout"
        }
      ]
    },
    {
      "cell_type": "code",
      "metadata": {
        "id": "8wONDWL3wauy"
      },
      "source": [
        "train['clean']=corpus"
      ],
      "execution_count": 10,
      "outputs": []
    },
    {
      "cell_type": "code",
      "metadata": {
        "colab": {
          "base_uri": "https://localhost:8080/",
          "height": 197
        },
        "id": "sRaSe-PwwlX4",
        "outputId": "5a053473-f9ac-44a2-e376-2776d6ca3b6b"
      },
      "source": [
        "train.head(5)"
      ],
      "execution_count": 11,
      "outputs": [
        {
          "output_type": "execute_result",
          "data": {
            "text/html": [
              "<div>\n",
              "<style scoped>\n",
              "    .dataframe tbody tr th:only-of-type {\n",
              "        vertical-align: middle;\n",
              "    }\n",
              "\n",
              "    .dataframe tbody tr th {\n",
              "        vertical-align: top;\n",
              "    }\n",
              "\n",
              "    .dataframe thead th {\n",
              "        text-align: right;\n",
              "    }\n",
              "</style>\n",
              "<table border=\"1\" class=\"dataframe\">\n",
              "  <thead>\n",
              "    <tr style=\"text-align: right;\">\n",
              "      <th></th>\n",
              "      <th>ID</th>\n",
              "      <th>text</th>\n",
              "      <th>label</th>\n",
              "      <th>clean</th>\n",
              "    </tr>\n",
              "  </thead>\n",
              "  <tbody>\n",
              "    <tr>\n",
              "      <th>0</th>\n",
              "      <td>SUAVK39Z</td>\n",
              "      <td>I feel that it was better I dieAm happy</td>\n",
              "      <td>Depression</td>\n",
              "      <td>feel better dieam happi</td>\n",
              "    </tr>\n",
              "    <tr>\n",
              "      <th>1</th>\n",
              "      <td>9JDAGUV3</td>\n",
              "      <td>Why do I get hallucinations?</td>\n",
              "      <td>Drugs</td>\n",
              "      <td>get hallucin</td>\n",
              "    </tr>\n",
              "    <tr>\n",
              "      <th>2</th>\n",
              "      <td>419WR1LQ</td>\n",
              "      <td>I am stresseed due to lack of financial suppor...</td>\n",
              "      <td>Depression</td>\n",
              "      <td>stresse due lack financi support school</td>\n",
              "    </tr>\n",
              "    <tr>\n",
              "      <th>3</th>\n",
              "      <td>6UY7DX6Q</td>\n",
              "      <td>Why is life important?</td>\n",
              "      <td>Suicide</td>\n",
              "      <td>life import</td>\n",
              "    </tr>\n",
              "    <tr>\n",
              "      <th>4</th>\n",
              "      <td>FYC0FTFB</td>\n",
              "      <td>How could I be helped to go through the depres...</td>\n",
              "      <td>Depression</td>\n",
              "      <td>could help go depress</td>\n",
              "    </tr>\n",
              "  </tbody>\n",
              "</table>\n",
              "</div>"
            ],
            "text/plain": [
              "         ID  ...                                    clean\n",
              "0  SUAVK39Z  ...                  feel better dieam happi\n",
              "1  9JDAGUV3  ...                             get hallucin\n",
              "2  419WR1LQ  ...  stresse due lack financi support school\n",
              "3  6UY7DX6Q  ...                              life import\n",
              "4  FYC0FTFB  ...                    could help go depress\n",
              "\n",
              "[5 rows x 4 columns]"
            ]
          },
          "metadata": {
            "tags": []
          },
          "execution_count": 11
        }
      ]
    },
    {
      "cell_type": "code",
      "metadata": {
        "id": "b8ztpDdpwmy8"
      },
      "source": [
        "df=train\n",
        "df['label'] = df['label'].factorize()[0]"
      ],
      "execution_count": 12,
      "outputs": []
    },
    {
      "cell_type": "code",
      "metadata": {
        "colab": {
          "base_uri": "https://localhost:8080/",
          "height": 197
        },
        "id": "kZIe4WC9wu5S",
        "outputId": "35312079-ce40-4fcd-cc7a-075dbf5cb3ae"
      },
      "source": [
        "df.head(5)"
      ],
      "execution_count": 13,
      "outputs": [
        {
          "output_type": "execute_result",
          "data": {
            "text/html": [
              "<div>\n",
              "<style scoped>\n",
              "    .dataframe tbody tr th:only-of-type {\n",
              "        vertical-align: middle;\n",
              "    }\n",
              "\n",
              "    .dataframe tbody tr th {\n",
              "        vertical-align: top;\n",
              "    }\n",
              "\n",
              "    .dataframe thead th {\n",
              "        text-align: right;\n",
              "    }\n",
              "</style>\n",
              "<table border=\"1\" class=\"dataframe\">\n",
              "  <thead>\n",
              "    <tr style=\"text-align: right;\">\n",
              "      <th></th>\n",
              "      <th>ID</th>\n",
              "      <th>text</th>\n",
              "      <th>label</th>\n",
              "      <th>clean</th>\n",
              "    </tr>\n",
              "  </thead>\n",
              "  <tbody>\n",
              "    <tr>\n",
              "      <th>0</th>\n",
              "      <td>SUAVK39Z</td>\n",
              "      <td>I feel that it was better I dieAm happy</td>\n",
              "      <td>0</td>\n",
              "      <td>feel better dieam happi</td>\n",
              "    </tr>\n",
              "    <tr>\n",
              "      <th>1</th>\n",
              "      <td>9JDAGUV3</td>\n",
              "      <td>Why do I get hallucinations?</td>\n",
              "      <td>1</td>\n",
              "      <td>get hallucin</td>\n",
              "    </tr>\n",
              "    <tr>\n",
              "      <th>2</th>\n",
              "      <td>419WR1LQ</td>\n",
              "      <td>I am stresseed due to lack of financial suppor...</td>\n",
              "      <td>0</td>\n",
              "      <td>stresse due lack financi support school</td>\n",
              "    </tr>\n",
              "    <tr>\n",
              "      <th>3</th>\n",
              "      <td>6UY7DX6Q</td>\n",
              "      <td>Why is life important?</td>\n",
              "      <td>2</td>\n",
              "      <td>life import</td>\n",
              "    </tr>\n",
              "    <tr>\n",
              "      <th>4</th>\n",
              "      <td>FYC0FTFB</td>\n",
              "      <td>How could I be helped to go through the depres...</td>\n",
              "      <td>0</td>\n",
              "      <td>could help go depress</td>\n",
              "    </tr>\n",
              "  </tbody>\n",
              "</table>\n",
              "</div>"
            ],
            "text/plain": [
              "         ID  ...                                    clean\n",
              "0  SUAVK39Z  ...                  feel better dieam happi\n",
              "1  9JDAGUV3  ...                             get hallucin\n",
              "2  419WR1LQ  ...  stresse due lack financi support school\n",
              "3  6UY7DX6Q  ...                              life import\n",
              "4  FYC0FTFB  ...                    could help go depress\n",
              "\n",
              "[5 rows x 4 columns]"
            ]
          },
          "metadata": {
            "tags": []
          },
          "execution_count": 13
        }
      ]
    },
    {
      "cell_type": "code",
      "metadata": {
        "colab": {
          "base_uri": "https://localhost:8080/"
        },
        "id": "-NctOxyQwwXK",
        "outputId": "94f5b094-ed50-4416-a6df-c9bfb2187a6b"
      },
      "source": [
        "tfidf = TfidfVectorizer(sublinear_tf=True, min_df=3, norm='l2', encoding='latin-1', ngram_range=(1,2), stop_words='english')\n",
        "features = tfidf.fit_transform(df.clean).toarray()\n",
        "labels = df.label\n",
        "features.shape"
      ],
      "execution_count": 14,
      "outputs": [
        {
          "output_type": "execute_result",
          "data": {
            "text/plain": [
              "(616, 197)"
            ]
          },
          "metadata": {
            "tags": []
          },
          "execution_count": 14
        }
      ]
    },
    {
      "cell_type": "code",
      "metadata": {
        "colab": {
          "base_uri": "https://localhost:8080/"
        },
        "id": "-3Xm9voMw6C9",
        "outputId": "a8e24eb3-7df2-40cd-af2d-74758e078313"
      },
      "source": [
        "terms = tfidf.get_feature_names()\n",
        "# sum tfidf frequency of each term through documents\n",
        "sums =  tfidf.fit_transform(df.clean).sum(axis=0)\n",
        "# connecting term to its sums frequency\n",
        "data = []\n",
        "for col, term in enumerate(terms):\n",
        "    data.append( (term, sums[0,col] ))\n",
        "\n",
        "ranking = pd.DataFrame(data, columns=['term','rank'])\n",
        "print(ranking.sort_values('rank', ascending=False))"
      ],
      "execution_count": 15,
      "outputs": [
        {
          "output_type": "stream",
          "text": [
            "               term       rank\n",
            "61             feel  55.968182\n",
            "38          depress  39.843269\n",
            "3           alcohol  38.381857\n",
            "164            stop  25.785003\n",
            "99             life  24.650437\n",
            "..              ...        ...\n",
            "60              fee   1.510802\n",
            "81          guidanc   1.468479\n",
            "111        low self   1.456892\n",
            "39     depress feel   1.407745\n",
            "66   feel discourag   1.388885\n",
            "\n",
            "[197 rows x 2 columns]\n"
          ],
          "name": "stdout"
        }
      ]
    },
    {
      "cell_type": "code",
      "metadata": {
        "colab": {
          "base_uri": "https://localhost:8080/",
          "height": 197
        },
        "id": "tiZ4kc1zw8SU",
        "outputId": "407186a5-f535-4f59-a74a-7d496ad6ff3a"
      },
      "source": [
        "df.head()"
      ],
      "execution_count": 16,
      "outputs": [
        {
          "output_type": "execute_result",
          "data": {
            "text/html": [
              "<div>\n",
              "<style scoped>\n",
              "    .dataframe tbody tr th:only-of-type {\n",
              "        vertical-align: middle;\n",
              "    }\n",
              "\n",
              "    .dataframe tbody tr th {\n",
              "        vertical-align: top;\n",
              "    }\n",
              "\n",
              "    .dataframe thead th {\n",
              "        text-align: right;\n",
              "    }\n",
              "</style>\n",
              "<table border=\"1\" class=\"dataframe\">\n",
              "  <thead>\n",
              "    <tr style=\"text-align: right;\">\n",
              "      <th></th>\n",
              "      <th>ID</th>\n",
              "      <th>text</th>\n",
              "      <th>label</th>\n",
              "      <th>clean</th>\n",
              "    </tr>\n",
              "  </thead>\n",
              "  <tbody>\n",
              "    <tr>\n",
              "      <th>0</th>\n",
              "      <td>SUAVK39Z</td>\n",
              "      <td>I feel that it was better I dieAm happy</td>\n",
              "      <td>0</td>\n",
              "      <td>feel better dieam happi</td>\n",
              "    </tr>\n",
              "    <tr>\n",
              "      <th>1</th>\n",
              "      <td>9JDAGUV3</td>\n",
              "      <td>Why do I get hallucinations?</td>\n",
              "      <td>1</td>\n",
              "      <td>get hallucin</td>\n",
              "    </tr>\n",
              "    <tr>\n",
              "      <th>2</th>\n",
              "      <td>419WR1LQ</td>\n",
              "      <td>I am stresseed due to lack of financial suppor...</td>\n",
              "      <td>0</td>\n",
              "      <td>stresse due lack financi support school</td>\n",
              "    </tr>\n",
              "    <tr>\n",
              "      <th>3</th>\n",
              "      <td>6UY7DX6Q</td>\n",
              "      <td>Why is life important?</td>\n",
              "      <td>2</td>\n",
              "      <td>life import</td>\n",
              "    </tr>\n",
              "    <tr>\n",
              "      <th>4</th>\n",
              "      <td>FYC0FTFB</td>\n",
              "      <td>How could I be helped to go through the depres...</td>\n",
              "      <td>0</td>\n",
              "      <td>could help go depress</td>\n",
              "    </tr>\n",
              "  </tbody>\n",
              "</table>\n",
              "</div>"
            ],
            "text/plain": [
              "         ID  ...                                    clean\n",
              "0  SUAVK39Z  ...                  feel better dieam happi\n",
              "1  9JDAGUV3  ...                             get hallucin\n",
              "2  419WR1LQ  ...  stresse due lack financi support school\n",
              "3  6UY7DX6Q  ...                              life import\n",
              "4  FYC0FTFB  ...                    could help go depress\n",
              "\n",
              "[5 rows x 4 columns]"
            ]
          },
          "metadata": {
            "tags": []
          },
          "execution_count": 16
        }
      ]
    },
    {
      "cell_type": "code",
      "metadata": {
        "id": "60SLzOAIw_Zx"
      },
      "source": [
        "X_train, X_test, y_train, y_test, indices_train, indices_test = train_test_split(features, labels, df.index, test_size=0.25, random_state=42)"
      ],
      "execution_count": 17,
      "outputs": []
    },
    {
      "cell_type": "markdown",
      "metadata": {
        "id": "gJBIEOs9reCJ"
      },
      "source": [
        "# Model Training"
      ]
    },
    {
      "cell_type": "markdown",
      "metadata": {
        "id": "HSewnuG4hxDP"
      },
      "source": [
        "**Xgboost Model :**"
      ]
    },
    {
      "cell_type": "code",
      "metadata": {
        "id": "gtGiBOa9zZGU"
      },
      "source": [
        "grid_values = {\n",
        "        'max_depth': [3,5,6, 9],\n",
        "        #'subsample': [0.9, 1.0],\n",
        "        'learning_rate':[0.1,0.01,0.5],\n",
        "        'n_estimators':[60,80,100,110],\n",
        "    }"
      ],
      "execution_count": 37,
      "outputs": []
    },
    {
      "cell_type": "code",
      "metadata": {
        "id": "ZizYQxKPzbAy"
      },
      "source": [
        "num_boost_round: [100, 250, 500]\n",
        "eta: [0.05, 0.1, 0.3]\n",
        "learning_rate:[0.1,0.01,0.5]"
      ],
      "execution_count": 38,
      "outputs": []
    },
    {
      "cell_type": "code",
      "metadata": {
        "id": "KCj9bwdL0DRF"
      },
      "source": [
        "model=XGBClassifier(nthread = 4)"
      ],
      "execution_count": 39,
      "outputs": []
    },
    {
      "cell_type": "code",
      "metadata": {
        "colab": {
          "base_uri": "https://localhost:8080/"
        },
        "id": "-FdK5YGs0YrS",
        "outputId": "487096bf-6d77-432d-dc08-c4bf84611091"
      },
      "source": [
        "grid_clf_acc = GridSearchCV(model, param_grid = grid_values,scoring = 'neg_log_loss')\n",
        "grid_clf_acc.fit(features, labels)"
      ],
      "execution_count": 40,
      "outputs": [
        {
          "output_type": "execute_result",
          "data": {
            "text/plain": [
              "GridSearchCV(cv=None, error_score=nan,\n",
              "             estimator=XGBClassifier(base_score=0.5, booster='gbtree',\n",
              "                                     colsample_bylevel=1, colsample_bynode=1,\n",
              "                                     colsample_bytree=1, gamma=0,\n",
              "                                     learning_rate=0.1, max_delta_step=0,\n",
              "                                     max_depth=3, min_child_weight=1,\n",
              "                                     missing=None, n_estimators=100, n_jobs=1,\n",
              "                                     nthread=4, objective='binary:logistic',\n",
              "                                     random_state=0, reg_alpha=0, reg_lambda=1,\n",
              "                                     scale_pos_weight=1, seed=None, silent=None,\n",
              "                                     subsample=1, verbosity=1),\n",
              "             iid='deprecated', n_jobs=None,\n",
              "             param_grid={'learning_rate': [0.1, 0.01, 0.5],\n",
              "                         'max_depth': [3, 5, 6, 9],\n",
              "                         'n_estimators': [60, 80, 100, 110]},\n",
              "             pre_dispatch='2*n_jobs', refit=True, return_train_score=False,\n",
              "             scoring='neg_log_loss', verbose=0)"
            ]
          },
          "metadata": {
            "tags": []
          },
          "execution_count": 40
        }
      ]
    },
    {
      "cell_type": "code",
      "metadata": {
        "id": "W3E7InBNkM8T",
        "colab": {
          "base_uri": "https://localhost:8080/"
        },
        "outputId": "adc369ef-869b-4d40-df1e-52e1fbfe2bf7"
      },
      "source": [
        "grid_clf_acc.best_params_"
      ],
      "execution_count": 41,
      "outputs": [
        {
          "output_type": "execute_result",
          "data": {
            "text/plain": [
              "{'learning_rate': 0.1, 'max_depth': 3, 'n_estimators': 110}"
            ]
          },
          "metadata": {
            "tags": []
          },
          "execution_count": 41
        }
      ]
    },
    {
      "cell_type": "code",
      "metadata": {
        "id": "oMyZCa5_xDud"
      },
      "source": [
        "classifier=XGBClassifier(colsample_bytree= 0.9, max_depth= 6,n_estimators= 80, subsample= 0.9)\n",
        "cv = cross_validate(estimator=classifier, X=features, y=labels,scoring = ('neg_log_loss','accuracy'), cv=3)"
      ],
      "execution_count": 42,
      "outputs": []
    },
    {
      "cell_type": "code",
      "metadata": {
        "colab": {
          "base_uri": "https://localhost:8080/"
        },
        "id": "Xo45uk1jx3xG",
        "outputId": "095f2103-fb0e-406d-f89d-2bac34133e13"
      },
      "source": [
        "np.mean(cv['test_neg_log_loss']),np.mean(cv['test_accuracy'])"
      ],
      "execution_count": 43,
      "outputs": [
        {
          "output_type": "execute_result",
          "data": {
            "text/plain": [
              "(-0.5058571764609002, 0.8213750098666036)"
            ]
          },
          "metadata": {
            "tags": []
          },
          "execution_count": 43
        }
      ]
    },
    {
      "cell_type": "code",
      "metadata": {
        "id": "7WzoQrwWx-zX"
      },
      "source": [
        "p=classifier.fit(X_train,y_train).predict_proba(X_test)"
      ],
      "execution_count": 44,
      "outputs": []
    },
    {
      "cell_type": "code",
      "metadata": {
        "colab": {
          "base_uri": "https://localhost:8080/"
        },
        "id": "ClMBrfePyAWp",
        "outputId": "7c9fa60f-13e1-4812-942e-8e5c95e53baa"
      },
      "source": [
        "log_loss(y_test,p)"
      ],
      "execution_count": 45,
      "outputs": [
        {
          "output_type": "execute_result",
          "data": {
            "text/plain": [
              "0.46335663328056115"
            ]
          },
          "metadata": {
            "tags": []
          },
          "execution_count": 45
        }
      ]
    },
    {
      "cell_type": "code",
      "metadata": {
        "id": "8h944RlnkTBC",
        "colab": {
          "base_uri": "https://localhost:8080/"
        },
        "outputId": "7c41e00c-f5b5-4dec-8ca0-605ed49f11fb"
      },
      "source": [
        "np.mean(cv['test_neg_log_loss']),np.mean(cv['test_accuracy'])"
      ],
      "execution_count": 29,
      "outputs": [
        {
          "output_type": "execute_result",
          "data": {
            "text/plain": [
              "(-0.5058571764609002, 0.8213750098666036)"
            ]
          },
          "metadata": {
            "tags": []
          },
          "execution_count": 29
        }
      ]
    },
    {
      "cell_type": "markdown",
      "metadata": {
        "id": "deJDzZwjiefI"
      },
      "source": [
        "# Testing:"
      ]
    },
    {
      "cell_type": "code",
      "metadata": {
        "id": "dHpUz-RMyEXs"
      },
      "source": [
        "corpus  = []\n",
        "pstem = PorterStemmer()\n",
        "for i in range(test['text'].shape[0]):\n",
        "    #Remove unwanted words\n",
        "    tweet = re.sub(\"[^a-zA-Z]\", ' ', test['text'][i])\n",
        "    #Transform words to lowercase\n",
        "    tweet = tweet.lower()\n",
        "    tweet = tweet.split()\n",
        "    #Remove stopwords then Stemming it\n",
        "    tweet = [pstem.stem(word) for word in tweet if not word in set(stopwords.words('english'))]\n",
        "    tweet = ' '.join(tweet)\n",
        "    #Append cleaned tweet to corpus\n",
        "    corpus.append(tweet)"
      ],
      "execution_count": 48,
      "outputs": []
    },
    {
      "cell_type": "code",
      "metadata": {
        "id": "BuSJIt9ZyF5Y"
      },
      "source": [
        "test['clean']=corpus"
      ],
      "execution_count": 49,
      "outputs": []
    },
    {
      "cell_type": "code",
      "metadata": {
        "id": "XXUnMrjuklLK",
        "colab": {
          "base_uri": "https://localhost:8080/",
          "height": 197
        },
        "outputId": "1434103a-4b19-4221-a805-f6939d7bb8b8"
      },
      "source": [
        "test.head(5)"
      ],
      "execution_count": 50,
      "outputs": [
        {
          "output_type": "execute_result",
          "data": {
            "text/html": [
              "<div>\n",
              "<style scoped>\n",
              "    .dataframe tbody tr th:only-of-type {\n",
              "        vertical-align: middle;\n",
              "    }\n",
              "\n",
              "    .dataframe tbody tr th {\n",
              "        vertical-align: top;\n",
              "    }\n",
              "\n",
              "    .dataframe thead th {\n",
              "        text-align: right;\n",
              "    }\n",
              "</style>\n",
              "<table border=\"1\" class=\"dataframe\">\n",
              "  <thead>\n",
              "    <tr style=\"text-align: right;\">\n",
              "      <th></th>\n",
              "      <th>ID</th>\n",
              "      <th>text</th>\n",
              "      <th>clean</th>\n",
              "    </tr>\n",
              "  </thead>\n",
              "  <tbody>\n",
              "    <tr>\n",
              "      <th>0</th>\n",
              "      <td>02V56KMO</td>\n",
              "      <td>How to overcome bad feelings and emotions</td>\n",
              "      <td>overcom bad feel emot</td>\n",
              "    </tr>\n",
              "    <tr>\n",
              "      <th>1</th>\n",
              "      <td>03BMGTOK</td>\n",
              "      <td>I feel like giving up in life</td>\n",
              "      <td>feel like give life</td>\n",
              "    </tr>\n",
              "    <tr>\n",
              "      <th>2</th>\n",
              "      <td>03LZVFM6</td>\n",
              "      <td>I was so depressed feel like got no strength t...</td>\n",
              "      <td>depress feel like got strength continu</td>\n",
              "    </tr>\n",
              "    <tr>\n",
              "      <th>3</th>\n",
              "      <td>0EPULUM5</td>\n",
              "      <td>I feel so low especially since I had no one to...</td>\n",
              "      <td>feel low especi sinc one talk</td>\n",
              "    </tr>\n",
              "    <tr>\n",
              "      <th>4</th>\n",
              "      <td>0GM4C5GD</td>\n",
              "      <td>can i be successful when I am a drug addict?</td>\n",
              "      <td>success drug addict</td>\n",
              "    </tr>\n",
              "  </tbody>\n",
              "</table>\n",
              "</div>"
            ],
            "text/plain": [
              "         ID  ...                                   clean\n",
              "0  02V56KMO  ...                   overcom bad feel emot\n",
              "1  03BMGTOK  ...                     feel like give life\n",
              "2  03LZVFM6  ...  depress feel like got strength continu\n",
              "3  0EPULUM5  ...           feel low especi sinc one talk\n",
              "4  0GM4C5GD  ...                     success drug addict\n",
              "\n",
              "[5 rows x 3 columns]"
            ]
          },
          "metadata": {
            "tags": []
          },
          "execution_count": 50
        }
      ]
    },
    {
      "cell_type": "code",
      "metadata": {
        "id": "qehu_0rQknl6"
      },
      "source": [
        "features = tfidf.transform(test.clean).toarray()"
      ],
      "execution_count": 51,
      "outputs": []
    },
    {
      "cell_type": "code",
      "metadata": {
        "colab": {
          "base_uri": "https://localhost:8080/"
        },
        "id": "WtsnHWAdkReX",
        "outputId": "1d449fb5-f505-4425-a929-090660532e17"
      },
      "source": [
        "features[0]"
      ],
      "execution_count": 52,
      "outputs": [
        {
          "output_type": "execute_result",
          "data": {
            "text/plain": [
              "array([0.        , 0.        , 0.        , 0.        , 0.        ,\n",
              "       0.        , 0.        , 0.        , 0.        , 0.        ,\n",
              "       0.        , 0.        , 0.        , 0.54246495, 0.        ,\n",
              "       0.        , 0.        , 0.        , 0.        , 0.        ,\n",
              "       0.        , 0.        , 0.        , 0.        , 0.        ,\n",
              "       0.        , 0.        , 0.        , 0.        , 0.        ,\n",
              "       0.        , 0.        , 0.        , 0.        , 0.        ,\n",
              "       0.        , 0.        , 0.        , 0.        , 0.        ,\n",
              "       0.        , 0.        , 0.        , 0.        , 0.        ,\n",
              "       0.        , 0.        , 0.        , 0.        , 0.        ,\n",
              "       0.64911928, 0.        , 0.        , 0.        , 0.        ,\n",
              "       0.        , 0.        , 0.        , 0.        , 0.        ,\n",
              "       0.        , 0.26088672, 0.        , 0.        , 0.        ,\n",
              "       0.        , 0.        , 0.        , 0.        , 0.        ,\n",
              "       0.        , 0.        , 0.        , 0.        , 0.        ,\n",
              "       0.        , 0.        , 0.        , 0.        , 0.        ,\n",
              "       0.        , 0.        , 0.        , 0.        , 0.        ,\n",
              "       0.        , 0.        , 0.        , 0.        , 0.        ,\n",
              "       0.        , 0.        , 0.        , 0.        , 0.        ,\n",
              "       0.        , 0.        , 0.        , 0.        , 0.        ,\n",
              "       0.        , 0.        , 0.        , 0.        , 0.        ,\n",
              "       0.        , 0.        , 0.        , 0.        , 0.        ,\n",
              "       0.        , 0.        , 0.        , 0.        , 0.        ,\n",
              "       0.        , 0.        , 0.        , 0.        , 0.        ,\n",
              "       0.        , 0.        , 0.        , 0.46509576, 0.        ,\n",
              "       0.        , 0.        , 0.        , 0.        , 0.        ,\n",
              "       0.        , 0.        , 0.        , 0.        , 0.        ,\n",
              "       0.        , 0.        , 0.        , 0.        , 0.        ,\n",
              "       0.        , 0.        , 0.        , 0.        , 0.        ,\n",
              "       0.        , 0.        , 0.        , 0.        , 0.        ,\n",
              "       0.        , 0.        , 0.        , 0.        , 0.        ,\n",
              "       0.        , 0.        , 0.        , 0.        , 0.        ,\n",
              "       0.        , 0.        , 0.        , 0.        , 0.        ,\n",
              "       0.        , 0.        , 0.        , 0.        , 0.        ,\n",
              "       0.        , 0.        , 0.        , 0.        , 0.        ,\n",
              "       0.        , 0.        , 0.        , 0.        , 0.        ,\n",
              "       0.        , 0.        , 0.        , 0.        , 0.        ,\n",
              "       0.        , 0.        , 0.        , 0.        , 0.        ,\n",
              "       0.        , 0.        , 0.        , 0.        , 0.        ,\n",
              "       0.        , 0.        ])"
            ]
          },
          "metadata": {
            "tags": []
          },
          "execution_count": 52
        }
      ]
    },
    {
      "cell_type": "code",
      "metadata": {
        "id": "qioQll34kpEc"
      },
      "source": [
        "preds=classifier.predict_proba(features)"
      ],
      "execution_count": 53,
      "outputs": []
    },
    {
      "cell_type": "code",
      "metadata": {
        "id": "AkYboDZIkpej",
        "colab": {
          "base_uri": "https://localhost:8080/"
        },
        "outputId": "39b39e54-8b42-4bb1-c622-469f50f75da7"
      },
      "source": [
        "preds.shape"
      ],
      "execution_count": 54,
      "outputs": [
        {
          "output_type": "execute_result",
          "data": {
            "text/plain": [
              "(309, 4)"
            ]
          },
          "metadata": {
            "tags": []
          },
          "execution_count": 54
        }
      ]
    },
    {
      "cell_type": "code",
      "metadata": {
        "id": "lrcGQMZ0krBU",
        "colab": {
          "base_uri": "https://localhost:8080/"
        },
        "outputId": "5e4494d3-f89d-4236-a459-ba2a7a2d15f3"
      },
      "source": [
        "y=classifier.predict(features)\n",
        "y"
      ],
      "execution_count": 55,
      "outputs": [
        {
          "output_type": "execute_result",
          "data": {
            "text/plain": [
              "array([0, 0, 0, 0, 1, 0, 0, 0, 3, 3, 0, 3, 0, 0, 3, 0, 0, 1, 0, 0, 0, 0,\n",
              "       3, 0, 2, 0, 0, 2, 0, 0, 0, 0, 1, 0, 0, 1, 0, 0, 0, 1, 2, 0, 3, 0,\n",
              "       3, 0, 0, 0, 0, 0, 0, 0, 0, 0, 3, 0, 0, 2, 0, 3, 3, 3, 0, 0, 0, 0,\n",
              "       0, 2, 3, 0, 0, 2, 2, 1, 0, 0, 3, 0, 0, 3, 3, 0, 3, 3, 0, 0, 1, 3,\n",
              "       0, 0, 0, 0, 0, 2, 1, 0, 0, 0, 0, 0, 0, 3, 1, 0, 0, 0, 0, 0, 3, 1,\n",
              "       0, 0, 0, 0, 2, 3, 2, 3, 0, 3, 0, 0, 0, 0, 3, 0, 0, 3, 0, 0, 3, 3,\n",
              "       0, 2, 0, 0, 2, 1, 1, 0, 0, 3, 3, 0, 0, 0, 0, 3, 3, 3, 0, 3, 0, 0,\n",
              "       1, 0, 0, 3, 0, 0, 3, 3, 3, 3, 3, 0, 0, 0, 2, 0, 0, 3, 0, 3, 3, 1,\n",
              "       0, 0, 3, 0, 0, 2, 0, 3, 3, 2, 0, 3, 1, 1, 1, 0, 0, 0, 0, 0, 3, 1,\n",
              "       3, 0, 3, 3, 0, 2, 0, 3, 0, 3, 0, 2, 0, 3, 2, 1, 0, 0, 3, 3, 0, 0,\n",
              "       0, 0, 2, 0, 2, 3, 3, 0, 0, 2, 0, 0, 0, 0, 3, 0, 2, 2, 0, 0, 0, 0,\n",
              "       0, 0, 0, 0, 3, 0, 0, 3, 0, 0, 0, 0, 3, 0, 0, 1, 0, 1, 0, 2, 0, 0,\n",
              "       3, 3, 3, 1, 0, 2, 0, 1, 3, 0, 3, 0, 0, 0, 0, 0, 0, 0, 3, 0, 3, 0,\n",
              "       0, 3, 3, 0, 0, 0, 0, 0, 3, 0, 2, 0, 1, 2, 0, 0, 3, 0, 0, 2, 0, 1,\n",
              "       2])"
            ]
          },
          "metadata": {
            "tags": []
          },
          "execution_count": 55
        }
      ]
    },
    {
      "cell_type": "markdown",
      "metadata": {
        "id": "1yNVtkTsioCx"
      },
      "source": [
        "Submission"
      ]
    },
    {
      "cell_type": "code",
      "metadata": {
        "id": "ihtFfrxlkwTs"
      },
      "source": [
        "sub=pd.read_csv('SampleSubmission.csv')\n",
        "sub['Depression']=preds[:,0]\n",
        "sub['Alcohol']=preds[:,3]\n",
        "sub['Suicide']=preds[:,2]\n",
        "sub['Drugs']=preds[:,1]"
      ],
      "execution_count": 57,
      "outputs": []
    },
    {
      "cell_type": "code",
      "metadata": {
        "id": "fxkZVJ_PkwWe"
      },
      "source": [
        "sub.to_csv('voting(sgd+onevs(svm)).csv',index=False)"
      ],
      "execution_count": 58,
      "outputs": []
    },
    {
      "cell_type": "code",
      "metadata": {
        "id": "criPRM5jkwYy"
      },
      "source": [
        "sub=pd.read_csv('voting(sgd+onevs(svm)).csv')"
      ],
      "execution_count": 60,
      "outputs": []
    },
    {
      "cell_type": "code",
      "metadata": {
        "id": "4ee6vRJokwba",
        "colab": {
          "base_uri": "https://localhost:8080/",
          "height": 227
        },
        "outputId": "9f1c2bfe-9602-4e7b-ded7-f7d6162e2a4f"
      },
      "source": [
        "sub.head(6)"
      ],
      "execution_count": 61,
      "outputs": [
        {
          "output_type": "execute_result",
          "data": {
            "text/html": [
              "<div>\n",
              "<style scoped>\n",
              "    .dataframe tbody tr th:only-of-type {\n",
              "        vertical-align: middle;\n",
              "    }\n",
              "\n",
              "    .dataframe tbody tr th {\n",
              "        vertical-align: top;\n",
              "    }\n",
              "\n",
              "    .dataframe thead th {\n",
              "        text-align: right;\n",
              "    }\n",
              "</style>\n",
              "<table border=\"1\" class=\"dataframe\">\n",
              "  <thead>\n",
              "    <tr style=\"text-align: right;\">\n",
              "      <th></th>\n",
              "      <th>ID</th>\n",
              "      <th>Depression</th>\n",
              "      <th>Alcohol</th>\n",
              "      <th>Suicide</th>\n",
              "      <th>Drugs</th>\n",
              "    </tr>\n",
              "  </thead>\n",
              "  <tbody>\n",
              "    <tr>\n",
              "      <th>0</th>\n",
              "      <td>02V56KMO</td>\n",
              "      <td>0.924330</td>\n",
              "      <td>0.008559</td>\n",
              "      <td>0.059916</td>\n",
              "      <td>0.007195</td>\n",
              "    </tr>\n",
              "    <tr>\n",
              "      <th>1</th>\n",
              "      <td>03BMGTOK</td>\n",
              "      <td>0.969959</td>\n",
              "      <td>0.003236</td>\n",
              "      <td>0.022837</td>\n",
              "      <td>0.003968</td>\n",
              "    </tr>\n",
              "    <tr>\n",
              "      <th>2</th>\n",
              "      <td>03LZVFM6</td>\n",
              "      <td>0.994895</td>\n",
              "      <td>0.001128</td>\n",
              "      <td>0.002592</td>\n",
              "      <td>0.001384</td>\n",
              "    </tr>\n",
              "    <tr>\n",
              "      <th>3</th>\n",
              "      <td>0EPULUM5</td>\n",
              "      <td>0.981663</td>\n",
              "      <td>0.003439</td>\n",
              "      <td>0.010677</td>\n",
              "      <td>0.004220</td>\n",
              "    </tr>\n",
              "    <tr>\n",
              "      <th>4</th>\n",
              "      <td>0GM4C5GD</td>\n",
              "      <td>0.053151</td>\n",
              "      <td>0.338113</td>\n",
              "      <td>0.012354</td>\n",
              "      <td>0.596382</td>\n",
              "    </tr>\n",
              "    <tr>\n",
              "      <th>5</th>\n",
              "      <td>0IYM8BYT</td>\n",
              "      <td>0.643637</td>\n",
              "      <td>0.111424</td>\n",
              "      <td>0.200855</td>\n",
              "      <td>0.044084</td>\n",
              "    </tr>\n",
              "  </tbody>\n",
              "</table>\n",
              "</div>"
            ],
            "text/plain": [
              "         ID  Depression   Alcohol   Suicide     Drugs\n",
              "0  02V56KMO    0.924330  0.008559  0.059916  0.007195\n",
              "1  03BMGTOK    0.969959  0.003236  0.022837  0.003968\n",
              "2  03LZVFM6    0.994895  0.001128  0.002592  0.001384\n",
              "3  0EPULUM5    0.981663  0.003439  0.010677  0.004220\n",
              "4  0GM4C5GD    0.053151  0.338113  0.012354  0.596382\n",
              "5  0IYM8BYT    0.643637  0.111424  0.200855  0.044084"
            ]
          },
          "metadata": {
            "tags": []
          },
          "execution_count": 61
        }
      ]
    },
    {
      "cell_type": "code",
      "metadata": {
        "id": "s4gOq06zkwdn",
        "colab": {
          "base_uri": "https://localhost:8080/"
        },
        "outputId": "34d73912-ea1a-483d-918a-64a63647f06f"
      },
      "source": [
        "log_loss(y,preds)"
      ],
      "execution_count": 62,
      "outputs": [
        {
          "output_type": "execute_result",
          "data": {
            "text/plain": [
              "0.17440983585555192"
            ]
          },
          "metadata": {
            "tags": []
          },
          "execution_count": 62
        }
      ]
    },
    {
      "cell_type": "code",
      "metadata": {
        "id": "Yigrg9ENkwgX",
        "colab": {
          "base_uri": "https://localhost:8080/"
        },
        "outputId": "a2f6a4cf-aeaf-4016-aee7-5d6c0737eeda"
      },
      "source": [
        "log_loss(y,preds)"
      ],
      "execution_count": 63,
      "outputs": [
        {
          "output_type": "execute_result",
          "data": {
            "text/plain": [
              "0.17440983585555192"
            ]
          },
          "metadata": {
            "tags": []
          },
          "execution_count": 63
        }
      ]
    }
  ]
}