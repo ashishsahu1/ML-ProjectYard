{
  "nbformat": 4,
  "nbformat_minor": 0,
  "metadata": {
    "accelerator": "GPU",
    "colab": {
      "name": "AicrowdChessChallenge-Blitz#1.ipynb",
      "provenance": [],
      "collapsed_sections": []
    },
    "kernelspec": {
      "display_name": "Python 3",
      "name": "python3"
    },
    "language_info": {
      "name": "python"
    }
  },
  "cells": [
    {
      "cell_type": "code",
      "metadata": {
        "id": "c3YJ_-YSSWV8"
      },
      "source": [
        "import numpy as np\n",
        "import pandas as pd\n",
        "import matplotlib.pyplot as plt\n",
        "import seaborn as sns\n",
        "import tensorflow as tf\n",
        "import keras\n",
        "from keras.preprocessing import image\n",
        "from keras.models import Sequential\n",
        "from keras.layers import Conv2D, MaxPool2D, Flatten,Dense,Dropout,BatchNormalization\n",
        "from tensorflow.keras.preprocessing.image import ImageDataGenerator\n",
        "import cv2\n",
        "from tensorflow.keras.applications import VGG16, InceptionResNetV2,VGG19\n",
        "from keras import regularizers\n",
        "from tensorflow.keras.optimizers import Adam,RMSprop,SGD,Adamax"
      ],
      "execution_count": 19,
      "outputs": []
    },
    {
      "cell_type": "code",
      "metadata": {
        "colab": {
          "base_uri": "https://localhost:8080/",
          "height": 204
        },
        "id": "pj2fHRY2SqLu",
        "outputId": "64617b96-929c-4224-deb9-a06e0064ab55"
      },
      "source": [
        "train_df = pd.read_csv('/content/data/train.csv')\n",
        "train_df.head()"
      ],
      "execution_count": 6,
      "outputs": [
        {
          "output_type": "execute_result",
          "data": {
            "text/html": [
              "<div>\n",
              "<style scoped>\n",
              "    .dataframe tbody tr th:only-of-type {\n",
              "        vertical-align: middle;\n",
              "    }\n",
              "\n",
              "    .dataframe tbody tr th {\n",
              "        vertical-align: top;\n",
              "    }\n",
              "\n",
              "    .dataframe thead th {\n",
              "        text-align: right;\n",
              "    }\n",
              "</style>\n",
              "<table border=\"1\" class=\"dataframe\">\n",
              "  <thead>\n",
              "    <tr style=\"text-align: right;\">\n",
              "      <th></th>\n",
              "      <th>ImageID</th>\n",
              "      <th>label</th>\n",
              "    </tr>\n",
              "  </thead>\n",
              "  <tbody>\n",
              "    <tr>\n",
              "      <th>0</th>\n",
              "      <td>0</td>\n",
              "      <td>black</td>\n",
              "    </tr>\n",
              "    <tr>\n",
              "      <th>1</th>\n",
              "      <td>1</td>\n",
              "      <td>white</td>\n",
              "    </tr>\n",
              "    <tr>\n",
              "      <th>2</th>\n",
              "      <td>2</td>\n",
              "      <td>black</td>\n",
              "    </tr>\n",
              "    <tr>\n",
              "      <th>3</th>\n",
              "      <td>3</td>\n",
              "      <td>black</td>\n",
              "    </tr>\n",
              "    <tr>\n",
              "      <th>4</th>\n",
              "      <td>4</td>\n",
              "      <td>black</td>\n",
              "    </tr>\n",
              "  </tbody>\n",
              "</table>\n",
              "</div>"
            ],
            "text/plain": [
              "   ImageID  label\n",
              "0        0  black\n",
              "1        1  white\n",
              "2        2  black\n",
              "3        3  black\n",
              "4        4  black"
            ]
          },
          "metadata": {
            "tags": []
          },
          "execution_count": 6
        }
      ]
    },
    {
      "cell_type": "code",
      "metadata": {
        "colab": {
          "base_uri": "https://localhost:8080/",
          "height": 419
        },
        "id": "qQ0iRa35Sy1y",
        "outputId": "237d58e7-9b40-4880-de6e-6b25625eaf52"
      },
      "source": [
        "train_df['ImageID'] = train_df['ImageID'].astype(str)+\".jpg\"\n",
        "train_df"
      ],
      "execution_count": 7,
      "outputs": [
        {
          "output_type": "execute_result",
          "data": {
            "text/html": [
              "<div>\n",
              "<style scoped>\n",
              "    .dataframe tbody tr th:only-of-type {\n",
              "        vertical-align: middle;\n",
              "    }\n",
              "\n",
              "    .dataframe tbody tr th {\n",
              "        vertical-align: top;\n",
              "    }\n",
              "\n",
              "    .dataframe thead th {\n",
              "        text-align: right;\n",
              "    }\n",
              "</style>\n",
              "<table border=\"1\" class=\"dataframe\">\n",
              "  <thead>\n",
              "    <tr style=\"text-align: right;\">\n",
              "      <th></th>\n",
              "      <th>ImageID</th>\n",
              "      <th>label</th>\n",
              "    </tr>\n",
              "  </thead>\n",
              "  <tbody>\n",
              "    <tr>\n",
              "      <th>0</th>\n",
              "      <td>0.jpg</td>\n",
              "      <td>black</td>\n",
              "    </tr>\n",
              "    <tr>\n",
              "      <th>1</th>\n",
              "      <td>1.jpg</td>\n",
              "      <td>white</td>\n",
              "    </tr>\n",
              "    <tr>\n",
              "      <th>2</th>\n",
              "      <td>2.jpg</td>\n",
              "      <td>black</td>\n",
              "    </tr>\n",
              "    <tr>\n",
              "      <th>3</th>\n",
              "      <td>3.jpg</td>\n",
              "      <td>black</td>\n",
              "    </tr>\n",
              "    <tr>\n",
              "      <th>4</th>\n",
              "      <td>4.jpg</td>\n",
              "      <td>black</td>\n",
              "    </tr>\n",
              "    <tr>\n",
              "      <th>...</th>\n",
              "      <td>...</td>\n",
              "      <td>...</td>\n",
              "    </tr>\n",
              "    <tr>\n",
              "      <th>39995</th>\n",
              "      <td>39995.jpg</td>\n",
              "      <td>black</td>\n",
              "    </tr>\n",
              "    <tr>\n",
              "      <th>39996</th>\n",
              "      <td>39996.jpg</td>\n",
              "      <td>white</td>\n",
              "    </tr>\n",
              "    <tr>\n",
              "      <th>39997</th>\n",
              "      <td>39997.jpg</td>\n",
              "      <td>black</td>\n",
              "    </tr>\n",
              "    <tr>\n",
              "      <th>39998</th>\n",
              "      <td>39998.jpg</td>\n",
              "      <td>white</td>\n",
              "    </tr>\n",
              "    <tr>\n",
              "      <th>39999</th>\n",
              "      <td>39999.jpg</td>\n",
              "      <td>white</td>\n",
              "    </tr>\n",
              "  </tbody>\n",
              "</table>\n",
              "<p>40000 rows × 2 columns</p>\n",
              "</div>"
            ],
            "text/plain": [
              "         ImageID  label\n",
              "0          0.jpg  black\n",
              "1          1.jpg  white\n",
              "2          2.jpg  black\n",
              "3          3.jpg  black\n",
              "4          4.jpg  black\n",
              "...          ...    ...\n",
              "39995  39995.jpg  black\n",
              "39996  39996.jpg  white\n",
              "39997  39997.jpg  black\n",
              "39998  39998.jpg  white\n",
              "39999  39999.jpg  white\n",
              "\n",
              "[40000 rows x 2 columns]"
            ]
          },
          "metadata": {
            "tags": []
          },
          "execution_count": 7
        }
      ]
    },
    {
      "cell_type": "code",
      "metadata": {
        "id": "o8EzUFf705GG"
      },
      "source": [
        "train_df['label'] = train_df['label'].astype('string')\n",
        "train_df['ImageID'] = train_df['ImageID'].astype('string')"
      ],
      "execution_count": 8,
      "outputs": []
    },
    {
      "cell_type": "code",
      "metadata": {
        "id": "_J9Ef9_3Xu4M"
      },
      "source": [
        "train_path = '/content/data/train'\n",
        "validation_path = '/content/data/val'\n",
        "test_path = '/content/data/test'"
      ],
      "execution_count": 9,
      "outputs": []
    },
    {
      "cell_type": "code",
      "metadata": {
        "id": "stGV50XkZCyF"
      },
      "source": [
        "train_datagen = image.ImageDataGenerator(rescale=1./255,\n",
        "                                         zoom_range = 0.1,\n",
        "                                         horizontal_flip = True,\n",
        "                                         validation_split = 0.2)\n",
        "validation_datagen = image.ImageDataGenerator(rescale = 1./255,\n",
        "                                        validation_split = 0.2)"
      ],
      "execution_count": 10,
      "outputs": []
    },
    {
      "cell_type": "code",
      "metadata": {
        "colab": {
          "base_uri": "https://localhost:8080/"
        },
        "id": "l7oWSRTXbmTv",
        "outputId": "8b27636a-d61d-47f7-d2ea-304d1265aa87"
      },
      "source": [
        "train_generator = train_datagen.flow_from_dataframe(dataframe=train_df,\n",
        "                                                    directory = train_path,x_col = 'ImageID',\n",
        "                                                    y_col = 'label',\n",
        "                                                    target_size = (224,224),\n",
        "           color_mode = 'rgb',class_mode = 'categorical',batch_size = 32,subset = 'training')\n",
        "val_generator = validation_datagen.flow_from_dataframe(dataframe = train_df,\n",
        "                                                   directory = validation_path,\n",
        "                                                   x_col = 'ImageID',\n",
        "                                                   y_col = 'label',\n",
        "                                                   target_size = (224,224),\n",
        "                                                   color_mode = \"rgb\",\n",
        "                                                   class_mode = \"categorical\",\n",
        "                                                   batch_size = 32,\n",
        "                                                   subset = 'validation')           "
      ],
      "execution_count": 11,
      "outputs": [
        {
          "output_type": "stream",
          "text": [
            "Found 32000 validated image filenames belonging to 2 classes.\n",
            "Found 800 validated image filenames belonging to 2 classes.\n"
          ],
          "name": "stdout"
        },
        {
          "output_type": "stream",
          "text": [
            "/usr/local/lib/python3.7/dist-packages/keras_preprocessing/image/dataframe_iterator.py:282: UserWarning: Found 36000 invalid image filename(s) in x_col=\"ImageID\". These filename(s) will be ignored.\n",
            "  .format(n_invalid, x_col)\n"
          ],
          "name": "stderr"
        }
      ]
    },
    {
      "cell_type": "code",
      "metadata": {
        "id": "m4Qls5UagpAm"
      },
      "source": [
        "\"\"\"model = tf.keras.models.Sequential([\n",
        "    tf.keras.layers.Conv2D(64, (3,3), activation='relu',padding = 'Same', input_shape=(254, 254, 3)),\n",
        "    tf.keras.layers.BatchNormalization(),\n",
        "    tf.keras.layers.MaxPooling2D(2, 2),\n",
        "    tf.keras.layers.Dropout(0.25),\n",
        "\n",
        "    tf.keras.layers.Conv2D(128, (3,3), activation='relu',padding = 'Same'),\n",
        "    tf.keras.layers.BatchNormalization(),\n",
        "    tf.keras.layers.MaxPooling2D(2,2),\n",
        "    tf.keras.layers.Dropout(0.25),\n",
        "\n",
        "    tf.keras.layers.Conv2D(256, (3,3), activation='relu',padding = 'Same'),\n",
        "    tf.keras.layers.BatchNormalization(),\n",
        "    tf.keras.layers.MaxPooling2D(2,2),\n",
        "    tf.keras.layers.Dropout(0.25),\n",
        "\n",
        "    tf.keras.layers.Conv2D(256, (3,3), activation='relu',padding = 'Same'),\n",
        "    tf.keras.layers.BatchNormalization(),\n",
        "    tf.keras.layers.MaxPooling2D(2,2),\n",
        "    tf.keras.layers.Dropout(0.25),\n",
        "\n",
        "    tf.keras.layers.Flatten(),\n",
        "    tf.keras.layers.Dense(512, activation='relu'),\n",
        "    tf.keras.layers.BatchNormalization(),\n",
        "    tf.keras.layers.Dropout(0.5),\n",
        "    tf.keras.layers.Dense(2, activation='softmax')\n",
        "])\"\"\""
      ],
      "execution_count": 12,
      "outputs": []
    },
    {
      "cell_type": "code",
      "metadata": {
        "id": "uq8uQPoRfk4c",
        "colab": {
          "base_uri": "https://localhost:8080/"
        },
        "outputId": "d58af3bb-3d80-4e54-c4b4-f0794a8355f8"
      },
      "source": [
        "model = tf.keras.Sequential()\n",
        "model.add(InceptionResNetV2(include_top = False,weights = 'imagenet',input_shape= (224,224,3)))\n",
        "model.add(BatchNormalization())\n",
        "model.add(Flatten())\n",
        "model.add(Dense(2,activation = 'softmax'))"
      ],
      "execution_count": 28,
      "outputs": [
        {
          "output_type": "stream",
          "text": [
            "Downloading data from https://storage.googleapis.com/tensorflow/keras-applications/inception_resnet_v2/inception_resnet_v2_weights_tf_dim_ordering_tf_kernels_notop.h5\n",
            "219062272/219055592 [==============================] - 4s 0us/step\n"
          ],
          "name": "stdout"
        }
      ]
    },
    {
      "cell_type": "code",
      "metadata": {
        "id": "3Mkmg-XEja-n"
      },
      "source": [
        "from tensorflow.keras.optimizers import RMSprop,Adam\n",
        "optimizer = Adam(lr = 0.001)\n",
        "model.compile(loss = 'categorical_crossentropy',\n",
        "              optimizer = optimizer,\n",
        "             metrics = ['accuracy'])"
      ],
      "execution_count": 29,
      "outputs": []
    },
    {
      "cell_type": "code",
      "metadata": {
        "id": "W9Algj8Hje1V"
      },
      "source": [
        "epochs = 10\n",
        "batch_size = 32"
      ],
      "execution_count": 30,
      "outputs": []
    },
    {
      "cell_type": "code",
      "metadata": {
        "colab": {
          "base_uri": "https://localhost:8080/"
        },
        "id": "NzlESS3_jhpM",
        "outputId": "1898d532-1fc8-4f36-868a-9d1b0ce85a9c"
      },
      "source": [
        "model.summary()"
      ],
      "execution_count": 31,
      "outputs": [
        {
          "output_type": "stream",
          "text": [
            "Model: \"sequential_3\"\n",
            "_________________________________________________________________\n",
            "Layer (type)                 Output Shape              Param #   \n",
            "=================================================================\n",
            "inception_resnet_v2 (Functio (None, 5, 5, 1536)        54336736  \n",
            "_________________________________________________________________\n",
            "batch_normalization_209 (Bat (None, 5, 5, 1536)        6144      \n",
            "_________________________________________________________________\n",
            "flatten_2 (Flatten)          (None, 38400)             0         \n",
            "_________________________________________________________________\n",
            "dense_3 (Dense)              (None, 2)                 76802     \n",
            "=================================================================\n",
            "Total params: 54,419,682\n",
            "Trainable params: 54,356,066\n",
            "Non-trainable params: 63,616\n",
            "_________________________________________________________________\n"
          ],
          "name": "stdout"
        }
      ]
    },
    {
      "cell_type": "code",
      "metadata": {
        "colab": {
          "base_uri": "https://localhost:8080/",
          "height": 52
        },
        "id": "jm70L6xTjj6u",
        "outputId": "de64cd0b-4569-4c6f-c269-b195a22a1519"
      },
      "source": [
        "\"\"\"early_stop = tf.keras.callbacks.EarlyStopping(monitor = 'val_loss', min_delta = 0.001, \n",
        "                           patience = 5, mode = 'min', verbose = 1,\n",
        "                           restore_best_weights = True)\"\"\""
      ],
      "execution_count": 32,
      "outputs": [
        {
          "output_type": "execute_result",
          "data": {
            "application/vnd.google.colaboratory.intrinsic+json": {
              "type": "string"
            },
            "text/plain": [
              "\"early_stop = tf.keras.callbacks.EarlyStopping(monitor = 'val_loss', min_delta = 0.001, \\n                           patience = 5, mode = 'min', verbose = 1,\\n                           restore_best_weights = True)\""
            ]
          },
          "metadata": {
            "tags": []
          },
          "execution_count": 32
        }
      ]
    },
    {
      "cell_type": "code",
      "metadata": {
        "id": "NCvmZChXlPVQ",
        "colab": {
          "base_uri": "https://localhost:8080/"
        },
        "outputId": "79d7d9d4-849d-4100-99e8-99c0904c9d01"
      },
      "source": [
        "history = model.fit_generator(train_generator,epochs = epochs,validation_data = val_generator)"
      ],
      "execution_count": 33,
      "outputs": [
        {
          "output_type": "stream",
          "text": [
            "/usr/local/lib/python3.7/dist-packages/tensorflow/python/keras/engine/training.py:1844: UserWarning: `Model.fit_generator` is deprecated and will be removed in a future version. Please use `Model.fit`, which supports generators.\n",
            "  warnings.warn('`Model.fit_generator` is deprecated and '\n"
          ],
          "name": "stderr"
        },
        {
          "output_type": "stream",
          "text": [
            "Epoch 1/10\n",
            "1000/1000 [==============================] - 613s 593ms/step - loss: 2.4595 - accuracy: 0.5691 - val_loss: 81.3952 - val_accuracy: 0.5412\n",
            "Epoch 2/10\n",
            "1000/1000 [==============================] - 596s 595ms/step - loss: 0.9203 - accuracy: 0.6557 - val_loss: 11.2831 - val_accuracy: 0.4863\n",
            "Epoch 3/10\n",
            "1000/1000 [==============================] - 592s 591ms/step - loss: 0.7520 - accuracy: 0.6879 - val_loss: 7979.6489 - val_accuracy: 0.5038\n",
            "Epoch 4/10\n",
            "1000/1000 [==============================] - 589s 589ms/step - loss: 1.1067 - accuracy: 0.6481 - val_loss: 1.0095 - val_accuracy: 0.4963\n",
            "Epoch 5/10\n",
            "1000/1000 [==============================] - 591s 591ms/step - loss: 0.7178 - accuracy: 0.6842 - val_loss: 2.2758 - val_accuracy: 0.5075\n",
            "Epoch 6/10\n",
            "1000/1000 [==============================] - 594s 594ms/step - loss: 0.5610 - accuracy: 0.7683 - val_loss: 1.9841 - val_accuracy: 0.4900\n",
            "Epoch 7/10\n",
            "1000/1000 [==============================] - 594s 594ms/step - loss: 0.5066 - accuracy: 0.8420 - val_loss: 4.1879 - val_accuracy: 0.4950\n",
            "Epoch 8/10\n",
            "1000/1000 [==============================] - 590s 590ms/step - loss: 0.3318 - accuracy: 0.8979 - val_loss: 1.6239 - val_accuracy: 0.5025\n",
            "Epoch 9/10\n",
            "1000/1000 [==============================] - 587s 587ms/step - loss: 0.2990 - accuracy: 0.9021 - val_loss: 2.5904 - val_accuracy: 0.5063\n",
            "Epoch 10/10\n",
            "1000/1000 [==============================] - 589s 589ms/step - loss: 0.2426 - accuracy: 0.9285 - val_loss: 5.3761 - val_accuracy: 0.5250\n"
          ],
          "name": "stdout"
        }
      ]
    },
    {
      "cell_type": "code",
      "metadata": {
        "id": "sgttK3qilVX5",
        "colab": {
          "base_uri": "https://localhost:8080/",
          "height": 312
        },
        "outputId": "b7e3a81f-9482-4312-b673-cc55a70b7f8e"
      },
      "source": [
        "plt.plot(history.history['loss'])\n",
        "plt.plot(history.history['val_loss'])\n",
        "plt.legend(['loss', 'val_loss'])\n",
        "plt.title('Loss')\n",
        "plt.xlabel('epoch')"
      ],
      "execution_count": 34,
      "outputs": [
        {
          "output_type": "execute_result",
          "data": {
            "text/plain": [
              "Text(0.5, 0, 'epoch')"
            ]
          },
          "metadata": {
            "tags": []
          },
          "execution_count": 34
        },
        {
          "output_type": "display_data",
          "data": {
            "image/png": "[encoded data removed]",
            "text/plain": [
              "<Figure size 432x288 with 1 Axes>"
            ]
          },
          "metadata": {
            "tags": [],
            "needs_background": "light"
          }
        }
      ]
    },
    {
      "cell_type": "code",
      "metadata": {
        "colab": {
          "base_uri": "https://localhost:8080/",
          "height": 312
        },
        "id": "U0WylrqHlaHw",
        "outputId": "0d2a9f8b-31fe-492a-ee73-6c13af2b6e89"
      },
      "source": [
        "plt.plot(history.history['accuracy'])\n",
        "plt.plot(history.history['val_accuracy'])\n",
        "plt.legend(['accuracy', 'val_accuracy'])\n",
        "plt.title('Accuracy')\n",
        "plt.xlabel('epoch')"
      ],
      "execution_count": 35,
      "outputs": [
        {
          "output_type": "execute_result",
          "data": {
            "text/plain": [
              "Text(0.5, 0, 'epoch')"
            ]
          },
          "metadata": {
            "tags": []
          },
          "execution_count": 35
        },
        {
          "output_type": "display_data",
          "data": {
            "image/png": "[encoded data removed]",
            "text/plain": [
              "<Figure size 432x288 with 1 Axes>"
            ]
          },
          "metadata": {
            "tags": [],
            "needs_background": "light"
          }
        }
      ]
    },
    {
      "cell_type": "code",
      "metadata": {
        "id": "X6-ENpX20cNv"
      },
      "source": [
        "model.save('chess_challenge.h5')"
      ],
      "execution_count": 37,
      "outputs": []
    },
    {
      "cell_type": "code",
      "metadata": {
        "id": "SVphd1hBvMJs"
      },
      "source": [
        ""
      ],
      "execution_count": null,
      "outputs": []
    }
  ]
}