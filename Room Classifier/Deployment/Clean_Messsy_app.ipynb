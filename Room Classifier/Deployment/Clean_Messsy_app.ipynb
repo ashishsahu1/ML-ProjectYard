{
  "nbformat": 4,
  "nbformat_minor": 0,
  "metadata": {
    "colab": {
      "name": "Clean/Messsy_app.ipynb",
      "provenance": [],
      "collapsed_sections": []
    },
    "kernelspec": {
      "name": "python3",
      "display_name": "Python 3"
    },
    "language_info": {
      "name": "python"
    }
  },
  "cells": [
    {
      "cell_type": "code",
      "metadata": {
        "id": "U6AcmQeIWPav"
      },
      "source": [
        "!pip install streamlit"
      ],
      "execution_count": null,
      "outputs": []
    },
    {
      "cell_type": "code",
      "metadata": {
        "id": "qhGGPdPuW58S"
      },
      "source": [
        "!pip install pyngrok #installing ngrok"
      ],
      "execution_count": null,
      "outputs": []
    },
    {
      "cell_type": "code",
      "metadata": {
        "id": "zA_8GHbYUUfL"
      },
      "source": [
        "import streamlit as st #importing streamlit and tensorflow\n",
        "import tensorflow as tf\n",
        "import cv2\n",
        "import keras\n",
        "from tensorflow.keras.models import Sequential\n",
        "from tensorflow.keras.layers import Dense, Dropout, Conv2D, MaxPooling2D, BatchNormalization, Flatten\n",
        "import numpy as np\n",
        "from PIL import Image ,ImageOps"
      ],
      "execution_count": 25,
      "outputs": []
    },
    {
      "cell_type": "code",
      "metadata": {
        "colab": {
          "base_uri": "https://localhost:8080/"
        },
        "id": "9DLpGnuwU3Lq",
        "outputId": "ca04dead-c50c-4c1a-aef5-8bc088d46e0b"
      },
      "source": [
        "%%writefile app.py \n",
        "#importing all the required libraries\n",
        "import streamlit as st \n",
        "import tensorflow as tf\n",
        "import cv2\n",
        "import keras\n",
        "from tensorflow.keras.models import Sequential\n",
        "from tensorflow.keras.layers import Dense, Dropout, Conv2D, MaxPooling2D, BatchNormalization, Flatten\n",
        "import numpy as np\n",
        "from PIL import Image ,ImageOps\n",
        "\n",
        "\n",
        "st.set_option('deprecation.showfileUploaderEncoding',False) #on loading a streamlit app we get a warning, this line prevents us from getting that warning\n",
        "\n",
        "@st.cache(allow_output_mutation=True) #this line prevent us from loading the model again and again and will help in storing the model in cache once it has been loaded\n",
        "\n",
        "def load_model(): #loading our model\n",
        "  model = tf.keras.models.load_model('/content/messy_clean_model(vgg19) (1).h5')\n",
        "  return model\n",
        "\n",
        "model = load_model()\n",
        "#defining the header or title of the page that the user will be seeing. We also make a side bar for the web app\n",
        "\n",
        "st.markdown(\"<h1 style='text-align: center; color: White;'>Clean V/s Messy Room Classifier</h1>\", unsafe_allow_html=True)\n",
        "st.markdown(\"<h3 style='text-align: center; color: White;'>You need to upload the image of your room and the classifier will do the rest.</h3>\", unsafe_allow_html=True)\n",
        "\n",
        "st.sidebar.header(\"What is this Project about?\")\n",
        "st.sidebar.text(\"This classifier was a part of project where we dtected whether a person's room was clean or not and rewarded them with our own custom cryptocurrency.\")\n",
        "st.sidebar.header(\"Created by Aayush Mishra\")\n",
        "\n",
        "file=st.file_uploader(\"Please upload the image of the room: \",type = [\"jpg\",\"png\"]) #accepting the image input from the user\n",
        "\n",
        "def import_and_predict(image_data,model): #our prediction method that will accept the data and the model and would give us a prediction\n",
        "  #pre-processing the image before it is fed to the model\n",
        "  size = (224,224)\n",
        "  image1 = ImageOps.fit(image_data,size,Image.ANTIALIAS)\n",
        "  img = np.asarray(image1)\n",
        "  img_reshape = img[np.newaxis,...]\n",
        "  img_reshape = img.reshape(1,224,224,3)\n",
        "  prediction = model.predict(img_reshape)\n",
        "  return prediction\n",
        "\n",
        "if file is None: #initial condition when no image has been uploaded by the user\n",
        "  st.markdown(\"<h5 style='text-align: center; color: White;'>Please Upload a File</h5>\", unsafe_allow_html=True)\n",
        "else: #condition to give the result once the user has input the image \n",
        "  image = Image.open(file)\n",
        "  st.image(image,use_column_width = True)\n",
        "  predictions = import_and_predict(image,model)\n",
        "  class_names = ['clean','messy']\n",
        "  string = \"The room in the above image is:\"+ class_names[np.argmax(predictions)]\n",
        "  st.success(string)"
      ],
      "execution_count": 26,
      "outputs": [
        {
          "output_type": "stream",
          "text": [
            "Overwriting app.py\n"
          ],
          "name": "stdout"
        }
      ]
    },
    {
      "cell_type": "code",
      "metadata": {
        "colab": {
          "base_uri": "https://localhost:8080/"
        },
        "id": "U-scwF0FYjU6",
        "outputId": "4d2c2cda-c31b-4f43-c21c-74a5743f085c"
      },
      "source": [
        "!ngrok authtoken 1lSl5RMkADZ2p4HYnMk3ZQcqzNw_5KvvAFxRwEPJz9UcboW7R"
      ],
      "execution_count": 27,
      "outputs": [
        {
          "output_type": "stream",
          "text": [
            "Authtoken saved to configuration file: /root/.ngrok2/ngrok.yml\n"
          ],
          "name": "stdout"
        }
      ]
    },
    {
      "cell_type": "code",
      "metadata": {
        "colab": {
          "base_uri": "https://localhost:8080/"
        },
        "id": "JkjLZrtkYoIx",
        "outputId": "150f26a8-55ea-4330-aa96-05cef4305413"
      },
      "source": [
        "!nohup streamlit run app.py & #running our app"
      ],
      "execution_count": 28,
      "outputs": [
        {
          "output_type": "stream",
          "text": [
            "nohup: appending output to 'nohup.out'\n"
          ],
          "name": "stdout"
        }
      ]
    },
    {
      "cell_type": "code",
      "metadata": {
        "colab": {
          "base_uri": "https://localhost:8080/"
        },
        "id": "_tCgnmWvYq4o",
        "outputId": "31862782-4f40-453a-d8e2-870249979ac0"
      },
      "source": [
        "from pyngrok import ngrok  #creating the ngrok tunnel\n",
        "url = ngrok.connect(port = 8501)\n",
        "url"
      ],
      "execution_count": 29,
      "outputs": [
        {
          "output_type": "stream",
          "text": [
            "2021-03-31 04:46:54.297 INFO    pyngrok.ngrok: Opening tunnel named: http-80-d8d21927-3f48-4a58-81dc-f114db7380dd\n",
            "2021-03-31 04:46:54.346 INFO    pyngrok.process.ngrok: t=2021-03-31T04:46:54+0000 lvl=info msg=\"no configuration paths supplied\"\n",
            "2021-03-31 04:46:54.355 INFO    pyngrok.process.ngrok: t=2021-03-31T04:46:54+0000 lvl=info msg=\"using configuration at default config path\" path=/root/.ngrok2/ngrok.yml\n",
            "2021-03-31 04:46:54.360 INFO    pyngrok.process.ngrok: t=2021-03-31T04:46:54+0000 lvl=info msg=\"open config file\" path=/root/.ngrok2/ngrok.yml err=nil\n",
            "2021-03-31 04:46:54.364 INFO    pyngrok.process.ngrok: t=2021-03-31T04:46:54+0000 lvl=info msg=\"starting web service\" obj=web addr=127.0.0.1:4040\n",
            "2021-03-31 04:46:54.463 INFO    pyngrok.process.ngrok: t=2021-03-31T04:46:54+0000 lvl=info msg=\"tunnel session started\" obj=tunnels.session\n",
            "2021-03-31 04:46:54.468 INFO    pyngrok.process.ngrok: t=2021-03-31T04:46:54+0000 lvl=info msg=\"client session established\" obj=csess id=abf4211ae8f7\n",
            "2021-03-31 04:46:54.482 INFO    pyngrok.process.ngrok: t=2021-03-31T04:46:54+0000 lvl=info msg=start pg=/api/tunnels id=93131710d77409b8\n",
            "2021-03-31 04:46:54.492 INFO    pyngrok.process.ngrok: t=2021-03-31T04:46:54+0000 lvl=info msg=end pg=/api/tunnels id=93131710d77409b8 status=200 dur=405.415µs\n",
            "2021-03-31 04:46:54.497 INFO    pyngrok.process.ngrok: t=2021-03-31T04:46:54+0000 lvl=info msg=start pg=/api/tunnels id=e8c947a928bb65fc\n",
            "2021-03-31 04:46:54.502 INFO    pyngrok.process.ngrok: t=2021-03-31T04:46:54+0000 lvl=info msg=end pg=/api/tunnels id=e8c947a928bb65fc status=200 dur=126.106µs\n",
            "2021-03-31 04:46:54.507 INFO    pyngrok.process.ngrok: t=2021-03-31T04:46:54+0000 lvl=info msg=start pg=/api/tunnels id=f78cacf49412c3ef\n",
            "2021-03-31 04:46:54.547 INFO    pyngrok.process.ngrok: t=2021-03-31T04:46:54+0000 lvl=info msg=\"started tunnel\" obj=tunnels name=\"http-80-d8d21927-3f48-4a58-81dc-f114db7380dd (http)\" addr=http://localhost:80 url=http://a9a61df56b15.ngrok.io\n"
          ],
          "name": "stderr"
        },
        {
          "output_type": "execute_result",
          "data": {
            "text/plain": [
              "<NgrokTunnel: \"http://a9a61df56b15.ngrok.io\" -> \"http://localhost:80\">"
            ]
          },
          "metadata": {
            "tags": []
          },
          "execution_count": 29
        },
        {
          "output_type": "stream",
          "text": [
            "2021-03-31 04:46:54.556 INFO    pyngrok.process.ngrok: t=2021-03-31T04:46:54+0000 lvl=info msg=\"started tunnel\" obj=tunnels name=http-80-d8d21927-3f48-4a58-81dc-f114db7380dd addr=http://localhost:80 url=https://a9a61df56b15.ngrok.io\n",
            "2021-03-31 04:46:54.560 INFO    pyngrok.process.ngrok: t=2021-03-31T04:46:54+0000 lvl=info msg=end pg=/api/tunnels id=f78cacf49412c3ef status=201 dur=62.832496ms\n",
            "2021-03-31 04:46:54.562 INFO    pyngrok.process.ngrok: t=2021-03-31T04:46:54+0000 lvl=info msg=start pg=\"/api/tunnels/http-80-d8d21927-3f48-4a58-81dc-f114db7380dd (http)\" id=aef9f2d06fae2fc4\n",
            "2021-03-31 04:46:54.566 INFO    pyngrok.process.ngrok: t=2021-03-31T04:46:54+0000 lvl=info msg=end pg=\"/api/tunnels/http-80-d8d21927-3f48-4a58-81dc-f114db7380dd (http)\" id=aef9f2d06fae2fc4 status=200 dur=148.261µs\n"
          ],
          "name": "stderr"
        }
      ]
    },
    {
      "cell_type": "code",
      "metadata": {
        "colab": {
          "base_uri": "https://localhost:8080/"
        },
        "id": "CXs9qlN8Ytal",
        "outputId": "313fc0cc-622a-45e8-9ef2-e1fb08e78aca"
      },
      "source": [
        "!streamlit run --server.port 80 app.py >/dev/null #running our server so that we can access the app"
      ],
      "execution_count": 30,
      "outputs": [
        {
          "output_type": "stream",
          "text": [
            "2021-03-31 04:46:57.708 An update to the [server] config option section was detected. To have these changes be reflected, please restart streamlit.\n",
            "2021-03-31 04:46:58.077569: I tensorflow/stream_executor/platform/default/dso_loader.cc:49] Successfully opened dynamic library libcudart.so.11.0\n",
            "2021-03-31 04:46:59.713258: I tensorflow/compiler/jit/xla_cpu_device.cc:41] Not creating XLA devices, tf_xla_enable_xla_devices not set\n",
            "2021-03-31 04:46:59.714289: I tensorflow/stream_executor/platform/default/dso_loader.cc:49] Successfully opened dynamic library libcuda.so.1\n",
            "2021-03-31 04:46:59.725598: E tensorflow/stream_executor/cuda/cuda_driver.cc:328] failed call to cuInit: CUDA_ERROR_NO_DEVICE: no CUDA-capable device is detected\n",
            "2021-03-31 04:46:59.725647: I tensorflow/stream_executor/cuda/cuda_diagnostics.cc:156] kernel driver does not appear to be running on this host (801d9c3b37ed): /proc/driver/nvidia/version does not exist\n",
            "2021-03-31 04:46:59.726161: I tensorflow/compiler/jit/xla_gpu_device.cc:99] Not creating XLA devices, tf_xla_enable_xla_devices not set\n"
          ],
          "name": "stdout"
        },
        {
          "output_type": "stream",
          "text": [
            "2021-03-31 04:47:00.458 INFO    pyngrok.process.ngrok: t=2021-03-31T04:47:00+0000 lvl=info msg=\"join connections\" obj=join id=d56d7c8914e4 l=127.0.0.1:80 r=103.226.144.226:52384\n",
            "2021-03-31 04:47:00.977 INFO    pyngrok.process.ngrok: t=2021-03-31T04:47:00+0000 lvl=info msg=\"join connections\" obj=join id=ae9f559ebaa4 l=127.0.0.1:80 r=103.226.144.226:52385\n",
            "2021-03-31 04:47:05.159 INFO    pyngrok.process.ngrok: t=2021-03-31T04:47:05+0000 lvl=info msg=\"join connections\" obj=join id=08dcf65751d8 l=127.0.0.1:80 r=103.226.144.226:52391\n",
            "2021-03-31 04:47:05.686 INFO    pyngrok.process.ngrok: t=2021-03-31T04:47:05+0000 lvl=info msg=\"join connections\" obj=join id=a8373eeaaab6 l=127.0.0.1:80 r=103.226.144.226:52385\n"
          ],
          "name": "stderr"
        },
        {
          "output_type": "stream",
          "text": [
            "2021-03-31 04:47:16.668065: I tensorflow/compiler/mlir/mlir_graph_optimization_pass.cc:116] None of the MLIR optimization passes are enabled (registered 2)\n",
            "2021-03-31 04:47:16.668544: I tensorflow/core/platform/profile_utils/cpu_utils.cc:112] CPU Frequency: 2299995000 Hz\n"
          ],
          "name": "stdout"
        },
        {
          "output_type": "stream",
          "text": [
            "2021-03-31 04:53:26.031 INFO    pyngrok.process.ngrok: t=2021-03-31T04:53:26+0000 lvl=info msg=\"join connections\" obj=join id=f290f1ac3dfe l=127.0.0.1:80 r=103.226.144.226:52779\n",
            "2021-03-31 04:53:46.249 INFO    pyngrok.process.ngrok: t=2021-03-31T04:53:46+0000 lvl=info msg=\"received stop request\" obj=app stopReq=\"{err:<nil> restart:false}\"\n",
            "2021-03-31 04:53:46.255 INFO    pyngrok.process.ngrok: t=2021-03-31T04:53:46+0000 lvl=info msg=\"session closing\" obj=tunnels.session err=nil\n"
          ],
          "name": "stderr"
        }
      ]
    },
    {
      "cell_type": "code",
      "metadata": {
        "id": "SPIejcxZYywS"
      },
      "source": [
        ""
      ],
      "execution_count": null,
      "outputs": []
    }
  ]
}