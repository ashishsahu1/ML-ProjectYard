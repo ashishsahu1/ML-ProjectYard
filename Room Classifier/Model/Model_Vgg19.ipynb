{
  "nbformat": 4,
  "nbformat_minor": 0,
  "metadata": {
    "kernelspec": {
      "name": "python3",
      "display_name": "Python 3",
      "language": "python"
    },
    "language_info": {
      "name": "python",
      "version": "3.7.9",
      "mimetype": "text/x-python",
      "codemirror_mode": {
        "name": "ipython",
        "version": 3
      },
      "pygments_lexer": "ipython3",
      "nbconvert_exporter": "python",
      "file_extension": ".py"
    },
    "colab": {
      "name": "Model_Vgg19.ipynb",
      "provenance": []
    }
  },
  "cells": [
    {
      "cell_type": "code",
      "metadata": {
        "_uuid": "8f2839f25d086af736a60e9eeb907d3b93b6e0e5",
        "_cell_guid": "b1076dfc-b9ad-4769-8c92-a6c4dae69d19",
        "trusted": true,
        "id": "QtCkc-3FhQ7u"
      },
      "source": [
        "import numpy as np \n",
        "import pandas as pd \n",
        "import os\n",
        "import matplotlib.pyplot as plt\n",
        "import seaborn as sns\n",
        "import tensorflow as tf\n",
        "import keras\n",
        "from keras.preprocessing import image\n",
        "from keras.models import Sequential\n",
        "from keras.layers import Conv2D, MaxPool2D, Flatten,Dense,Dropout,BatchNormalization\n",
        "from tensorflow.keras.preprocessing.image import ImageDataGenerator\n",
        "import cv2\n",
        "from keras.layers import Input, Lambda, Dense, Flatten\n",
        "from tensorflow.keras.applications import VGG16, InceptionResNetV2,Xception,VGG19\n",
        "from keras import regularizers\n",
        "from tensorflow.keras.optimizers import Adam,RMSprop,SGD,Adamax"
      ],
      "execution_count": null,
      "outputs": []
    },
    {
      "cell_type": "code",
      "metadata": {
        "trusted": true,
        "id": "xRaVcdT-hQ7y"
      },
      "source": [
        "train_dir = \"/kaggle/input/messy-vs-clean-room/images/train\" #passing the path with training images\n",
        "validation_dir = \"/kaggle/input/messy-vs-clean-room/images/val\"   #passing the path with validation images"
      ],
      "execution_count": null,
      "outputs": []
    },
    {
      "cell_type": "code",
      "metadata": {
        "trusted": true,
        "id": "qUlgIfAkhQ7z"
      },
      "source": [
        "IMG_SIZE= 224 #our image size that we will be using"
      ],
      "execution_count": null,
      "outputs": []
    },
    {
      "cell_type": "code",
      "metadata": {
        "trusted": true,
        "id": "yEJjrsqDhQ70"
      },
      "source": [
        "train_datagen = ImageDataGenerator(#rotation_range = 180,\n",
        "                                         width_shift_range = 0.1,\n",
        "                                         height_shift_range = 0.1,\n",
        "                                         horizontal_flip = True,\n",
        "                                         rescale = 1./255,\n",
        "                                         zoom_range = 0.2\n",
        "                                        )\n",
        "validation_datagen = ImageDataGenerator(rescale = 1./255)"
      ],
      "execution_count": null,
      "outputs": []
    },
    {
      "cell_type": "code",
      "metadata": {
        "trusted": true,
        "id": "6HNKB0c8hQ71",
        "outputId": "c47e4ea3-4fb4-42be-8690-0a2396cd57eb"
      },
      "source": [
        "train_generator = train_datagen.flow_from_directory(directory = train_dir,\n",
        "                                                  target_size = (IMG_SIZE,IMG_SIZE),\n",
        "                                                   color_mode = \"rgb\",\n",
        "                                                   class_mode = \"categorical\",\n",
        "                                                   batch_size = 10)\n",
        "validation_generator = validation_datagen.flow_from_directory(directory = validation_dir,\n",
        "                                                    target_size = (IMG_SIZE,IMG_SIZE),\n",
        "                                                   color_mode = \"rgb\",\n",
        "                                                   class_mode = \"categorical\",\n",
        "                                                   batch_size = 10)"
      ],
      "execution_count": null,
      "outputs": [
        {
          "output_type": "stream",
          "text": [
            "Found 192 images belonging to 2 classes.\n",
            "Found 20 images belonging to 2 classes.\n"
          ],
          "name": "stdout"
        }
      ]
    },
    {
      "cell_type": "code",
      "metadata": {
        "trusted": true,
        "id": "zJbweSQNhQ73",
        "outputId": "155ce562-42dd-48bd-c70c-1084af5a8654"
      },
      "source": [
        "\"\"\"model = tf.keras.Sequential()\n",
        "model.add(VGG16(include_top = False,weights = 'imagenet',input_shape= (IMG_SIZE,IMG_SIZE,3)))\n",
        "model.add(Flatten())\n",
        "model.add(Dense(2,activation = 'softmax'))\"\"\""
      ],
      "execution_count": null,
      "outputs": [
        {
          "output_type": "execute_result",
          "data": {
            "text/plain": [
              "\"model = tf.keras.Sequential()\\nmodel.add(VGG16(include_top = False,weights = 'imagenet',input_shape= (IMG_SIZE,IMG_SIZE,3)))\\nmodel.add(Flatten())\\nmodel.add(Dense(2,activation = 'softmax'))\""
            ]
          },
          "metadata": {
            "tags": []
          },
          "execution_count": 23
        }
      ]
    },
    {
      "cell_type": "code",
      "metadata": {
        "trusted": true,
        "id": "iKjjVqk8hQ74"
      },
      "source": [
        "model = tf.keras.Sequential()\n",
        "model.add(VGG19(include_top=False, weights='imagenet',input_shape=[IMG_SIZE,IMG_SIZE,3]))\n",
        "model.add(Flatten())\n",
        "model.add(Dense(2, activation='softmax'))"
      ],
      "execution_count": null,
      "outputs": []
    },
    {
      "cell_type": "code",
      "metadata": {
        "trusted": true,
        "id": "Vyi5pgwJhQ75",
        "outputId": "acb574ed-573c-4ff0-edc9-ab87ad678d0a"
      },
      "source": [
        "model.summary()"
      ],
      "execution_count": null,
      "outputs": [
        {
          "output_type": "stream",
          "text": [
            "Model: \"sequential_2\"\n",
            "_________________________________________________________________\n",
            "Layer (type)                 Output Shape              Param #   \n",
            "=================================================================\n",
            "vgg19 (Functional)           (None, 7, 7, 512)         20024384  \n",
            "_________________________________________________________________\n",
            "flatten_2 (Flatten)          (None, 25088)             0         \n",
            "_________________________________________________________________\n",
            "dense_2 (Dense)              (None, 2)                 50178     \n",
            "=================================================================\n",
            "Total params: 20,074,562\n",
            "Trainable params: 20,074,562\n",
            "Non-trainable params: 0\n",
            "_________________________________________________________________\n"
          ],
          "name": "stdout"
        }
      ]
    },
    {
      "cell_type": "code",
      "metadata": {
        "trusted": true,
        "id": "GAe1cslThQ75"
      },
      "source": [
        "optimizer = Adam(lr = 0.0001)\n",
        "model.compile(loss = \"categorical_crossentropy\",optimizer = optimizer,metrics = ['accuracy'])"
      ],
      "execution_count": null,
      "outputs": []
    },
    {
      "cell_type": "code",
      "metadata": {
        "trusted": true,
        "id": "UJabqpVuhQ76"
      },
      "source": [
        "epochs = 10\n",
        "batch_size = 10"
      ],
      "execution_count": null,
      "outputs": []
    },
    {
      "cell_type": "code",
      "metadata": {
        "trusted": true,
        "id": "A4Zm_DL2hQ77",
        "outputId": "500b5c5d-3d39-4dc6-b6e3-05d7bc86aaa9"
      },
      "source": [
        "history = model.fit(train_generator, epochs = epochs,validation_data = validation_generator)"
      ],
      "execution_count": null,
      "outputs": [
        {
          "output_type": "stream",
          "text": [
            "Epoch 1/10\n",
            "20/20 [==============================] - 6s 240ms/step - loss: 0.6114 - accuracy: 0.6780 - val_loss: 0.1256 - val_accuracy: 0.9500\n",
            "Epoch 2/10\n",
            "20/20 [==============================] - 4s 199ms/step - loss: 0.4669 - accuracy: 0.7874 - val_loss: 0.1917 - val_accuracy: 0.9500\n",
            "Epoch 3/10\n",
            "20/20 [==============================] - 4s 176ms/step - loss: 0.4952 - accuracy: 0.7900 - val_loss: 0.4422 - val_accuracy: 0.7500\n",
            "Epoch 4/10\n",
            "20/20 [==============================] - 4s 188ms/step - loss: 0.4067 - accuracy: 0.8232 - val_loss: 0.1518 - val_accuracy: 0.9000\n",
            "Epoch 5/10\n",
            "20/20 [==============================] - 4s 175ms/step - loss: 0.1592 - accuracy: 0.9605 - val_loss: 0.1982 - val_accuracy: 0.9500\n",
            "Epoch 6/10\n",
            "20/20 [==============================] - 4s 178ms/step - loss: 0.2329 - accuracy: 0.9163 - val_loss: 0.2317 - val_accuracy: 0.9000\n",
            "Epoch 7/10\n",
            "20/20 [==============================] - 4s 188ms/step - loss: 0.1976 - accuracy: 0.9325 - val_loss: 0.1605 - val_accuracy: 0.9500\n",
            "Epoch 8/10\n",
            "20/20 [==============================] - 4s 176ms/step - loss: 0.2247 - accuracy: 0.9142 - val_loss: 0.0833 - val_accuracy: 0.9500\n",
            "Epoch 9/10\n",
            "20/20 [==============================] - 4s 175ms/step - loss: 0.1637 - accuracy: 0.9510 - val_loss: 0.1026 - val_accuracy: 0.9500\n",
            "Epoch 10/10\n",
            "20/20 [==============================] - 4s 190ms/step - loss: 0.1656 - accuracy: 0.9218 - val_loss: 0.1021 - val_accuracy: 0.9500\n"
          ],
          "name": "stdout"
        }
      ]
    },
    {
      "cell_type": "code",
      "metadata": {
        "trusted": true,
        "id": "LNd4MJophQ78",
        "outputId": "dbef5a99-b55e-4bec-f0b8-60573a43cd8c"
      },
      "source": [
        "fig , ax = plt.subplots(1,2)\n",
        "train_acc = history.history['accuracy']\n",
        "train_loss = history.history['loss']\n",
        "fig.set_size_inches(12,4)\n",
        "\n",
        "ax[0].plot(history.history['accuracy'])\n",
        "ax[0].plot(history.history['val_accuracy'])\n",
        "ax[0].set_title('Training Accuracy vs Validation Accuracy')\n",
        "ax[0].set_ylabel('Accuracy')\n",
        "ax[0].set_xlabel('Epoch')\n",
        "ax[0].legend(['Train', 'Validation'], loc='upper left')\n",
        "\n",
        "ax[1].plot(history.history['loss'])\n",
        "ax[1].plot(history.history['val_loss'])\n",
        "ax[1].set_title('Training Loss vs Validation Loss')\n",
        "ax[1].set_ylabel('Loss')\n",
        "ax[1].set_xlabel('Epoch')\n",
        "ax[1].legend(['Train', 'Validation'], loc='upper left')\n",
        "\n",
        "plt.show()"
      ],
      "execution_count": null,
      "outputs": [
        {
          "output_type": "display_data",
          "data": {
            "text/plain": [
              "<Figure size 864x288 with 2 Axes>"
            ],
            "image/png": "[encoded data removed]"
          },
          "metadata": {
            "tags": [],
            "needs_background": "light"
          }
        }
      ]
    },
    {
      "cell_type": "code",
      "metadata": {
        "trusted": true,
        "id": "lNOuKtm9hQ79"
      },
      "source": [
        "model.save('messy_clean_model(vgg19).h5')"
      ],
      "execution_count": null,
      "outputs": []
    },
    {
      "cell_type": "code",
      "metadata": {
        "trusted": true,
        "id": "c0fxDI60hQ79",
        "outputId": "3c2c058a-dd76-4990-fe35-9d4bc8651be3"
      },
      "source": [
        "train_loss, train_acc = model.evaluate(train_generator)\n",
        "test_loss, test_acc   = model.evaluate(validation_generator)\n",
        "print(\"final train accuracy = {:.2f} , validation accuracy = {:.2f}\".format(train_acc*100, test_acc*100))"
      ],
      "execution_count": null,
      "outputs": [
        {
          "output_type": "stream",
          "text": [
            "20/20 [==============================] - 3s 138ms/step - loss: 0.0627 - accuracy: 0.9896\n",
            "2/2 [==============================] - 0s 58ms/step - loss: 0.1021 - accuracy: 0.9500\n",
            "final train accuracy = 98.96 , validation accuracy = 95.00\n"
          ],
          "name": "stdout"
        }
      ]
    },
    {
      "cell_type": "code",
      "metadata": {
        "trusted": true,
        "id": "YUYJslwehQ7-"
      },
      "source": [
        "from keras.models import load_model\n",
        "from keras.applications.vgg19 import preprocess_input"
      ],
      "execution_count": null,
      "outputs": []
    },
    {
      "cell_type": "code",
      "metadata": {
        "trusted": true,
        "id": "bhstb7SuhQ7_"
      },
      "source": [
        "\"\"\" For testing the model - \n",
        "model = load_model('messy_clean_model(vgg19).h5')\n",
        "img = image.load_img('/kaggle/input/messy-vs-clean-room/images/test/5.png', target_size=(224, 224))\n",
        "x = image.img_to_array(img)\n",
        "x = np.expand_dims(x, axis=0)\n",
        "img_data = preprocess_input(x)\n",
        "classes = model.predict(img_data)\"\"\""
      ],
      "execution_count": null,
      "outputs": []
    },
    {
      "cell_type": "code",
      "metadata": {
        "trusted": true,
        "id": "8gyiX9MDhQ7_",
        "outputId": "c7b9a661-b8b4-40d4-ce9b-32bd1c18d18b"
      },
      "source": [
        "#classes"
      ],
      "execution_count": null,
      "outputs": [
        {
          "output_type": "execute_result",
          "data": {
            "text/plain": [
              "array([[0., 1.]], dtype=float32)"
            ]
          },
          "metadata": {
            "tags": []
          },
          "execution_count": 36
        }
      ]
    },
    {
      "cell_type": "code",
      "metadata": {
        "trusted": true,
        "id": "-I1Eb2-zhQ8A"
      },
      "source": [
        ""
      ],
      "execution_count": null,
      "outputs": []
    }
  ]
}