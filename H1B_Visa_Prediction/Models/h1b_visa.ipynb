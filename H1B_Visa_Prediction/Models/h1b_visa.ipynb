{
 "cells": [
  {
   "cell_type": "markdown",
   "metadata": {},
   "source": [
    "# <b>H1B VISA PREDICTOR "
   ]
  },
  {
   "cell_type": "markdown",
   "metadata": {},
   "source": [
    "# Making necessary imports"
   ]
  },
  {
   "cell_type": "code",
   "execution_count": 1,
   "metadata": {},
   "outputs": [],
   "source": [
    "import pandas as pd\n",
    "import numpy as np\n",
    "import matplotlib.pyplot as plt\n",
    "%matplotlib inline"
   ]
  },
  {
   "cell_type": "markdown",
   "metadata": {},
   "source": [
    "# Data preprocessing & analysis"
   ]
  },
  {
   "cell_type": "code",
   "execution_count": 2,
   "metadata": {},
   "outputs": [],
   "source": [
    "filepath = input('Enter filepath: ')\n",
    "df = pd.read_csv(filepath) # reading the dataset"
   ]
  },
  {
   "cell_type": "code",
   "execution_count": 3,
   "metadata": {},
   "outputs": [
    {
     "data": {
      "text/html": [
       "<div>\n",
       "<style scoped>\n",
       "    .dataframe tbody tr th:only-of-type {\n",
       "        vertical-align: middle;\n",
       "    }\n",
       "\n",
       "    .dataframe tbody tr th {\n",
       "        vertical-align: top;\n",
       "    }\n",
       "\n",
       "    .dataframe thead th {\n",
       "        text-align: right;\n",
       "    }\n",
       "</style>\n",
       "<table border=\"1\" class=\"dataframe\">\n",
       "  <thead>\n",
       "    <tr style=\"text-align: right;\">\n",
       "      <th></th>\n",
       "      <th>Unnamed: 0</th>\n",
       "      <th>CASE_STATUS</th>\n",
       "      <th>EMPLOYER_NAME</th>\n",
       "      <th>SOC_NAME</th>\n",
       "      <th>JOB_TITLE</th>\n",
       "      <th>FULL_TIME_POSITION</th>\n",
       "      <th>PREVAILING_WAGE</th>\n",
       "      <th>YEAR</th>\n",
       "      <th>WORKSITE</th>\n",
       "      <th>lon</th>\n",
       "      <th>lat</th>\n",
       "    </tr>\n",
       "  </thead>\n",
       "  <tbody>\n",
       "    <tr>\n",
       "      <th>0</th>\n",
       "      <td>1</td>\n",
       "      <td>CERTIFIED-WITHDRAWN</td>\n",
       "      <td>UNIVERSITY OF MICHIGAN</td>\n",
       "      <td>BIOCHEMISTS AND BIOPHYSICISTS</td>\n",
       "      <td>POSTDOCTORAL RESEARCH FELLOW</td>\n",
       "      <td>N</td>\n",
       "      <td>36067.0</td>\n",
       "      <td>2016.0</td>\n",
       "      <td>ANN ARBOR, MICHIGAN</td>\n",
       "      <td>-83.743038</td>\n",
       "      <td>42.280826</td>\n",
       "    </tr>\n",
       "    <tr>\n",
       "      <th>1</th>\n",
       "      <td>2</td>\n",
       "      <td>CERTIFIED-WITHDRAWN</td>\n",
       "      <td>GOODMAN NETWORKS, INC.</td>\n",
       "      <td>CHIEF EXECUTIVES</td>\n",
       "      <td>CHIEF OPERATING OFFICER</td>\n",
       "      <td>Y</td>\n",
       "      <td>242674.0</td>\n",
       "      <td>2016.0</td>\n",
       "      <td>PLANO, TEXAS</td>\n",
       "      <td>-96.698886</td>\n",
       "      <td>33.019843</td>\n",
       "    </tr>\n",
       "    <tr>\n",
       "      <th>2</th>\n",
       "      <td>3</td>\n",
       "      <td>CERTIFIED-WITHDRAWN</td>\n",
       "      <td>PORTS AMERICA GROUP, INC.</td>\n",
       "      <td>CHIEF EXECUTIVES</td>\n",
       "      <td>CHIEF PROCESS OFFICER</td>\n",
       "      <td>Y</td>\n",
       "      <td>193066.0</td>\n",
       "      <td>2016.0</td>\n",
       "      <td>JERSEY CITY, NEW JERSEY</td>\n",
       "      <td>-74.077642</td>\n",
       "      <td>40.728158</td>\n",
       "    </tr>\n",
       "    <tr>\n",
       "      <th>3</th>\n",
       "      <td>4</td>\n",
       "      <td>CERTIFIED-WITHDRAWN</td>\n",
       "      <td>GATES CORPORATION, A WHOLLY-OWNED SUBSIDIARY O...</td>\n",
       "      <td>CHIEF EXECUTIVES</td>\n",
       "      <td>REGIONAL PRESIDEN, AMERICAS</td>\n",
       "      <td>Y</td>\n",
       "      <td>220314.0</td>\n",
       "      <td>2016.0</td>\n",
       "      <td>DENVER, COLORADO</td>\n",
       "      <td>-104.990251</td>\n",
       "      <td>39.739236</td>\n",
       "    </tr>\n",
       "    <tr>\n",
       "      <th>4</th>\n",
       "      <td>5</td>\n",
       "      <td>WITHDRAWN</td>\n",
       "      <td>PEABODY INVESTMENTS CORP.</td>\n",
       "      <td>CHIEF EXECUTIVES</td>\n",
       "      <td>PRESIDENT MONGOLIA AND INDIA</td>\n",
       "      <td>Y</td>\n",
       "      <td>157518.4</td>\n",
       "      <td>2016.0</td>\n",
       "      <td>ST. LOUIS, MISSOURI</td>\n",
       "      <td>-90.199404</td>\n",
       "      <td>38.627003</td>\n",
       "    </tr>\n",
       "  </tbody>\n",
       "</table>\n",
       "</div>"
      ],
      "text/plain": [
       "   Unnamed: 0          CASE_STATUS  \\\n",
       "0           1  CERTIFIED-WITHDRAWN   \n",
       "1           2  CERTIFIED-WITHDRAWN   \n",
       "2           3  CERTIFIED-WITHDRAWN   \n",
       "3           4  CERTIFIED-WITHDRAWN   \n",
       "4           5            WITHDRAWN   \n",
       "\n",
       "                                       EMPLOYER_NAME  \\\n",
       "0                             UNIVERSITY OF MICHIGAN   \n",
       "1                             GOODMAN NETWORKS, INC.   \n",
       "2                          PORTS AMERICA GROUP, INC.   \n",
       "3  GATES CORPORATION, A WHOLLY-OWNED SUBSIDIARY O...   \n",
       "4                          PEABODY INVESTMENTS CORP.   \n",
       "\n",
       "                        SOC_NAME                     JOB_TITLE  \\\n",
       "0  BIOCHEMISTS AND BIOPHYSICISTS  POSTDOCTORAL RESEARCH FELLOW   \n",
       "1               CHIEF EXECUTIVES       CHIEF OPERATING OFFICER   \n",
       "2               CHIEF EXECUTIVES         CHIEF PROCESS OFFICER   \n",
       "3               CHIEF EXECUTIVES   REGIONAL PRESIDEN, AMERICAS   \n",
       "4               CHIEF EXECUTIVES  PRESIDENT MONGOLIA AND INDIA   \n",
       "\n",
       "  FULL_TIME_POSITION  PREVAILING_WAGE    YEAR                 WORKSITE  \\\n",
       "0                  N          36067.0  2016.0      ANN ARBOR, MICHIGAN   \n",
       "1                  Y         242674.0  2016.0             PLANO, TEXAS   \n",
       "2                  Y         193066.0  2016.0  JERSEY CITY, NEW JERSEY   \n",
       "3                  Y         220314.0  2016.0         DENVER, COLORADO   \n",
       "4                  Y         157518.4  2016.0      ST. LOUIS, MISSOURI   \n",
       "\n",
       "          lon        lat  \n",
       "0  -83.743038  42.280826  \n",
       "1  -96.698886  33.019843  \n",
       "2  -74.077642  40.728158  \n",
       "3 -104.990251  39.739236  \n",
       "4  -90.199404  38.627003  "
      ]
     },
     "execution_count": 3,
     "metadata": {},
     "output_type": "execute_result"
    }
   ],
   "source": [
    "df.head() # displaying top 5 rows of df"
   ]
  },
  {
   "cell_type": "code",
   "execution_count": 4,
   "metadata": {},
   "outputs": [
    {
     "data": {
      "text/plain": [
       "(3002458, 11)"
      ]
     },
     "execution_count": 4,
     "metadata": {},
     "output_type": "execute_result"
    }
   ],
   "source": [
    "df.shape "
   ]
  },
  {
   "cell_type": "code",
   "execution_count": 5,
   "metadata": {},
   "outputs": [
    {
     "data": {
      "text/plain": [
       "Index(['Unnamed: 0', 'CASE_STATUS', 'EMPLOYER_NAME', 'SOC_NAME', 'JOB_TITLE',\n",
       "       'FULL_TIME_POSITION', 'PREVAILING_WAGE', 'YEAR', 'WORKSITE', 'lon',\n",
       "       'lat'],\n",
       "      dtype='object')"
      ]
     },
     "execution_count": 5,
     "metadata": {},
     "output_type": "execute_result"
    }
   ],
   "source": [
    "df.columns"
   ]
  },
  {
   "cell_type": "code",
   "execution_count": 6,
   "metadata": {},
   "outputs": [
    {
     "data": {
      "text/html": [
       "<div>\n",
       "<style scoped>\n",
       "    .dataframe tbody tr th:only-of-type {\n",
       "        vertical-align: middle;\n",
       "    }\n",
       "\n",
       "    .dataframe tbody tr th {\n",
       "        vertical-align: top;\n",
       "    }\n",
       "\n",
       "    .dataframe thead th {\n",
       "        text-align: right;\n",
       "    }\n",
       "</style>\n",
       "<table border=\"1\" class=\"dataframe\">\n",
       "  <thead>\n",
       "    <tr style=\"text-align: right;\">\n",
       "      <th></th>\n",
       "      <th>CASE_STATUS</th>\n",
       "      <th>EMPLOYER_NAME</th>\n",
       "      <th>SOC_NAME</th>\n",
       "      <th>JOB_TITLE</th>\n",
       "      <th>FULL_TIME_POSITION</th>\n",
       "      <th>PREVAILING_WAGE</th>\n",
       "      <th>YEAR</th>\n",
       "      <th>WORKSITE</th>\n",
       "    </tr>\n",
       "  </thead>\n",
       "  <tbody>\n",
       "    <tr>\n",
       "      <th>1</th>\n",
       "      <td>CERTIFIED-WITHDRAWN</td>\n",
       "      <td>UNIVERSITY OF MICHIGAN</td>\n",
       "      <td>BIOCHEMISTS AND BIOPHYSICISTS</td>\n",
       "      <td>POSTDOCTORAL RESEARCH FELLOW</td>\n",
       "      <td>N</td>\n",
       "      <td>36067.0</td>\n",
       "      <td>2016.0</td>\n",
       "      <td>ANN ARBOR, MICHIGAN</td>\n",
       "    </tr>\n",
       "    <tr>\n",
       "      <th>2</th>\n",
       "      <td>CERTIFIED-WITHDRAWN</td>\n",
       "      <td>GOODMAN NETWORKS, INC.</td>\n",
       "      <td>CHIEF EXECUTIVES</td>\n",
       "      <td>CHIEF OPERATING OFFICER</td>\n",
       "      <td>Y</td>\n",
       "      <td>242674.0</td>\n",
       "      <td>2016.0</td>\n",
       "      <td>PLANO, TEXAS</td>\n",
       "    </tr>\n",
       "    <tr>\n",
       "      <th>3</th>\n",
       "      <td>CERTIFIED-WITHDRAWN</td>\n",
       "      <td>PORTS AMERICA GROUP, INC.</td>\n",
       "      <td>CHIEF EXECUTIVES</td>\n",
       "      <td>CHIEF PROCESS OFFICER</td>\n",
       "      <td>Y</td>\n",
       "      <td>193066.0</td>\n",
       "      <td>2016.0</td>\n",
       "      <td>JERSEY CITY, NEW JERSEY</td>\n",
       "    </tr>\n",
       "    <tr>\n",
       "      <th>4</th>\n",
       "      <td>CERTIFIED-WITHDRAWN</td>\n",
       "      <td>GATES CORPORATION, A WHOLLY-OWNED SUBSIDIARY O...</td>\n",
       "      <td>CHIEF EXECUTIVES</td>\n",
       "      <td>REGIONAL PRESIDEN, AMERICAS</td>\n",
       "      <td>Y</td>\n",
       "      <td>220314.0</td>\n",
       "      <td>2016.0</td>\n",
       "      <td>DENVER, COLORADO</td>\n",
       "    </tr>\n",
       "    <tr>\n",
       "      <th>5</th>\n",
       "      <td>WITHDRAWN</td>\n",
       "      <td>PEABODY INVESTMENTS CORP.</td>\n",
       "      <td>CHIEF EXECUTIVES</td>\n",
       "      <td>PRESIDENT MONGOLIA AND INDIA</td>\n",
       "      <td>Y</td>\n",
       "      <td>157518.4</td>\n",
       "      <td>2016.0</td>\n",
       "      <td>ST. LOUIS, MISSOURI</td>\n",
       "    </tr>\n",
       "  </tbody>\n",
       "</table>\n",
       "</div>"
      ],
      "text/plain": [
       "           CASE_STATUS                                      EMPLOYER_NAME  \\\n",
       "1  CERTIFIED-WITHDRAWN                             UNIVERSITY OF MICHIGAN   \n",
       "2  CERTIFIED-WITHDRAWN                             GOODMAN NETWORKS, INC.   \n",
       "3  CERTIFIED-WITHDRAWN                          PORTS AMERICA GROUP, INC.   \n",
       "4  CERTIFIED-WITHDRAWN  GATES CORPORATION, A WHOLLY-OWNED SUBSIDIARY O...   \n",
       "5            WITHDRAWN                          PEABODY INVESTMENTS CORP.   \n",
       "\n",
       "                        SOC_NAME                     JOB_TITLE  \\\n",
       "1  BIOCHEMISTS AND BIOPHYSICISTS  POSTDOCTORAL RESEARCH FELLOW   \n",
       "2               CHIEF EXECUTIVES       CHIEF OPERATING OFFICER   \n",
       "3               CHIEF EXECUTIVES         CHIEF PROCESS OFFICER   \n",
       "4               CHIEF EXECUTIVES   REGIONAL PRESIDEN, AMERICAS   \n",
       "5               CHIEF EXECUTIVES  PRESIDENT MONGOLIA AND INDIA   \n",
       "\n",
       "  FULL_TIME_POSITION  PREVAILING_WAGE    YEAR                 WORKSITE  \n",
       "1                  N          36067.0  2016.0      ANN ARBOR, MICHIGAN  \n",
       "2                  Y         242674.0  2016.0             PLANO, TEXAS  \n",
       "3                  Y         193066.0  2016.0  JERSEY CITY, NEW JERSEY  \n",
       "4                  Y         220314.0  2016.0         DENVER, COLORADO  \n",
       "5                  Y         157518.4  2016.0      ST. LOUIS, MISSOURI  "
      ]
     },
     "execution_count": 6,
     "metadata": {},
     "output_type": "execute_result"
    }
   ],
   "source": [
    "df.drop(['Unnamed: 0', 'lon', 'lat'], axis=1, inplace=True) # dropping irrelevant columns\n",
    "df.index = df.index + 1 # setting the staring index to 1\n",
    "df.head()"
   ]
  },
  {
   "cell_type": "code",
   "execution_count": 7,
   "metadata": {},
   "outputs": [
    {
     "data": {
      "image/png": "[encoded data removed]",
      "text/plain": [
       "<Figure size 432x288 with 1 Axes>"
      ]
     },
     "metadata": {
      "needs_background": "light"
     },
     "output_type": "display_data"
    }
   ],
   "source": [
    "plot = df['CASE_STATUS'].value_counts().plot(title = 'CASE STATUS vs APPLICATIONS', kind = 'barh', color = 'Purple')\n",
    "plot.set_xlabel('CASE STATUS')\n",
    "plot.set_ylabel('APPLICATIONS')\n",
    "plt.show()"
   ]
  },
  {
   "cell_type": "code",
   "execution_count": 8,
   "metadata": {},
   "outputs": [
    {
     "data": {
      "text/plain": [
       "CERTIFIED                                             2615623\n",
       "CERTIFIED-WITHDRAWN                                    202659\n",
       "DENIED                                                  94346\n",
       "WITHDRAWN                                               89799\n",
       "PENDING QUALITY AND COMPLIANCE REVIEW - UNASSIGNED         15\n",
       "REJECTED                                                    2\n",
       "INVALIDATED                                                 1\n",
       "Name: CASE_STATUS, dtype: int64"
      ]
     },
     "execution_count": 8,
     "metadata": {},
     "output_type": "execute_result"
    }
   ],
   "source": [
    "df['CASE_STATUS'].value_counts()"
   ]
  },
  {
   "cell_type": "code",
   "execution_count": 9,
   "metadata": {},
   "outputs": [],
   "source": [
    "df_den = df[df['CASE_STATUS'] == 'DENIED']\n",
    "df_cert = df[df['CASE_STATUS'] == 'CERTIFIED']"
   ]
  },
  {
   "cell_type": "code",
   "execution_count": 10,
   "metadata": {},
   "outputs": [],
   "source": [
    "df_cd = df_den.append(df_cert) # Creating a dataframe with CASE_STATUS restricted to Certified or Denied"
   ]
  },
  {
   "cell_type": "code",
   "execution_count": 11,
   "metadata": {},
   "outputs": [
    {
     "data": {
      "text/plain": [
       "(2709969, 8)"
      ]
     },
     "execution_count": 11,
     "metadata": {},
     "output_type": "execute_result"
    }
   ],
   "source": [
    "df_cd.shape"
   ]
  },
  {
   "cell_type": "code",
   "execution_count": 12,
   "metadata": {},
   "outputs": [
    {
     "data": {
      "text/plain": [
       "CERTIFIED    2615623\n",
       "DENIED         94346\n",
       "Name: CASE_STATUS, dtype: int64"
      ]
     },
     "execution_count": 12,
     "metadata": {},
     "output_type": "execute_result"
    }
   ],
   "source": [
    "df_cd['CASE_STATUS'].value_counts()"
   ]
  },
  {
   "cell_type": "code",
   "execution_count": 13,
   "metadata": {},
   "outputs": [
    {
     "data": {
      "image/png": "[encoded data removed]",
      "text/plain": [
       "<Figure size 432x288 with 1 Axes>"
      ]
     },
     "metadata": {
      "needs_background": "light"
     },
     "output_type": "display_data"
    }
   ],
   "source": [
    "plot = df_cd['CASE_STATUS'].value_counts().plot(title = 'CASE STATUS vs APPLICATIONS', kind = 'barh', color = 'Purple')\n",
    "plot.set_xlabel('CASE STATUS')\n",
    "plot.set_ylabel('APPLICATIONS')\n",
    "plt.show()"
   ]
  },
  {
   "cell_type": "code",
   "execution_count": 14,
   "metadata": {},
   "outputs": [
    {
     "data": {
      "text/plain": [
       "INFOSYS LIMITED                      130241\n",
       "TATA CONSULTANCY SERVICES LIMITED     64358\n",
       "WIPRO LIMITED                         43679\n",
       "DELOITTE CONSULTING LLP               36667\n",
       "ACCENTURE LLP                         32983\n",
       "IBM INDIA PRIVATE LIMITED             28166\n",
       "MICROSOFT CORPORATION                 22373\n",
       "HCL AMERICA, INC.                     22330\n",
       "ERNST & YOUNG U.S. LLP                18217\n",
       "LARSEN & TOUBRO INFOTECH LIMITED      16724\n",
       "Name: EMPLOYER_NAME, dtype: int64"
      ]
     },
     "execution_count": 14,
     "metadata": {},
     "output_type": "execute_result"
    }
   ],
   "source": [
    "df_cd['EMPLOYER_NAME'].value_counts().head(10) # Top 10 companies with most applicants"
   ]
  },
  {
   "cell_type": "code",
   "execution_count": 15,
   "metadata": {},
   "outputs": [
    {
     "data": {
      "image/png": "[encoded data removed]",
      "text/plain": [
       "<Figure size 432x288 with 1 Axes>"
      ]
     },
     "metadata": {
      "needs_background": "light"
     },
     "output_type": "display_data"
    }
   ],
   "source": [
    "df_cd['YEAR'] = df_cd['YEAR'].astype(int)\n",
    "plot = df_cd['YEAR'].value_counts().head(10).plot(title = 'APPLICATIONS PER YEAR', kind = 'barh', color = 'Purple')\n",
    "plot.set_xlabel('APPLICATIONS')\n",
    "plot.set_ylabel('YEAR')\n",
    "plt.show()"
   ]
  },
  {
   "cell_type": "code",
   "execution_count": 16,
   "metadata": {},
   "outputs": [
    {
     "data": {
      "text/plain": [
       "Computer Systems Analysts                271368\n",
       "Computer Programmers                     205977\n",
       "SOFTWARE DEVELOPERS, APPLICATIONS        197937\n",
       "COMPUTER SYSTEMS ANALYSTS                197932\n",
       "Software Developers, Applications        174187\n",
       "COMPUTER PROGRAMMERS                     154598\n",
       "COMPUTER OCCUPATIONS, ALL OTHER           99767\n",
       "Computer Occupations, All Other           64892\n",
       "Software Developers, Systems Software     40544\n",
       "Management Analysts                       35876\n",
       "Name: SOC_NAME, dtype: int64"
      ]
     },
     "execution_count": 16,
     "metadata": {},
     "output_type": "execute_result"
    }
   ],
   "source": [
    "df_cd['SOC_NAME'].value_counts().head(10) # Top 10 streams of work with most applicants"
   ]
  },
  {
   "cell_type": "code",
   "execution_count": 17,
   "metadata": {},
   "outputs": [
    {
     "data": {
      "text/plain": [
       "PROGRAMMER ANALYST          226313\n",
       "SOFTWARE ENGINEER           105315\n",
       "COMPUTER PROGRAMMER          65399\n",
       "SYSTEMS ANALYST              56652\n",
       "SOFTWARE DEVELOPER           38745\n",
       "BUSINESS ANALYST             35996\n",
       "COMPUTER SYSTEMS ANALYST     32206\n",
       "TECHNOLOGY LEAD - US         28312\n",
       "TECHNOLOGY ANALYST - US      26013\n",
       "SENIOR SOFTWARE ENGINEER     24109\n",
       "Name: JOB_TITLE, dtype: int64"
      ]
     },
     "execution_count": 17,
     "metadata": {},
     "output_type": "execute_result"
    }
   ],
   "source": [
    "df_cd['JOB_TITLE'].value_counts().head(10) # Top 10 job titles with most applicants"
   ]
  },
  {
   "cell_type": "code",
   "execution_count": 18,
   "metadata": {},
   "outputs": [
    {
     "data": {
      "text/plain": [
       "CASE_STATUS               0\n",
       "EMPLOYER_NAME            18\n",
       "SOC_NAME              15893\n",
       "JOB_TITLE                10\n",
       "FULL_TIME_POSITION        1\n",
       "PREVAILING_WAGE          53\n",
       "YEAR                      0\n",
       "WORKSITE                  0\n",
       "dtype: int64"
      ]
     },
     "execution_count": 18,
     "metadata": {},
     "output_type": "execute_result"
    }
   ],
   "source": [
    "df_cd.isnull().sum(axis = 0)"
   ]
  },
  {
   "cell_type": "code",
   "execution_count": 19,
   "metadata": {},
   "outputs": [
    {
     "name": "stdout",
     "output_type": "stream",
     "text": [
      "(3002458, 8) (2694002, 8)\n"
     ]
    }
   ],
   "source": [
    "df_cd.dropna(subset=['EMPLOYER_NAME', 'SOC_NAME', 'JOB_TITLE', 'FULL_TIME_POSITION', 'PREVAILING_WAGE'], inplace=True) # removing NULL values (NaN)\n",
    "df_cd.drop_duplicates() # removing duplicates if any \n",
    "print(df.shape, df_cd.shape) "
   ]
  },
  {
   "cell_type": "code",
   "execution_count": 21,
   "metadata": {},
   "outputs": [],
   "source": [
    "df_cd['WORKSITE'] = df_cd['WORKSITE'].str.split(',', n = 1, expand = True)[1] # keeping the name of the state only for WORKSITE"
   ]
  },
  {
   "cell_type": "code",
   "execution_count": 22,
   "metadata": {},
   "outputs": [
    {
     "data": {
      "text/html": [
       "<div>\n",
       "<style scoped>\n",
       "    .dataframe tbody tr th:only-of-type {\n",
       "        vertical-align: middle;\n",
       "    }\n",
       "\n",
       "    .dataframe tbody tr th {\n",
       "        vertical-align: top;\n",
       "    }\n",
       "\n",
       "    .dataframe thead th {\n",
       "        text-align: right;\n",
       "    }\n",
       "</style>\n",
       "<table border=\"1\" class=\"dataframe\">\n",
       "  <thead>\n",
       "    <tr style=\"text-align: right;\">\n",
       "      <th></th>\n",
       "      <th>CASE_STATUS</th>\n",
       "      <th>EMPLOYER_NAME</th>\n",
       "      <th>SOC_NAME</th>\n",
       "      <th>JOB_TITLE</th>\n",
       "      <th>FULL_TIME_POSITION</th>\n",
       "      <th>PREVAILING_WAGE</th>\n",
       "      <th>YEAR</th>\n",
       "      <th>WORKSITE</th>\n",
       "    </tr>\n",
       "  </thead>\n",
       "  <tbody>\n",
       "    <tr>\n",
       "      <th>40</th>\n",
       "      <td>DENIED</td>\n",
       "      <td>PARALLELS, INC.</td>\n",
       "      <td>CHIEF EXECUTIVES</td>\n",
       "      <td>CHIEF EXECUTIVE OFFICER</td>\n",
       "      <td>Y</td>\n",
       "      <td>187200.0</td>\n",
       "      <td>2016</td>\n",
       "      <td>WASHINGTON</td>\n",
       "    </tr>\n",
       "    <tr>\n",
       "      <th>48</th>\n",
       "      <td>DENIED</td>\n",
       "      <td>RANCHO LA PUERTA LLC</td>\n",
       "      <td>CHIEF EXECUTIVES</td>\n",
       "      <td>PRESIDENT</td>\n",
       "      <td>Y</td>\n",
       "      <td>197683.2</td>\n",
       "      <td>2016</td>\n",
       "      <td>CALIFORNIA</td>\n",
       "    </tr>\n",
       "    <tr>\n",
       "      <th>92</th>\n",
       "      <td>DENIED</td>\n",
       "      <td>EAGLE MINE LLC</td>\n",
       "      <td>CHIEF EXECUTIVES</td>\n",
       "      <td>GENERAL MANAGER</td>\n",
       "      <td>Y</td>\n",
       "      <td>116334.0</td>\n",
       "      <td>2016</td>\n",
       "      <td>MICHIGAN</td>\n",
       "    </tr>\n",
       "    <tr>\n",
       "      <th>96</th>\n",
       "      <td>DENIED</td>\n",
       "      <td>BAKER &amp; MCKENZIE PC</td>\n",
       "      <td>CHIEF EXECUTIVES</td>\n",
       "      <td>PRINCIPAL (ATTORNEY) AND CHAIRMAN OF THE EXECU...</td>\n",
       "      <td>Y</td>\n",
       "      <td>226699.0</td>\n",
       "      <td>2016</td>\n",
       "      <td>ILLINOIS</td>\n",
       "    </tr>\n",
       "    <tr>\n",
       "      <th>99</th>\n",
       "      <td>DENIED</td>\n",
       "      <td>MANITOWOC FSG OPERATIONS, LLC</td>\n",
       "      <td>CHIEF EXECUTIVES</td>\n",
       "      <td>VP DIGITAL STRATEGY</td>\n",
       "      <td>Y</td>\n",
       "      <td>202363.0</td>\n",
       "      <td>2016</td>\n",
       "      <td>FLORIDA</td>\n",
       "    </tr>\n",
       "  </tbody>\n",
       "</table>\n",
       "</div>"
      ],
      "text/plain": [
       "   CASE_STATUS                  EMPLOYER_NAME          SOC_NAME  \\\n",
       "40      DENIED                PARALLELS, INC.  CHIEF EXECUTIVES   \n",
       "48      DENIED           RANCHO LA PUERTA LLC  CHIEF EXECUTIVES   \n",
       "92      DENIED                 EAGLE MINE LLC  CHIEF EXECUTIVES   \n",
       "96      DENIED            BAKER & MCKENZIE PC  CHIEF EXECUTIVES   \n",
       "99      DENIED  MANITOWOC FSG OPERATIONS, LLC  CHIEF EXECUTIVES   \n",
       "\n",
       "                                            JOB_TITLE FULL_TIME_POSITION  \\\n",
       "40                            CHIEF EXECUTIVE OFFICER                  Y   \n",
       "48                                          PRESIDENT                  Y   \n",
       "92                                    GENERAL MANAGER                  Y   \n",
       "96  PRINCIPAL (ATTORNEY) AND CHAIRMAN OF THE EXECU...                  Y   \n",
       "99                                VP DIGITAL STRATEGY                  Y   \n",
       "\n",
       "    PREVAILING_WAGE  YEAR     WORKSITE  \n",
       "40         187200.0  2016   WASHINGTON  \n",
       "48         197683.2  2016   CALIFORNIA  \n",
       "92         116334.0  2016     MICHIGAN  \n",
       "96         226699.0  2016     ILLINOIS  \n",
       "99         202363.0  2016      FLORIDA  "
      ]
     },
     "execution_count": 22,
     "metadata": {},
     "output_type": "execute_result"
    }
   ],
   "source": [
    "df_cd.head()"
   ]
  },
  {
   "cell_type": "code",
   "execution_count": 58,
   "metadata": {},
   "outputs": [
    {
     "data": {
      "text/plain": [
       " CALIFORNIA       497077\n",
       " TEXAS            262450\n",
       " NEW YORK         261280\n",
       " NEW JERSEY       194532\n",
       " ILLINOIS         145385\n",
       " MASSACHUSETTS    103288\n",
       " PENNSYLVANIA     100382\n",
       " FLORIDA           96796\n",
       " GEORGIA           94016\n",
       " WASHINGTON        91744\n",
       "Name: WORKSITE, dtype: int64"
      ]
     },
     "execution_count": 58,
     "metadata": {},
     "output_type": "execute_result"
    }
   ],
   "source": [
    "df_cd['WORKSITE'].value_counts().head(10) # Top 10 states with most applicants"
   ]
  },
  {
   "cell_type": "markdown",
   "metadata": {},
   "source": [
    "# Feature Engineering"
   ]
  },
  {
   "cell_type": "code",
   "execution_count": 24,
   "metadata": {},
   "outputs": [],
   "source": [
    "# CATEGORIZING THE LIKELIKHOOD OF GETTING YOUR VISA ACCEPTED\n",
    "def acceptance_likelihood(acceptance_rate):\n",
    "    if acceptance_rate == -1:\n",
    "        return 'Rejected'\n",
    "    elif acceptance_rate < 0.25:\n",
    "        return 'Very less'\n",
    "    elif 0.5 > acceptance_rate >= 0.25:\n",
    "        return 'Less'\n",
    "    elif 0.75 > acceptance_rate >= 0.5:\n",
    "        return 'Moderate'\n",
    "    else:\n",
    "        return 'High'"
   ]
  },
  {
   "cell_type": "code",
   "execution_count": 25,
   "metadata": {},
   "outputs": [
    {
     "data": {
      "text/html": [
       "<div>\n",
       "<style scoped>\n",
       "    .dataframe tbody tr th:only-of-type {\n",
       "        vertical-align: middle;\n",
       "    }\n",
       "\n",
       "    .dataframe tbody tr th {\n",
       "        vertical-align: top;\n",
       "    }\n",
       "\n",
       "    .dataframe thead th {\n",
       "        text-align: right;\n",
       "    }\n",
       "</style>\n",
       "<table border=\"1\" class=\"dataframe\">\n",
       "  <thead>\n",
       "    <tr style=\"text-align: right;\">\n",
       "      <th></th>\n",
       "      <th>CASE_STATUS</th>\n",
       "      <th>EMPLOYER_NAME</th>\n",
       "      <th>SOC_NAME</th>\n",
       "      <th>JOB_TITLE</th>\n",
       "      <th>FULL_TIME_POSITION</th>\n",
       "      <th>PREVAILING_WAGE</th>\n",
       "      <th>YEAR</th>\n",
       "      <th>WORKSITE</th>\n",
       "      <th>EMPLOYER_STATUS</th>\n",
       "    </tr>\n",
       "  </thead>\n",
       "  <tbody>\n",
       "    <tr>\n",
       "      <th>40</th>\n",
       "      <td>DENIED</td>\n",
       "      <td>PARALLELS, INC.</td>\n",
       "      <td>CHIEF EXECUTIVES</td>\n",
       "      <td>CHIEF EXECUTIVE OFFICER</td>\n",
       "      <td>Y</td>\n",
       "      <td>187200.0</td>\n",
       "      <td>2016</td>\n",
       "      <td>WASHINGTON</td>\n",
       "      <td>High</td>\n",
       "    </tr>\n",
       "    <tr>\n",
       "      <th>48</th>\n",
       "      <td>DENIED</td>\n",
       "      <td>RANCHO LA PUERTA LLC</td>\n",
       "      <td>CHIEF EXECUTIVES</td>\n",
       "      <td>PRESIDENT</td>\n",
       "      <td>Y</td>\n",
       "      <td>197683.2</td>\n",
       "      <td>2016</td>\n",
       "      <td>CALIFORNIA</td>\n",
       "      <td>Moderate</td>\n",
       "    </tr>\n",
       "    <tr>\n",
       "      <th>92</th>\n",
       "      <td>DENIED</td>\n",
       "      <td>EAGLE MINE LLC</td>\n",
       "      <td>CHIEF EXECUTIVES</td>\n",
       "      <td>GENERAL MANAGER</td>\n",
       "      <td>Y</td>\n",
       "      <td>116334.0</td>\n",
       "      <td>2016</td>\n",
       "      <td>MICHIGAN</td>\n",
       "      <td>Moderate</td>\n",
       "    </tr>\n",
       "    <tr>\n",
       "      <th>96</th>\n",
       "      <td>DENIED</td>\n",
       "      <td>BAKER &amp; MCKENZIE PC</td>\n",
       "      <td>CHIEF EXECUTIVES</td>\n",
       "      <td>PRINCIPAL (ATTORNEY) AND CHAIRMAN OF THE EXECU...</td>\n",
       "      <td>Y</td>\n",
       "      <td>226699.0</td>\n",
       "      <td>2016</td>\n",
       "      <td>ILLINOIS</td>\n",
       "      <td>Moderate</td>\n",
       "    </tr>\n",
       "    <tr>\n",
       "      <th>99</th>\n",
       "      <td>DENIED</td>\n",
       "      <td>MANITOWOC FSG OPERATIONS, LLC</td>\n",
       "      <td>CHIEF EXECUTIVES</td>\n",
       "      <td>VP DIGITAL STRATEGY</td>\n",
       "      <td>Y</td>\n",
       "      <td>202363.0</td>\n",
       "      <td>2016</td>\n",
       "      <td>FLORIDA</td>\n",
       "      <td>High</td>\n",
       "    </tr>\n",
       "  </tbody>\n",
       "</table>\n",
       "</div>"
      ],
      "text/plain": [
       "   CASE_STATUS                  EMPLOYER_NAME          SOC_NAME  \\\n",
       "40      DENIED                PARALLELS, INC.  CHIEF EXECUTIVES   \n",
       "48      DENIED           RANCHO LA PUERTA LLC  CHIEF EXECUTIVES   \n",
       "92      DENIED                 EAGLE MINE LLC  CHIEF EXECUTIVES   \n",
       "96      DENIED            BAKER & MCKENZIE PC  CHIEF EXECUTIVES   \n",
       "99      DENIED  MANITOWOC FSG OPERATIONS, LLC  CHIEF EXECUTIVES   \n",
       "\n",
       "                                            JOB_TITLE FULL_TIME_POSITION  \\\n",
       "40                            CHIEF EXECUTIVE OFFICER                  Y   \n",
       "48                                          PRESIDENT                  Y   \n",
       "92                                    GENERAL MANAGER                  Y   \n",
       "96  PRINCIPAL (ATTORNEY) AND CHAIRMAN OF THE EXECU...                  Y   \n",
       "99                                VP DIGITAL STRATEGY                  Y   \n",
       "\n",
       "    PREVAILING_WAGE  YEAR     WORKSITE EMPLOYER_STATUS  \n",
       "40         187200.0  2016   WASHINGTON            High  \n",
       "48         197683.2  2016   CALIFORNIA        Moderate  \n",
       "92         116334.0  2016     MICHIGAN        Moderate  \n",
       "96         226699.0  2016     ILLINOIS        Moderate  \n",
       "99         202363.0  2016      FLORIDA            High  "
      ]
     },
     "execution_count": 25,
     "metadata": {},
     "output_type": "execute_result"
    }
   ],
   "source": [
    "# ACCEPTANCE RATE FOR EMPLOYER NAME\n",
    "\n",
    "# Total count of visa applications per Employer\n",
    "Employer_cases = df_cd.loc[:, ['EMPLOYER_NAME', 'CASE_STATUS']]\n",
    "total_count = Employer_cases['EMPLOYER_NAME'].value_counts() \n",
    "\n",
    "# Count of certified visa grants per Employer\n",
    "Employer_cases_cert = Employer_cases[Employer_cases['CASE_STATUS'] == 'CERTIFIED']['EMPLOYER_NAME']\n",
    "cert_count  = Employer_cases_cert.value_counts()\n",
    "\n",
    "acceptance_per_emp = cert_count/total_count \n",
    "acceptance_per_emp.fillna(-1, inplace=True)\n",
    "acceptance_per_emp = acceptance_per_emp.apply(acceptance_likelihood)\n",
    "df_cd['EMPLOYER_STATUS'] = df_cd['EMPLOYER_NAME'].map(acceptance_per_emp)\n",
    "\n",
    "df_cd.head()"
   ]
  },
  {
   "cell_type": "code",
   "execution_count": 26,
   "metadata": {},
   "outputs": [
    {
     "data": {
      "text/html": [
       "<div>\n",
       "<style scoped>\n",
       "    .dataframe tbody tr th:only-of-type {\n",
       "        vertical-align: middle;\n",
       "    }\n",
       "\n",
       "    .dataframe tbody tr th {\n",
       "        vertical-align: top;\n",
       "    }\n",
       "\n",
       "    .dataframe thead th {\n",
       "        text-align: right;\n",
       "    }\n",
       "</style>\n",
       "<table border=\"1\" class=\"dataframe\">\n",
       "  <thead>\n",
       "    <tr style=\"text-align: right;\">\n",
       "      <th></th>\n",
       "      <th>CASE_STATUS</th>\n",
       "      <th>EMPLOYER_NAME</th>\n",
       "      <th>SOC_NAME</th>\n",
       "      <th>JOB_TITLE</th>\n",
       "      <th>FULL_TIME_POSITION</th>\n",
       "      <th>PREVAILING_WAGE</th>\n",
       "      <th>YEAR</th>\n",
       "      <th>WORKSITE</th>\n",
       "      <th>EMPLOYER_STATUS</th>\n",
       "      <th>SOC_STATUS</th>\n",
       "    </tr>\n",
       "  </thead>\n",
       "  <tbody>\n",
       "    <tr>\n",
       "      <th>40</th>\n",
       "      <td>DENIED</td>\n",
       "      <td>PARALLELS, INC.</td>\n",
       "      <td>CHIEF EXECUTIVES</td>\n",
       "      <td>CHIEF EXECUTIVE OFFICER</td>\n",
       "      <td>Y</td>\n",
       "      <td>187200.0</td>\n",
       "      <td>2016</td>\n",
       "      <td>WASHINGTON</td>\n",
       "      <td>High</td>\n",
       "      <td>High</td>\n",
       "    </tr>\n",
       "    <tr>\n",
       "      <th>48</th>\n",
       "      <td>DENIED</td>\n",
       "      <td>RANCHO LA PUERTA LLC</td>\n",
       "      <td>CHIEF EXECUTIVES</td>\n",
       "      <td>PRESIDENT</td>\n",
       "      <td>Y</td>\n",
       "      <td>197683.2</td>\n",
       "      <td>2016</td>\n",
       "      <td>CALIFORNIA</td>\n",
       "      <td>Moderate</td>\n",
       "      <td>High</td>\n",
       "    </tr>\n",
       "    <tr>\n",
       "      <th>92</th>\n",
       "      <td>DENIED</td>\n",
       "      <td>EAGLE MINE LLC</td>\n",
       "      <td>CHIEF EXECUTIVES</td>\n",
       "      <td>GENERAL MANAGER</td>\n",
       "      <td>Y</td>\n",
       "      <td>116334.0</td>\n",
       "      <td>2016</td>\n",
       "      <td>MICHIGAN</td>\n",
       "      <td>Moderate</td>\n",
       "      <td>High</td>\n",
       "    </tr>\n",
       "    <tr>\n",
       "      <th>96</th>\n",
       "      <td>DENIED</td>\n",
       "      <td>BAKER &amp; MCKENZIE PC</td>\n",
       "      <td>CHIEF EXECUTIVES</td>\n",
       "      <td>PRINCIPAL (ATTORNEY) AND CHAIRMAN OF THE EXECU...</td>\n",
       "      <td>Y</td>\n",
       "      <td>226699.0</td>\n",
       "      <td>2016</td>\n",
       "      <td>ILLINOIS</td>\n",
       "      <td>Moderate</td>\n",
       "      <td>High</td>\n",
       "    </tr>\n",
       "    <tr>\n",
       "      <th>99</th>\n",
       "      <td>DENIED</td>\n",
       "      <td>MANITOWOC FSG OPERATIONS, LLC</td>\n",
       "      <td>CHIEF EXECUTIVES</td>\n",
       "      <td>VP DIGITAL STRATEGY</td>\n",
       "      <td>Y</td>\n",
       "      <td>202363.0</td>\n",
       "      <td>2016</td>\n",
       "      <td>FLORIDA</td>\n",
       "      <td>High</td>\n",
       "      <td>High</td>\n",
       "    </tr>\n",
       "  </tbody>\n",
       "</table>\n",
       "</div>"
      ],
      "text/plain": [
       "   CASE_STATUS                  EMPLOYER_NAME          SOC_NAME  \\\n",
       "40      DENIED                PARALLELS, INC.  CHIEF EXECUTIVES   \n",
       "48      DENIED           RANCHO LA PUERTA LLC  CHIEF EXECUTIVES   \n",
       "92      DENIED                 EAGLE MINE LLC  CHIEF EXECUTIVES   \n",
       "96      DENIED            BAKER & MCKENZIE PC  CHIEF EXECUTIVES   \n",
       "99      DENIED  MANITOWOC FSG OPERATIONS, LLC  CHIEF EXECUTIVES   \n",
       "\n",
       "                                            JOB_TITLE FULL_TIME_POSITION  \\\n",
       "40                            CHIEF EXECUTIVE OFFICER                  Y   \n",
       "48                                          PRESIDENT                  Y   \n",
       "92                                    GENERAL MANAGER                  Y   \n",
       "96  PRINCIPAL (ATTORNEY) AND CHAIRMAN OF THE EXECU...                  Y   \n",
       "99                                VP DIGITAL STRATEGY                  Y   \n",
       "\n",
       "    PREVAILING_WAGE  YEAR     WORKSITE EMPLOYER_STATUS SOC_STATUS  \n",
       "40         187200.0  2016   WASHINGTON            High       High  \n",
       "48         197683.2  2016   CALIFORNIA        Moderate       High  \n",
       "92         116334.0  2016     MICHIGAN        Moderate       High  \n",
       "96         226699.0  2016     ILLINOIS        Moderate       High  \n",
       "99         202363.0  2016      FLORIDA            High       High  "
      ]
     },
     "execution_count": 26,
     "metadata": {},
     "output_type": "execute_result"
    }
   ],
   "source": [
    "# ACCEPTANCE RATE FOR SOC_NAME\n",
    "\n",
    "# Total count of visa applications per Employer\n",
    "Soc_cases = df_cd.loc[:, ['SOC_NAME', 'CASE_STATUS']]\n",
    "total_count = Soc_cases['SOC_NAME'].value_counts() \n",
    "\n",
    "# Count of certified visa grants per Employer\n",
    "Soc_cases_cert = Soc_cases[Soc_cases['CASE_STATUS'] == 'CERTIFIED']['SOC_NAME']\n",
    "cert_count  = Soc_cases_cert.value_counts()\n",
    "\n",
    "acceptance_per_soc = cert_count/total_count \n",
    "acceptance_per_soc.fillna(-1, inplace=True)\n",
    "acceptance_per_soc = acceptance_per_soc.apply(acceptance_likelihood)\n",
    "df_cd['SOC_STATUS'] = df_cd['SOC_NAME'].map(acceptance_per_soc)\n",
    "\n",
    "df_cd.head()"
   ]
  },
  {
   "cell_type": "code",
   "execution_count": 27,
   "metadata": {},
   "outputs": [
    {
     "data": {
      "text/html": [
       "<div>\n",
       "<style scoped>\n",
       "    .dataframe tbody tr th:only-of-type {\n",
       "        vertical-align: middle;\n",
       "    }\n",
       "\n",
       "    .dataframe tbody tr th {\n",
       "        vertical-align: top;\n",
       "    }\n",
       "\n",
       "    .dataframe thead th {\n",
       "        text-align: right;\n",
       "    }\n",
       "</style>\n",
       "<table border=\"1\" class=\"dataframe\">\n",
       "  <thead>\n",
       "    <tr style=\"text-align: right;\">\n",
       "      <th></th>\n",
       "      <th>CASE_STATUS</th>\n",
       "      <th>EMPLOYER_NAME</th>\n",
       "      <th>SOC_NAME</th>\n",
       "      <th>JOB_TITLE</th>\n",
       "      <th>FULL_TIME_POSITION</th>\n",
       "      <th>PREVAILING_WAGE</th>\n",
       "      <th>YEAR</th>\n",
       "      <th>WORKSITE</th>\n",
       "      <th>EMPLOYER_STATUS</th>\n",
       "      <th>SOC_STATUS</th>\n",
       "      <th>JOB_STATUS</th>\n",
       "    </tr>\n",
       "  </thead>\n",
       "  <tbody>\n",
       "    <tr>\n",
       "      <th>40</th>\n",
       "      <td>DENIED</td>\n",
       "      <td>PARALLELS, INC.</td>\n",
       "      <td>CHIEF EXECUTIVES</td>\n",
       "      <td>CHIEF EXECUTIVE OFFICER</td>\n",
       "      <td>Y</td>\n",
       "      <td>187200.0</td>\n",
       "      <td>2016</td>\n",
       "      <td>WASHINGTON</td>\n",
       "      <td>High</td>\n",
       "      <td>High</td>\n",
       "      <td>High</td>\n",
       "    </tr>\n",
       "    <tr>\n",
       "      <th>48</th>\n",
       "      <td>DENIED</td>\n",
       "      <td>RANCHO LA PUERTA LLC</td>\n",
       "      <td>CHIEF EXECUTIVES</td>\n",
       "      <td>PRESIDENT</td>\n",
       "      <td>Y</td>\n",
       "      <td>197683.2</td>\n",
       "      <td>2016</td>\n",
       "      <td>CALIFORNIA</td>\n",
       "      <td>Moderate</td>\n",
       "      <td>High</td>\n",
       "      <td>High</td>\n",
       "    </tr>\n",
       "    <tr>\n",
       "      <th>92</th>\n",
       "      <td>DENIED</td>\n",
       "      <td>EAGLE MINE LLC</td>\n",
       "      <td>CHIEF EXECUTIVES</td>\n",
       "      <td>GENERAL MANAGER</td>\n",
       "      <td>Y</td>\n",
       "      <td>116334.0</td>\n",
       "      <td>2016</td>\n",
       "      <td>MICHIGAN</td>\n",
       "      <td>Moderate</td>\n",
       "      <td>High</td>\n",
       "      <td>High</td>\n",
       "    </tr>\n",
       "    <tr>\n",
       "      <th>96</th>\n",
       "      <td>DENIED</td>\n",
       "      <td>BAKER &amp; MCKENZIE PC</td>\n",
       "      <td>CHIEF EXECUTIVES</td>\n",
       "      <td>PRINCIPAL (ATTORNEY) AND CHAIRMAN OF THE EXECU...</td>\n",
       "      <td>Y</td>\n",
       "      <td>226699.0</td>\n",
       "      <td>2016</td>\n",
       "      <td>ILLINOIS</td>\n",
       "      <td>Moderate</td>\n",
       "      <td>High</td>\n",
       "      <td>Moderate</td>\n",
       "    </tr>\n",
       "    <tr>\n",
       "      <th>99</th>\n",
       "      <td>DENIED</td>\n",
       "      <td>MANITOWOC FSG OPERATIONS, LLC</td>\n",
       "      <td>CHIEF EXECUTIVES</td>\n",
       "      <td>VP DIGITAL STRATEGY</td>\n",
       "      <td>Y</td>\n",
       "      <td>202363.0</td>\n",
       "      <td>2016</td>\n",
       "      <td>FLORIDA</td>\n",
       "      <td>High</td>\n",
       "      <td>High</td>\n",
       "      <td>Rejected</td>\n",
       "    </tr>\n",
       "  </tbody>\n",
       "</table>\n",
       "</div>"
      ],
      "text/plain": [
       "   CASE_STATUS                  EMPLOYER_NAME          SOC_NAME  \\\n",
       "40      DENIED                PARALLELS, INC.  CHIEF EXECUTIVES   \n",
       "48      DENIED           RANCHO LA PUERTA LLC  CHIEF EXECUTIVES   \n",
       "92      DENIED                 EAGLE MINE LLC  CHIEF EXECUTIVES   \n",
       "96      DENIED            BAKER & MCKENZIE PC  CHIEF EXECUTIVES   \n",
       "99      DENIED  MANITOWOC FSG OPERATIONS, LLC  CHIEF EXECUTIVES   \n",
       "\n",
       "                                            JOB_TITLE FULL_TIME_POSITION  \\\n",
       "40                            CHIEF EXECUTIVE OFFICER                  Y   \n",
       "48                                          PRESIDENT                  Y   \n",
       "92                                    GENERAL MANAGER                  Y   \n",
       "96  PRINCIPAL (ATTORNEY) AND CHAIRMAN OF THE EXECU...                  Y   \n",
       "99                                VP DIGITAL STRATEGY                  Y   \n",
       "\n",
       "    PREVAILING_WAGE  YEAR     WORKSITE EMPLOYER_STATUS SOC_STATUS JOB_STATUS  \n",
       "40         187200.0  2016   WASHINGTON            High       High       High  \n",
       "48         197683.2  2016   CALIFORNIA        Moderate       High       High  \n",
       "92         116334.0  2016     MICHIGAN        Moderate       High       High  \n",
       "96         226699.0  2016     ILLINOIS        Moderate       High   Moderate  \n",
       "99         202363.0  2016      FLORIDA            High       High   Rejected  "
      ]
     },
     "execution_count": 27,
     "metadata": {},
     "output_type": "execute_result"
    }
   ],
   "source": [
    "# ACCEPTANCE RATE FOR JOB_TITLE\n",
    "\n",
    "# Total count of visa applications per Employer\n",
    "Job_cases = df_cd.loc[:, ['JOB_TITLE', 'CASE_STATUS']]\n",
    "total_count = Job_cases['JOB_TITLE'].value_counts() \n",
    "\n",
    "# Count of certified visa grants per Employer\n",
    "Job_cases_cert = Job_cases[Job_cases['CASE_STATUS'] == 'CERTIFIED']['JOB_TITLE']\n",
    "cert_count  = Job_cases_cert.value_counts()\n",
    "\n",
    "acceptance_per_job = cert_count/total_count \n",
    "acceptance_per_job.fillna(-1, inplace=True)\n",
    "acceptance_per_job = acceptance_per_job.apply(acceptance_likelihood)\n",
    "df_cd['JOB_STATUS'] = df_cd['JOB_TITLE'].map(acceptance_per_job)\n",
    "\n",
    "df_cd.head()"
   ]
  },
  {
   "cell_type": "code",
   "execution_count": 28,
   "metadata": {},
   "outputs": [
    {
     "data": {
      "text/html": [
       "<div>\n",
       "<style scoped>\n",
       "    .dataframe tbody tr th:only-of-type {\n",
       "        vertical-align: middle;\n",
       "    }\n",
       "\n",
       "    .dataframe tbody tr th {\n",
       "        vertical-align: top;\n",
       "    }\n",
       "\n",
       "    .dataframe thead th {\n",
       "        text-align: right;\n",
       "    }\n",
       "</style>\n",
       "<table border=\"1\" class=\"dataframe\">\n",
       "  <thead>\n",
       "    <tr style=\"text-align: right;\">\n",
       "      <th></th>\n",
       "      <th>CASE_STATUS</th>\n",
       "      <th>EMPLOYER_NAME</th>\n",
       "      <th>SOC_NAME</th>\n",
       "      <th>JOB_TITLE</th>\n",
       "      <th>FULL_TIME_POSITION</th>\n",
       "      <th>PREVAILING_WAGE</th>\n",
       "      <th>YEAR</th>\n",
       "      <th>WORKSITE</th>\n",
       "      <th>EMPLOYER_STATUS</th>\n",
       "      <th>SOC_STATUS</th>\n",
       "      <th>JOB_STATUS</th>\n",
       "    </tr>\n",
       "  </thead>\n",
       "  <tbody>\n",
       "    <tr>\n",
       "      <th>40</th>\n",
       "      <td>DENIED</td>\n",
       "      <td>PARALLELS, INC.</td>\n",
       "      <td>CHIEF EXECUTIVES</td>\n",
       "      <td>CHIEF EXECUTIVE OFFICER</td>\n",
       "      <td>1</td>\n",
       "      <td>187200.0</td>\n",
       "      <td>2016</td>\n",
       "      <td>WASHINGTON</td>\n",
       "      <td>High</td>\n",
       "      <td>High</td>\n",
       "      <td>High</td>\n",
       "    </tr>\n",
       "    <tr>\n",
       "      <th>48</th>\n",
       "      <td>DENIED</td>\n",
       "      <td>RANCHO LA PUERTA LLC</td>\n",
       "      <td>CHIEF EXECUTIVES</td>\n",
       "      <td>PRESIDENT</td>\n",
       "      <td>1</td>\n",
       "      <td>197683.2</td>\n",
       "      <td>2016</td>\n",
       "      <td>CALIFORNIA</td>\n",
       "      <td>Moderate</td>\n",
       "      <td>High</td>\n",
       "      <td>High</td>\n",
       "    </tr>\n",
       "    <tr>\n",
       "      <th>92</th>\n",
       "      <td>DENIED</td>\n",
       "      <td>EAGLE MINE LLC</td>\n",
       "      <td>CHIEF EXECUTIVES</td>\n",
       "      <td>GENERAL MANAGER</td>\n",
       "      <td>1</td>\n",
       "      <td>116334.0</td>\n",
       "      <td>2016</td>\n",
       "      <td>MICHIGAN</td>\n",
       "      <td>Moderate</td>\n",
       "      <td>High</td>\n",
       "      <td>High</td>\n",
       "    </tr>\n",
       "    <tr>\n",
       "      <th>96</th>\n",
       "      <td>DENIED</td>\n",
       "      <td>BAKER &amp; MCKENZIE PC</td>\n",
       "      <td>CHIEF EXECUTIVES</td>\n",
       "      <td>PRINCIPAL (ATTORNEY) AND CHAIRMAN OF THE EXECU...</td>\n",
       "      <td>1</td>\n",
       "      <td>226699.0</td>\n",
       "      <td>2016</td>\n",
       "      <td>ILLINOIS</td>\n",
       "      <td>Moderate</td>\n",
       "      <td>High</td>\n",
       "      <td>Moderate</td>\n",
       "    </tr>\n",
       "    <tr>\n",
       "      <th>99</th>\n",
       "      <td>DENIED</td>\n",
       "      <td>MANITOWOC FSG OPERATIONS, LLC</td>\n",
       "      <td>CHIEF EXECUTIVES</td>\n",
       "      <td>VP DIGITAL STRATEGY</td>\n",
       "      <td>1</td>\n",
       "      <td>202363.0</td>\n",
       "      <td>2016</td>\n",
       "      <td>FLORIDA</td>\n",
       "      <td>High</td>\n",
       "      <td>High</td>\n",
       "      <td>Rejected</td>\n",
       "    </tr>\n",
       "  </tbody>\n",
       "</table>\n",
       "</div>"
      ],
      "text/plain": [
       "   CASE_STATUS                  EMPLOYER_NAME          SOC_NAME  \\\n",
       "40      DENIED                PARALLELS, INC.  CHIEF EXECUTIVES   \n",
       "48      DENIED           RANCHO LA PUERTA LLC  CHIEF EXECUTIVES   \n",
       "92      DENIED                 EAGLE MINE LLC  CHIEF EXECUTIVES   \n",
       "96      DENIED            BAKER & MCKENZIE PC  CHIEF EXECUTIVES   \n",
       "99      DENIED  MANITOWOC FSG OPERATIONS, LLC  CHIEF EXECUTIVES   \n",
       "\n",
       "                                            JOB_TITLE  FULL_TIME_POSITION  \\\n",
       "40                            CHIEF EXECUTIVE OFFICER                   1   \n",
       "48                                          PRESIDENT                   1   \n",
       "92                                    GENERAL MANAGER                   1   \n",
       "96  PRINCIPAL (ATTORNEY) AND CHAIRMAN OF THE EXECU...                   1   \n",
       "99                                VP DIGITAL STRATEGY                   1   \n",
       "\n",
       "    PREVAILING_WAGE  YEAR     WORKSITE EMPLOYER_STATUS SOC_STATUS JOB_STATUS  \n",
       "40         187200.0  2016   WASHINGTON            High       High       High  \n",
       "48         197683.2  2016   CALIFORNIA        Moderate       High       High  \n",
       "92         116334.0  2016     MICHIGAN        Moderate       High       High  \n",
       "96         226699.0  2016     ILLINOIS        Moderate       High   Moderate  \n",
       "99         202363.0  2016      FLORIDA            High       High   Rejected  "
      ]
     },
     "execution_count": 28,
     "metadata": {},
     "output_type": "execute_result"
    }
   ],
   "source": [
    "df_cd['FULL_TIME_POSITION'] = df_cd['FULL_TIME_POSITION'].map({'Y':1 ,'N':0}) # Replacing into 1/0 values\n",
    "df_cd.head()"
   ]
  },
  {
   "cell_type": "code",
   "execution_count": 29,
   "metadata": {},
   "outputs": [
    {
     "data": {
      "text/plain": [
       "148074.1502153208"
      ]
     },
     "execution_count": 29,
     "metadata": {},
     "output_type": "execute_result"
    }
   ],
   "source": [
    "df_cd['PREVAILING_WAGE'].mean()"
   ]
  },
  {
   "cell_type": "code",
   "execution_count": 30,
   "metadata": {},
   "outputs": [
    {
     "data": {
      "text/plain": [
       "count    2.694002e+06\n",
       "mean     1.480742e+05\n",
       "std      5.481327e+06\n",
       "min      0.000000e+00\n",
       "25%      5.449600e+04\n",
       "50%      6.502750e+04\n",
       "75%      8.139000e+04\n",
       "max      6.997607e+09\n",
       "Name: PREVAILING_WAGE, dtype: float64"
      ]
     },
     "execution_count": 30,
     "metadata": {},
     "output_type": "execute_result"
    }
   ],
   "source": [
    "df_cd['PREVAILING_WAGE'].describe()"
   ]
  },
  {
   "cell_type": "code",
   "execution_count": 31,
   "metadata": {},
   "outputs": [],
   "source": [
    "# Categorizing the wage\n",
    "def wage_approximation(wage):\n",
    "    if wage <= 55000:\n",
    "        return 'Very low'\n",
    "    elif 90000 >= wage > 55000:\n",
    "        return 'Low'\n",
    "    elif 160000 >= wage > 90000:\n",
    "        return 'Medium'\n",
    "    else:\n",
    "        return 'High'"
   ]
  },
  {
   "cell_type": "code",
   "execution_count": 32,
   "metadata": {},
   "outputs": [
    {
     "data": {
      "text/html": [
       "<div>\n",
       "<style scoped>\n",
       "    .dataframe tbody tr th:only-of-type {\n",
       "        vertical-align: middle;\n",
       "    }\n",
       "\n",
       "    .dataframe tbody tr th {\n",
       "        vertical-align: top;\n",
       "    }\n",
       "\n",
       "    .dataframe thead th {\n",
       "        text-align: right;\n",
       "    }\n",
       "</style>\n",
       "<table border=\"1\" class=\"dataframe\">\n",
       "  <thead>\n",
       "    <tr style=\"text-align: right;\">\n",
       "      <th></th>\n",
       "      <th>CASE_STATUS</th>\n",
       "      <th>EMPLOYER_NAME</th>\n",
       "      <th>SOC_NAME</th>\n",
       "      <th>JOB_TITLE</th>\n",
       "      <th>FULL_TIME_POSITION</th>\n",
       "      <th>PREVAILING_WAGE</th>\n",
       "      <th>YEAR</th>\n",
       "      <th>WORKSITE</th>\n",
       "      <th>EMPLOYER_STATUS</th>\n",
       "      <th>SOC_STATUS</th>\n",
       "      <th>JOB_STATUS</th>\n",
       "      <th>WAGE_APPROX</th>\n",
       "    </tr>\n",
       "  </thead>\n",
       "  <tbody>\n",
       "    <tr>\n",
       "      <th>40</th>\n",
       "      <td>DENIED</td>\n",
       "      <td>PARALLELS, INC.</td>\n",
       "      <td>CHIEF EXECUTIVES</td>\n",
       "      <td>CHIEF EXECUTIVE OFFICER</td>\n",
       "      <td>1</td>\n",
       "      <td>187200.0</td>\n",
       "      <td>2016</td>\n",
       "      <td>WASHINGTON</td>\n",
       "      <td>High</td>\n",
       "      <td>High</td>\n",
       "      <td>High</td>\n",
       "      <td>High</td>\n",
       "    </tr>\n",
       "    <tr>\n",
       "      <th>48</th>\n",
       "      <td>DENIED</td>\n",
       "      <td>RANCHO LA PUERTA LLC</td>\n",
       "      <td>CHIEF EXECUTIVES</td>\n",
       "      <td>PRESIDENT</td>\n",
       "      <td>1</td>\n",
       "      <td>197683.2</td>\n",
       "      <td>2016</td>\n",
       "      <td>CALIFORNIA</td>\n",
       "      <td>Moderate</td>\n",
       "      <td>High</td>\n",
       "      <td>High</td>\n",
       "      <td>High</td>\n",
       "    </tr>\n",
       "    <tr>\n",
       "      <th>92</th>\n",
       "      <td>DENIED</td>\n",
       "      <td>EAGLE MINE LLC</td>\n",
       "      <td>CHIEF EXECUTIVES</td>\n",
       "      <td>GENERAL MANAGER</td>\n",
       "      <td>1</td>\n",
       "      <td>116334.0</td>\n",
       "      <td>2016</td>\n",
       "      <td>MICHIGAN</td>\n",
       "      <td>Moderate</td>\n",
       "      <td>High</td>\n",
       "      <td>High</td>\n",
       "      <td>Medium</td>\n",
       "    </tr>\n",
       "    <tr>\n",
       "      <th>96</th>\n",
       "      <td>DENIED</td>\n",
       "      <td>BAKER &amp; MCKENZIE PC</td>\n",
       "      <td>CHIEF EXECUTIVES</td>\n",
       "      <td>PRINCIPAL (ATTORNEY) AND CHAIRMAN OF THE EXECU...</td>\n",
       "      <td>1</td>\n",
       "      <td>226699.0</td>\n",
       "      <td>2016</td>\n",
       "      <td>ILLINOIS</td>\n",
       "      <td>Moderate</td>\n",
       "      <td>High</td>\n",
       "      <td>Moderate</td>\n",
       "      <td>High</td>\n",
       "    </tr>\n",
       "    <tr>\n",
       "      <th>99</th>\n",
       "      <td>DENIED</td>\n",
       "      <td>MANITOWOC FSG OPERATIONS, LLC</td>\n",
       "      <td>CHIEF EXECUTIVES</td>\n",
       "      <td>VP DIGITAL STRATEGY</td>\n",
       "      <td>1</td>\n",
       "      <td>202363.0</td>\n",
       "      <td>2016</td>\n",
       "      <td>FLORIDA</td>\n",
       "      <td>High</td>\n",
       "      <td>High</td>\n",
       "      <td>Rejected</td>\n",
       "      <td>High</td>\n",
       "    </tr>\n",
       "  </tbody>\n",
       "</table>\n",
       "</div>"
      ],
      "text/plain": [
       "   CASE_STATUS                  EMPLOYER_NAME          SOC_NAME  \\\n",
       "40      DENIED                PARALLELS, INC.  CHIEF EXECUTIVES   \n",
       "48      DENIED           RANCHO LA PUERTA LLC  CHIEF EXECUTIVES   \n",
       "92      DENIED                 EAGLE MINE LLC  CHIEF EXECUTIVES   \n",
       "96      DENIED            BAKER & MCKENZIE PC  CHIEF EXECUTIVES   \n",
       "99      DENIED  MANITOWOC FSG OPERATIONS, LLC  CHIEF EXECUTIVES   \n",
       "\n",
       "                                            JOB_TITLE  FULL_TIME_POSITION  \\\n",
       "40                            CHIEF EXECUTIVE OFFICER                   1   \n",
       "48                                          PRESIDENT                   1   \n",
       "92                                    GENERAL MANAGER                   1   \n",
       "96  PRINCIPAL (ATTORNEY) AND CHAIRMAN OF THE EXECU...                   1   \n",
       "99                                VP DIGITAL STRATEGY                   1   \n",
       "\n",
       "    PREVAILING_WAGE  YEAR     WORKSITE EMPLOYER_STATUS SOC_STATUS JOB_STATUS  \\\n",
       "40         187200.0  2016   WASHINGTON            High       High       High   \n",
       "48         197683.2  2016   CALIFORNIA        Moderate       High       High   \n",
       "92         116334.0  2016     MICHIGAN        Moderate       High       High   \n",
       "96         226699.0  2016     ILLINOIS        Moderate       High   Moderate   \n",
       "99         202363.0  2016      FLORIDA            High       High   Rejected   \n",
       "\n",
       "   WAGE_APPROX  \n",
       "40        High  \n",
       "48        High  \n",
       "92      Medium  \n",
       "96        High  \n",
       "99        High  "
      ]
     },
     "execution_count": 32,
     "metadata": {},
     "output_type": "execute_result"
    }
   ],
   "source": [
    "df_cd['WAGE_APPROX'] = df_cd['PREVAILING_WAGE'].apply(wage_approximation) \n",
    "df_cd.head()"
   ]
  },
  {
   "cell_type": "code",
   "execution_count": 33,
   "metadata": {},
   "outputs": [
    {
     "data": {
      "text/html": [
       "<div>\n",
       "<style scoped>\n",
       "    .dataframe tbody tr th:only-of-type {\n",
       "        vertical-align: middle;\n",
       "    }\n",
       "\n",
       "    .dataframe tbody tr th {\n",
       "        vertical-align: top;\n",
       "    }\n",
       "\n",
       "    .dataframe thead th {\n",
       "        text-align: right;\n",
       "    }\n",
       "</style>\n",
       "<table border=\"1\" class=\"dataframe\">\n",
       "  <thead>\n",
       "    <tr style=\"text-align: right;\">\n",
       "      <th></th>\n",
       "      <th>CASE_STATUS</th>\n",
       "      <th>EMPLOYER_NAME</th>\n",
       "      <th>SOC_NAME</th>\n",
       "      <th>JOB_TITLE</th>\n",
       "      <th>FULL_TIME_POSITION</th>\n",
       "      <th>PREVAILING_WAGE</th>\n",
       "      <th>YEAR</th>\n",
       "      <th>WORKSITE</th>\n",
       "      <th>EMPLOYER_STATUS</th>\n",
       "      <th>SOC_STATUS</th>\n",
       "      <th>JOB_STATUS</th>\n",
       "      <th>WAGE_APPROX</th>\n",
       "    </tr>\n",
       "  </thead>\n",
       "  <tbody>\n",
       "    <tr>\n",
       "      <th>40</th>\n",
       "      <td>0</td>\n",
       "      <td>PARALLELS, INC.</td>\n",
       "      <td>CHIEF EXECUTIVES</td>\n",
       "      <td>CHIEF EXECUTIVE OFFICER</td>\n",
       "      <td>1</td>\n",
       "      <td>187200.0</td>\n",
       "      <td>2016</td>\n",
       "      <td>WASHINGTON</td>\n",
       "      <td>High</td>\n",
       "      <td>High</td>\n",
       "      <td>High</td>\n",
       "      <td>High</td>\n",
       "    </tr>\n",
       "    <tr>\n",
       "      <th>48</th>\n",
       "      <td>0</td>\n",
       "      <td>RANCHO LA PUERTA LLC</td>\n",
       "      <td>CHIEF EXECUTIVES</td>\n",
       "      <td>PRESIDENT</td>\n",
       "      <td>1</td>\n",
       "      <td>197683.2</td>\n",
       "      <td>2016</td>\n",
       "      <td>CALIFORNIA</td>\n",
       "      <td>Moderate</td>\n",
       "      <td>High</td>\n",
       "      <td>High</td>\n",
       "      <td>High</td>\n",
       "    </tr>\n",
       "    <tr>\n",
       "      <th>92</th>\n",
       "      <td>0</td>\n",
       "      <td>EAGLE MINE LLC</td>\n",
       "      <td>CHIEF EXECUTIVES</td>\n",
       "      <td>GENERAL MANAGER</td>\n",
       "      <td>1</td>\n",
       "      <td>116334.0</td>\n",
       "      <td>2016</td>\n",
       "      <td>MICHIGAN</td>\n",
       "      <td>Moderate</td>\n",
       "      <td>High</td>\n",
       "      <td>High</td>\n",
       "      <td>Medium</td>\n",
       "    </tr>\n",
       "    <tr>\n",
       "      <th>96</th>\n",
       "      <td>0</td>\n",
       "      <td>BAKER &amp; MCKENZIE PC</td>\n",
       "      <td>CHIEF EXECUTIVES</td>\n",
       "      <td>PRINCIPAL (ATTORNEY) AND CHAIRMAN OF THE EXECU...</td>\n",
       "      <td>1</td>\n",
       "      <td>226699.0</td>\n",
       "      <td>2016</td>\n",
       "      <td>ILLINOIS</td>\n",
       "      <td>Moderate</td>\n",
       "      <td>High</td>\n",
       "      <td>Moderate</td>\n",
       "      <td>High</td>\n",
       "    </tr>\n",
       "    <tr>\n",
       "      <th>99</th>\n",
       "      <td>0</td>\n",
       "      <td>MANITOWOC FSG OPERATIONS, LLC</td>\n",
       "      <td>CHIEF EXECUTIVES</td>\n",
       "      <td>VP DIGITAL STRATEGY</td>\n",
       "      <td>1</td>\n",
       "      <td>202363.0</td>\n",
       "      <td>2016</td>\n",
       "      <td>FLORIDA</td>\n",
       "      <td>High</td>\n",
       "      <td>High</td>\n",
       "      <td>Rejected</td>\n",
       "      <td>High</td>\n",
       "    </tr>\n",
       "  </tbody>\n",
       "</table>\n",
       "</div>"
      ],
      "text/plain": [
       "    CASE_STATUS                  EMPLOYER_NAME          SOC_NAME  \\\n",
       "40            0                PARALLELS, INC.  CHIEF EXECUTIVES   \n",
       "48            0           RANCHO LA PUERTA LLC  CHIEF EXECUTIVES   \n",
       "92            0                 EAGLE MINE LLC  CHIEF EXECUTIVES   \n",
       "96            0            BAKER & MCKENZIE PC  CHIEF EXECUTIVES   \n",
       "99            0  MANITOWOC FSG OPERATIONS, LLC  CHIEF EXECUTIVES   \n",
       "\n",
       "                                            JOB_TITLE  FULL_TIME_POSITION  \\\n",
       "40                            CHIEF EXECUTIVE OFFICER                   1   \n",
       "48                                          PRESIDENT                   1   \n",
       "92                                    GENERAL MANAGER                   1   \n",
       "96  PRINCIPAL (ATTORNEY) AND CHAIRMAN OF THE EXECU...                   1   \n",
       "99                                VP DIGITAL STRATEGY                   1   \n",
       "\n",
       "    PREVAILING_WAGE  YEAR     WORKSITE EMPLOYER_STATUS SOC_STATUS JOB_STATUS  \\\n",
       "40         187200.0  2016   WASHINGTON            High       High       High   \n",
       "48         197683.2  2016   CALIFORNIA        Moderate       High       High   \n",
       "92         116334.0  2016     MICHIGAN        Moderate       High       High   \n",
       "96         226699.0  2016     ILLINOIS        Moderate       High   Moderate   \n",
       "99         202363.0  2016      FLORIDA            High       High   Rejected   \n",
       "\n",
       "   WAGE_APPROX  \n",
       "40        High  \n",
       "48        High  \n",
       "92      Medium  \n",
       "96        High  \n",
       "99        High  "
      ]
     },
     "execution_count": 33,
     "metadata": {},
     "output_type": "execute_result"
    }
   ],
   "source": [
    "df_cd['CASE_STATUS'] = df_cd['CASE_STATUS'].map({'CERTIFIED':1 ,'DENIED':0})\n",
    "df_cd.head()"
   ]
  },
  {
   "cell_type": "code",
   "execution_count": 34,
   "metadata": {},
   "outputs": [
    {
     "data": {
      "text/html": [
       "<div>\n",
       "<style scoped>\n",
       "    .dataframe tbody tr th:only-of-type {\n",
       "        vertical-align: middle;\n",
       "    }\n",
       "\n",
       "    .dataframe tbody tr th {\n",
       "        vertical-align: top;\n",
       "    }\n",
       "\n",
       "    .dataframe thead th {\n",
       "        text-align: right;\n",
       "    }\n",
       "</style>\n",
       "<table border=\"1\" class=\"dataframe\">\n",
       "  <thead>\n",
       "    <tr style=\"text-align: right;\">\n",
       "      <th></th>\n",
       "      <th>CASE_STATUS</th>\n",
       "      <th>FULL_TIME_POSITION</th>\n",
       "      <th>YEAR</th>\n",
       "      <th>WORKSITE</th>\n",
       "      <th>EMPLOYER_STATUS</th>\n",
       "      <th>SOC_STATUS</th>\n",
       "      <th>JOB_STATUS</th>\n",
       "      <th>WAGE_APPROX</th>\n",
       "    </tr>\n",
       "  </thead>\n",
       "  <tbody>\n",
       "    <tr>\n",
       "      <th>40</th>\n",
       "      <td>0</td>\n",
       "      <td>1</td>\n",
       "      <td>2016</td>\n",
       "      <td>WASHINGTON</td>\n",
       "      <td>High</td>\n",
       "      <td>High</td>\n",
       "      <td>High</td>\n",
       "      <td>High</td>\n",
       "    </tr>\n",
       "    <tr>\n",
       "      <th>48</th>\n",
       "      <td>0</td>\n",
       "      <td>1</td>\n",
       "      <td>2016</td>\n",
       "      <td>CALIFORNIA</td>\n",
       "      <td>Moderate</td>\n",
       "      <td>High</td>\n",
       "      <td>High</td>\n",
       "      <td>High</td>\n",
       "    </tr>\n",
       "    <tr>\n",
       "      <th>92</th>\n",
       "      <td>0</td>\n",
       "      <td>1</td>\n",
       "      <td>2016</td>\n",
       "      <td>MICHIGAN</td>\n",
       "      <td>Moderate</td>\n",
       "      <td>High</td>\n",
       "      <td>High</td>\n",
       "      <td>Medium</td>\n",
       "    </tr>\n",
       "    <tr>\n",
       "      <th>96</th>\n",
       "      <td>0</td>\n",
       "      <td>1</td>\n",
       "      <td>2016</td>\n",
       "      <td>ILLINOIS</td>\n",
       "      <td>Moderate</td>\n",
       "      <td>High</td>\n",
       "      <td>Moderate</td>\n",
       "      <td>High</td>\n",
       "    </tr>\n",
       "    <tr>\n",
       "      <th>99</th>\n",
       "      <td>0</td>\n",
       "      <td>1</td>\n",
       "      <td>2016</td>\n",
       "      <td>FLORIDA</td>\n",
       "      <td>High</td>\n",
       "      <td>High</td>\n",
       "      <td>Rejected</td>\n",
       "      <td>High</td>\n",
       "    </tr>\n",
       "  </tbody>\n",
       "</table>\n",
       "</div>"
      ],
      "text/plain": [
       "    CASE_STATUS  FULL_TIME_POSITION  YEAR     WORKSITE EMPLOYER_STATUS  \\\n",
       "40            0                   1  2016   WASHINGTON            High   \n",
       "48            0                   1  2016   CALIFORNIA        Moderate   \n",
       "92            0                   1  2016     MICHIGAN        Moderate   \n",
       "96            0                   1  2016     ILLINOIS        Moderate   \n",
       "99            0                   1  2016      FLORIDA            High   \n",
       "\n",
       "   SOC_STATUS JOB_STATUS WAGE_APPROX  \n",
       "40       High       High        High  \n",
       "48       High       High        High  \n",
       "92       High       High      Medium  \n",
       "96       High   Moderate        High  \n",
       "99       High   Rejected        High  "
      ]
     },
     "execution_count": 34,
     "metadata": {},
     "output_type": "execute_result"
    }
   ],
   "source": [
    "temp_training = df_cd.drop(columns=['EMPLOYER_NAME', 'SOC_NAME', 'JOB_TITLE', 'PREVAILING_WAGE']) # Keeping only the essential features \n",
    "temp_training.head()"
   ]
  },
  {
   "cell_type": "code",
   "execution_count": 35,
   "metadata": {},
   "outputs": [
    {
     "data": {
      "text/html": [
       "<div>\n",
       "<style scoped>\n",
       "    .dataframe tbody tr th:only-of-type {\n",
       "        vertical-align: middle;\n",
       "    }\n",
       "\n",
       "    .dataframe tbody tr th {\n",
       "        vertical-align: top;\n",
       "    }\n",
       "\n",
       "    .dataframe thead th {\n",
       "        text-align: right;\n",
       "    }\n",
       "</style>\n",
       "<table border=\"1\" class=\"dataframe\">\n",
       "  <thead>\n",
       "    <tr style=\"text-align: right;\">\n",
       "      <th></th>\n",
       "      <th>CASE_STATUS</th>\n",
       "      <th>FULL_TIME_POSITION</th>\n",
       "      <th>YEAR_2012</th>\n",
       "      <th>YEAR_2013</th>\n",
       "      <th>YEAR_2014</th>\n",
       "      <th>YEAR_2015</th>\n",
       "      <th>YEAR_2016</th>\n",
       "      <th>WORKSITE_ ALASKA</th>\n",
       "      <th>WORKSITE_ ARIZONA</th>\n",
       "      <th>WORKSITE_ ARKANSAS</th>\n",
       "      <th>...</th>\n",
       "      <th>EMPLOYER_STATUS_Rejected</th>\n",
       "      <th>EMPLOYER_STATUS_Very less</th>\n",
       "      <th>JOB_STATUS_Less</th>\n",
       "      <th>JOB_STATUS_Moderate</th>\n",
       "      <th>JOB_STATUS_Rejected</th>\n",
       "      <th>JOB_STATUS_Very less</th>\n",
       "      <th>SOC_STATUS_Less</th>\n",
       "      <th>SOC_STATUS_Moderate</th>\n",
       "      <th>SOC_STATUS_Rejected</th>\n",
       "      <th>SOC_STATUS_Very less</th>\n",
       "    </tr>\n",
       "  </thead>\n",
       "  <tbody>\n",
       "    <tr>\n",
       "      <th>40</th>\n",
       "      <td>0</td>\n",
       "      <td>1</td>\n",
       "      <td>0</td>\n",
       "      <td>0</td>\n",
       "      <td>0</td>\n",
       "      <td>0</td>\n",
       "      <td>1</td>\n",
       "      <td>0</td>\n",
       "      <td>0</td>\n",
       "      <td>0</td>\n",
       "      <td>...</td>\n",
       "      <td>0</td>\n",
       "      <td>0</td>\n",
       "      <td>0</td>\n",
       "      <td>0</td>\n",
       "      <td>0</td>\n",
       "      <td>0</td>\n",
       "      <td>0</td>\n",
       "      <td>0</td>\n",
       "      <td>0</td>\n",
       "      <td>0</td>\n",
       "    </tr>\n",
       "    <tr>\n",
       "      <th>48</th>\n",
       "      <td>0</td>\n",
       "      <td>1</td>\n",
       "      <td>0</td>\n",
       "      <td>0</td>\n",
       "      <td>0</td>\n",
       "      <td>0</td>\n",
       "      <td>1</td>\n",
       "      <td>0</td>\n",
       "      <td>0</td>\n",
       "      <td>0</td>\n",
       "      <td>...</td>\n",
       "      <td>0</td>\n",
       "      <td>0</td>\n",
       "      <td>0</td>\n",
       "      <td>0</td>\n",
       "      <td>0</td>\n",
       "      <td>0</td>\n",
       "      <td>0</td>\n",
       "      <td>0</td>\n",
       "      <td>0</td>\n",
       "      <td>0</td>\n",
       "    </tr>\n",
       "    <tr>\n",
       "      <th>92</th>\n",
       "      <td>0</td>\n",
       "      <td>1</td>\n",
       "      <td>0</td>\n",
       "      <td>0</td>\n",
       "      <td>0</td>\n",
       "      <td>0</td>\n",
       "      <td>1</td>\n",
       "      <td>0</td>\n",
       "      <td>0</td>\n",
       "      <td>0</td>\n",
       "      <td>...</td>\n",
       "      <td>0</td>\n",
       "      <td>0</td>\n",
       "      <td>0</td>\n",
       "      <td>0</td>\n",
       "      <td>0</td>\n",
       "      <td>0</td>\n",
       "      <td>0</td>\n",
       "      <td>0</td>\n",
       "      <td>0</td>\n",
       "      <td>0</td>\n",
       "    </tr>\n",
       "    <tr>\n",
       "      <th>96</th>\n",
       "      <td>0</td>\n",
       "      <td>1</td>\n",
       "      <td>0</td>\n",
       "      <td>0</td>\n",
       "      <td>0</td>\n",
       "      <td>0</td>\n",
       "      <td>1</td>\n",
       "      <td>0</td>\n",
       "      <td>0</td>\n",
       "      <td>0</td>\n",
       "      <td>...</td>\n",
       "      <td>0</td>\n",
       "      <td>0</td>\n",
       "      <td>0</td>\n",
       "      <td>1</td>\n",
       "      <td>0</td>\n",
       "      <td>0</td>\n",
       "      <td>0</td>\n",
       "      <td>0</td>\n",
       "      <td>0</td>\n",
       "      <td>0</td>\n",
       "    </tr>\n",
       "    <tr>\n",
       "      <th>99</th>\n",
       "      <td>0</td>\n",
       "      <td>1</td>\n",
       "      <td>0</td>\n",
       "      <td>0</td>\n",
       "      <td>0</td>\n",
       "      <td>0</td>\n",
       "      <td>1</td>\n",
       "      <td>0</td>\n",
       "      <td>0</td>\n",
       "      <td>0</td>\n",
       "      <td>...</td>\n",
       "      <td>0</td>\n",
       "      <td>0</td>\n",
       "      <td>0</td>\n",
       "      <td>0</td>\n",
       "      <td>1</td>\n",
       "      <td>0</td>\n",
       "      <td>0</td>\n",
       "      <td>0</td>\n",
       "      <td>0</td>\n",
       "      <td>0</td>\n",
       "    </tr>\n",
       "  </tbody>\n",
       "</table>\n",
       "<p>5 rows × 74 columns</p>\n",
       "</div>"
      ],
      "text/plain": [
       "    CASE_STATUS  FULL_TIME_POSITION  YEAR_2012  YEAR_2013  YEAR_2014  \\\n",
       "40            0                   1          0          0          0   \n",
       "48            0                   1          0          0          0   \n",
       "92            0                   1          0          0          0   \n",
       "96            0                   1          0          0          0   \n",
       "99            0                   1          0          0          0   \n",
       "\n",
       "    YEAR_2015  YEAR_2016  WORKSITE_ ALASKA  WORKSITE_ ARIZONA  \\\n",
       "40          0          1                 0                  0   \n",
       "48          0          1                 0                  0   \n",
       "92          0          1                 0                  0   \n",
       "96          0          1                 0                  0   \n",
       "99          0          1                 0                  0   \n",
       "\n",
       "    WORKSITE_ ARKANSAS          ...           EMPLOYER_STATUS_Rejected  \\\n",
       "40                   0          ...                                  0   \n",
       "48                   0          ...                                  0   \n",
       "92                   0          ...                                  0   \n",
       "96                   0          ...                                  0   \n",
       "99                   0          ...                                  0   \n",
       "\n",
       "    EMPLOYER_STATUS_Very less  JOB_STATUS_Less  JOB_STATUS_Moderate  \\\n",
       "40                          0                0                    0   \n",
       "48                          0                0                    0   \n",
       "92                          0                0                    0   \n",
       "96                          0                0                    1   \n",
       "99                          0                0                    0   \n",
       "\n",
       "    JOB_STATUS_Rejected  JOB_STATUS_Very less  SOC_STATUS_Less  \\\n",
       "40                    0                     0                0   \n",
       "48                    0                     0                0   \n",
       "92                    0                     0                0   \n",
       "96                    0                     0                0   \n",
       "99                    1                     0                0   \n",
       "\n",
       "    SOC_STATUS_Moderate  SOC_STATUS_Rejected  SOC_STATUS_Very less  \n",
       "40                    0                    0                     0  \n",
       "48                    0                    0                     0  \n",
       "92                    0                    0                     0  \n",
       "96                    0                    0                     0  \n",
       "99                    0                    0                     0  \n",
       "\n",
       "[5 rows x 74 columns]"
      ]
     },
     "execution_count": 35,
     "metadata": {},
     "output_type": "execute_result"
    }
   ],
   "source": [
    "training_df = pd.get_dummies(temp_training, columns=['YEAR', 'WORKSITE', 'WAGE_APPROX', 'EMPLOYER_STATUS','JOB_STATUS', 'SOC_STATUS' ], drop_first=True)\n",
    "training_df.head() # Creating a dataframe with categorical values coverted to indicator values"
   ]
  },
  {
   "cell_type": "code",
   "execution_count": 36,
   "metadata": {},
   "outputs": [
    {
     "data": {
      "text/plain": [
       "(2694002, 74)"
      ]
     },
     "execution_count": 36,
     "metadata": {},
     "output_type": "execute_result"
    }
   ],
   "source": [
    "training_df.shape"
   ]
  },
  {
   "cell_type": "markdown",
   "metadata": {},
   "source": [
    "# Training the model with the dataset prepared"
   ]
  },
  {
   "cell_type": "code",
   "execution_count": 41,
   "metadata": {},
   "outputs": [],
   "source": [
    "from sklearn.linear_model import LogisticRegression\n",
    "from sklearn.model_selection import train_test_split"
   ]
  },
  {
   "cell_type": "code",
   "execution_count": 42,
   "metadata": {},
   "outputs": [],
   "source": [
    "# Splitting data into training and test sets for the model\n",
    "X_train, X_test, y_train, y_test = train_test_split(training_df.iloc[:,1:], training_df.iloc[:, 0], test_size = 0.33, random_state=42) "
   ]
  },
  {
   "cell_type": "code",
   "execution_count": 46,
   "metadata": {},
   "outputs": [
    {
     "data": {
      "text/plain": [
       "((1804981, 73), (1804981,))"
      ]
     },
     "execution_count": 46,
     "metadata": {},
     "output_type": "execute_result"
    }
   ],
   "source": [
    "X_train.shape, y_train.shape"
   ]
  },
  {
   "cell_type": "code",
   "execution_count": 47,
   "metadata": {},
   "outputs": [
    {
     "data": {
      "text/plain": [
       "((889021, 73), (889021,))"
      ]
     },
     "execution_count": 47,
     "metadata": {},
     "output_type": "execute_result"
    }
   ],
   "source": [
    "X_test.shape, y_test.shape"
   ]
  },
  {
   "cell_type": "code",
   "execution_count": 50,
   "metadata": {},
   "outputs": [
    {
     "data": {
      "text/plain": [
       "LogisticRegression(C=1.0, class_weight=None, dual=False, fit_intercept=True,\n",
       "          intercept_scaling=1, max_iter=100, multi_class='ovr', n_jobs=1,\n",
       "          penalty='l2', random_state=None, solver='liblinear', tol=0.0001,\n",
       "          verbose=0, warm_start=False)"
      ]
     },
     "execution_count": 50,
     "metadata": {},
     "output_type": "execute_result"
    }
   ],
   "source": [
    "# USING LOGISTIC REGRESSION AS THE CLASSIFICATION MODEL\n",
    "model = LogisticRegression()\n",
    "model.fit(X_train, y_train)  "
   ]
  },
  {
   "cell_type": "code",
   "execution_count": 52,
   "metadata": {},
   "outputs": [],
   "source": [
    "y_pred = model.predict(X_test)"
   ]
  },
  {
   "cell_type": "markdown",
   "metadata": {},
   "source": [
    "# Model performance"
   ]
  },
  {
   "cell_type": "code",
   "execution_count": 53,
   "metadata": {},
   "outputs": [],
   "source": [
    "import sklearn.metrics as metrics"
   ]
  },
  {
   "cell_type": "code",
   "execution_count": 55,
   "metadata": {},
   "outputs": [
    {
     "data": {
      "text/plain": [
       "array([[  9191,  21442],\n",
       "       [  3987, 854401]])"
      ]
     },
     "execution_count": 55,
     "metadata": {},
     "output_type": "execute_result"
    }
   ],
   "source": [
    "metrics.confusion_matrix(y_test,y_pred)"
   ]
  },
  {
   "cell_type": "code",
   "execution_count": 57,
   "metadata": {},
   "outputs": [
    {
     "name": "stdout",
     "output_type": "stream",
     "text": [
      "             precision    recall  f1-score   support\n",
      "\n",
      "          0       0.70      0.30      0.42     30633\n",
      "          1       0.98      1.00      0.99    858388\n",
      "\n",
      "avg / total       0.97      0.97      0.97    889021\n",
      "\n"
     ]
    }
   ],
   "source": [
    "print(metrics.classification_report(y_test, y_pred))"
   ]
  }
 ],
 "metadata": {
  "kernelspec": {
   "display_name": "Python 3",
   "language": "python",
   "name": "python3"
  },
  "language_info": {
   "codemirror_mode": {
    "name": "ipython",
    "version": 3
   },
   "file_extension": ".py",
   "mimetype": "text/x-python",
   "name": "python",
   "nbconvert_exporter": "python",
   "pygments_lexer": "ipython3",
   "version": "3.6.6"
  }
 },
 "nbformat": 4,
 "nbformat_minor": 4
}
