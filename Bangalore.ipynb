{
  "nbformat": 4,
  "nbformat_minor": 0,
  "metadata": {
    "kernelspec": {
      "display_name": "Python 3",
      "language": "python",
      "name": "python3"
    },
    "language_info": {
      "codemirror_mode": {
        "name": "ipython",
        "version": 3
      },
      "file_extension": ".py",
      "mimetype": "text/x-python",
      "name": "python",
      "nbconvert_exporter": "python",
      "pygments_lexer": "ipython3",
      "version": "3.7.6"
    },
    "papermill": {
      "duration": 96.583737,
      "end_time": "2021-02-25T06:49:57.030801",
      "environment_variables": {},
      "exception": null,
      "input_path": "__notebook__.ipynb",
      "output_path": "__notebook__.ipynb",
      "parameters": {},
      "start_time": "2021-02-25T06:48:20.447064",
      "version": "2.1.0"
    },
    "colab": {
      "name": "housing-prices-eda-and-prediction (1).ipynb",
      "provenance": []
    }
  },
  "cells": [
    {
      "cell_type": "code",
      "metadata": {
        "_cell_guid": "79c7e3d0-c299-4dcb-8224-4455121ee9b0",
        "_kg_hide-output": true,
        "_uuid": "d629ff2d2480ee46fbb7e2d37f6b5fab8052498a",
        "execution": {
          "iopub.execute_input": "2021-02-25T06:48:25.582557Z",
          "iopub.status.busy": "2021-02-25T06:48:25.581901Z",
          "iopub.status.idle": "2021-02-25T06:48:36.250055Z",
          "shell.execute_reply": "2021-02-25T06:48:36.249453Z"
        },
        "papermill": {
          "duration": 10.723313,
          "end_time": "2021-02-25T06:48:36.250201",
          "exception": false,
          "start_time": "2021-02-25T06:48:25.526888",
          "status": "completed"
        },
        "tags": [],
        "id": "WiBmWymnE6VJ"
      },
      "source": [
        "import pandas as pd\n",
        "import numpy as np\n",
        "import seaborn as sns\n",
        "import matplotlib.pyplot as plt\n",
        "%matplotlib inline\n",
        "import matplotlib.image as mpimg\n",
        "import math\n",
        "import plotly.graph_objects as go\n",
        "import plotly.express as px\n",
        "import eli5\n",
        "\n",
        "from eli5.sklearn import PermutationImportance\n",
        "from folium import Choropleth, Circle, Marker\n",
        "from folium.plugins import HeatMap, MarkerCluster\n",
        "from sklearn.ensemble import RandomForestRegressor\n",
        "from sklearn.tree import DecisionTreeRegressor\n",
        "from sklearn.ensemble import ExtraTreesRegressor\n",
        "from xgboost import XGBRegressor\n",
        "from sklearn.metrics import mean_absolute_error,r2_score\n",
        "from sklearn.model_selection import train_test_split\n",
        "from geopy.geocoders import Nominatim\n",
        "from sklearn import tree\n",
        "from matplotlib import pyplot as plt\n",
        "from pdpbox import pdp, get_dataset, info_plots\n",
        "from string import ascii_letters\n",
        "from colorama import Fore, Back, Style\n",
        "y_ = Fore.YELLOW\n",
        "r_ = Fore.RED\n",
        "g_ = Fore.GREEN\n",
        "b_ = Fore.BLUE\n",
        "m_ = Fore.MAGENTA"
      ],
      "execution_count": null,
      "outputs": []
    },
    {
      "cell_type": "code",
      "metadata": {
        "_kg_hide-output": true,
        "execution": {
          "iopub.execute_input": "2021-02-25T06:48:36.339047Z",
          "iopub.status.busy": "2021-02-25T06:48:36.338476Z",
          "iopub.status.idle": "2021-02-25T06:48:59.061780Z",
          "shell.execute_reply": "2021-02-25T06:48:59.060963Z"
        },
        "papermill": {
          "duration": 22.767735,
          "end_time": "2021-02-25T06:48:59.061910",
          "exception": false,
          "start_time": "2021-02-25T06:48:36.294175",
          "status": "completed"
        },
        "tags": [],
        "id": "2nVih8FwE6VV"
      },
      "source": [
        "!pip install geopy \n",
        "!pip install Nominatim\n",
        "!pip install folium"
      ],
      "execution_count": null,
      "outputs": []
    },
    {
      "cell_type": "code",
      "metadata": {
        "execution": {
          "iopub.execute_input": "2021-02-25T06:48:59.258856Z",
          "iopub.status.busy": "2021-02-25T06:48:59.256869Z",
          "iopub.status.idle": "2021-02-25T06:48:59.262074Z",
          "shell.execute_reply": "2021-02-25T06:48:59.262522Z"
        },
        "papermill": {
          "duration": 0.058217,
          "end_time": "2021-02-25T06:48:59.262684",
          "exception": false,
          "start_time": "2021-02-25T06:48:59.204467",
          "status": "completed"
        },
        "tags": [],
        "id": "nPMR_qAOE6VX"
      },
      "source": [
        "custom_colors = [\"#4e89ae\", \"#c56183\",\"#ed6663\",\"#ffa372\"]\n",
        "customPalette = sns.set_palette(sns.color_palette(custom_colors))"
      ],
      "execution_count": null,
      "outputs": []
    },
    {
      "cell_type": "code",
      "metadata": {
        "_kg_hide-input": true,
        "execution": {
          "iopub.execute_input": "2021-02-25T06:48:59.362853Z",
          "iopub.status.busy": "2021-02-25T06:48:59.362181Z",
          "iopub.status.idle": "2021-02-25T06:48:59.467646Z",
          "shell.execute_reply": "2021-02-25T06:48:59.468068Z"
        },
        "papermill": {
          "duration": 0.159272,
          "end_time": "2021-02-25T06:48:59.468228",
          "exception": false,
          "start_time": "2021-02-25T06:48:59.308956",
          "status": "completed"
        },
        "tags": [],
        "id": "VjamQmouE6VY"
      },
      "source": [
        "sns.palplot(sns.color_palette(custom_colors),size=1)\n",
        "plt.tick_params(axis='both', labelsize=0, length = 0)"
      ],
      "execution_count": null,
      "outputs": []
    },
    {
      "cell_type": "code",
      "metadata": {
        "_kg_hide-input": true,
        "execution": {
          "iopub.execute_input": "2021-02-25T06:48:59.662494Z",
          "iopub.status.busy": "2021-02-25T06:48:59.660991Z",
          "iopub.status.idle": "2021-02-25T06:48:59.716134Z",
          "shell.execute_reply": "2021-02-25T06:48:59.715523Z"
        },
        "papermill": {
          "duration": 0.109124,
          "end_time": "2021-02-25T06:48:59.716243",
          "exception": false,
          "start_time": "2021-02-25T06:48:59.607119",
          "status": "completed"
        },
        "tags": [],
        "id": "9SLtc9CWE6Va"
      },
      "source": [
        "bangalore = sns.dark_palette(custom_colors[0], reverse=True)\n",
        "sns.palplot(sns.color_palette(bangalore),size=1)\n",
        "plt.tick_params(axis='both', labelsize=0, length = 0)"
      ],
      "execution_count": null,
      "outputs": []
    },
    {
      "cell_type": "code",
      "metadata": {
        "execution": {
          "iopub.execute_input": "2021-02-25T06:49:00.692547Z",
          "iopub.status.busy": "2021-02-25T06:49:00.691860Z",
          "iopub.status.idle": "2021-02-25T06:49:00.834384Z",
          "shell.execute_reply": "2021-02-25T06:49:00.833665Z"
        },
        "papermill": {
          "duration": 0.206652,
          "end_time": "2021-02-25T06:49:00.834503",
          "exception": false,
          "start_time": "2021-02-25T06:49:00.627851",
          "status": "completed"
        },
        "tags": [],
        "id": "s3YYjFBwE6Vk"
      },
      "source": [
        "df = pd.read_csv('Bangalore.csv')"
      ],
      "execution_count": null,
      "outputs": []
    },
    {
      "cell_type": "code",
      "metadata": {
        "execution": {
          "iopub.execute_input": "2021-02-25T06:49:00.956144Z",
          "iopub.status.busy": "2021-02-25T06:49:00.944999Z",
          "iopub.status.idle": "2021-02-25T06:49:00.972375Z",
          "shell.execute_reply": "2021-02-25T06:49:00.971659Z"
        },
        "papermill": {
          "duration": 0.08803,
          "end_time": "2021-02-25T06:49:00.972497",
          "exception": false,
          "start_time": "2021-02-25T06:49:00.884467",
          "status": "completed"
        },
        "tags": [],
        "id": "phRsDBX9E6Vk"
      },
      "source": [
        "df.head()"
      ],
      "execution_count": null,
      "outputs": []
    },
    {
      "cell_type": "code",
      "metadata": {
        "_kg_hide-output": true,
        "execution": {
          "iopub.execute_input": "2021-02-25T06:49:01.558576Z",
          "iopub.status.busy": "2021-02-25T06:49:01.557939Z",
          "iopub.status.idle": "2021-02-25T06:49:01.588439Z",
          "shell.execute_reply": "2021-02-25T06:49:01.587829Z"
        },
        "papermill": {
          "duration": 0.088655,
          "end_time": "2021-02-25T06:49:01.588678",
          "exception": false,
          "start_time": "2021-02-25T06:49:01.500023",
          "status": "completed"
        },
        "tags": [],
        "id": "_hfVuZ0SE6Vr"
      },
      "source": [
        "df.replace(9, np.nan, inplace=True)"
      ],
      "execution_count": null,
      "outputs": []
    },
    {
      "cell_type": "code",
      "metadata": {
        "_kg_hide-output": true,
        "execution": {
          "iopub.execute_input": "2021-02-25T06:49:01.702877Z",
          "iopub.status.busy": "2021-02-25T06:49:01.701771Z",
          "iopub.status.idle": "2021-02-25T06:49:01.738955Z",
          "shell.execute_reply": "2021-02-25T06:49:01.739467Z"
        },
        "papermill": {
          "duration": 0.098592,
          "end_time": "2021-02-25T06:49:01.739634",
          "exception": false,
          "start_time": "2021-02-25T06:49:01.641042",
          "status": "completed"
        },
        "tags": [],
        "id": "9WmGwpKlE6Vs"
      },
      "source": [
        "df = df.dropna()"
      ],
      "execution_count": null,
      "outputs": []
    },
    {
      "cell_type": "code",
      "metadata": {
        "execution": {
          "iopub.execute_input": "2021-02-25T06:49:01.974879Z",
          "iopub.status.busy": "2021-02-25T06:49:01.974223Z",
          "iopub.status.idle": "2021-02-25T06:49:01.979505Z",
          "shell.execute_reply": "2021-02-25T06:49:01.978899Z"
        },
        "papermill": {
          "duration": 0.061985,
          "end_time": "2021-02-25T06:49:01.979624",
          "exception": false,
          "start_time": "2021-02-25T06:49:01.917639",
          "status": "completed"
        },
        "tags": [],
        "id": "TmfmL-PJE6WU"
      },
      "source": [
        "print(f\"{y_}Bangalore:{r_}{df1.shape}\\n\")"
      ],
      "execution_count": null,
      "outputs": []
    },
    {
      "cell_type": "code",
      "metadata": {
        "execution": {
          "iopub.execute_input": "2021-02-25T06:49:02.085217Z",
          "iopub.status.busy": "2021-02-25T06:49:02.084313Z",
          "iopub.status.idle": "2021-02-25T06:49:02.093412Z",
          "shell.execute_reply": "2021-02-25T06:49:02.092543Z"
        },
        "papermill": {
          "duration": 0.063118,
          "end_time": "2021-02-25T06:49:02.093708",
          "exception": false,
          "start_time": "2021-02-25T06:49:02.030590",
          "status": "completed"
        },
        "tags": [],
        "id": "fhoil6IQE6WW"
      },
      "source": [
        "print(f\"{y_}Data types of data columns: \\n{m_}{df.dtypes}\")"
      ],
      "execution_count": null,
      "outputs": []
    },
    {
      "cell_type": "code",
      "metadata": {
        "execution": {
          "iopub.execute_input": "2021-02-25T06:49:02.314599Z",
          "iopub.status.busy": "2021-02-25T06:49:02.313792Z",
          "iopub.status.idle": "2021-02-25T06:49:02.317640Z",
          "shell.execute_reply": "2021-02-25T06:49:02.316975Z"
        },
        "papermill": {
          "duration": 0.066232,
          "end_time": "2021-02-25T06:49:02.317755",
          "exception": false,
          "start_time": "2021-02-25T06:49:02.251523",
          "status": "completed"
        },
        "tags": [],
        "id": "Uh_bF6JVE6WY"
      },
      "source": [
        "df['Price'] = df['Price']/100000"
      ],
      "execution_count": null,
      "outputs": []
    },
    {
      "cell_type": "code",
      "metadata": {
        "_kg_hide-input": true,
        "execution": {
          "iopub.execute_input": "2021-02-25T06:49:07.633691Z",
          "iopub.status.busy": "2021-02-25T06:49:07.632727Z",
          "iopub.status.idle": "2021-02-25T06:49:08.506500Z",
          "shell.execute_reply": "2021-02-25T06:49:08.506956Z"
        },
        "papermill": {
          "duration": 0.943167,
          "end_time": "2021-02-25T06:49:08.507116",
          "exception": false,
          "start_time": "2021-02-25T06:49:07.563949",
          "status": "completed"
        },
        "tags": [],
        "id": "vH8NBmhlE6Wv"
      },
      "source": [
        "count_plot(df1,'New and Resale Properties in Bangalore',bangalore)"
      ],
      "execution_count": null,
      "outputs": []
    },
    {
      "cell_type": "code",
      "metadata": {
        "execution": {
          "iopub.execute_input": "2021-02-25T06:49:14.969768Z",
          "iopub.status.busy": "2021-02-25T06:49:14.968716Z",
          "iopub.status.idle": "2021-02-25T06:49:14.972128Z",
          "shell.execute_reply": "2021-02-25T06:49:14.971539Z"
        },
        "papermill": {
          "duration": 0.09015,
          "end_time": "2021-02-25T06:49:14.972243",
          "exception": false,
          "start_time": "2021-02-25T06:49:14.882093",
          "status": "completed"
        },
        "tags": [],
        "id": "5r4BxQ3LE6W_"
      },
      "source": [
        "def preprocess(df) :\n",
        "    df = df[['Location','Latitude','Longitude','Price']]\n",
        "    df = df.replace('NA', np.nan)\n",
        "    df.dropna(subset=['Latitude'], inplace=True)\n",
        "    df.dropna(subset=['Price'], inplace=True)\n",
        "    df[\"Latitude\"] = df[\"Latitude\"].astype(float)\n",
        "    df[\"Longitude\"] = df[\"Longitude\"].astype(float)\n",
        "    return df"
      ],
      "execution_count": null,
      "outputs": []
    },
    {
      "cell_type": "code",
      "metadata": {
        "execution": {
          "iopub.execute_input": "2021-02-25T06:49:27.176335Z",
          "iopub.status.busy": "2021-02-25T06:49:27.175145Z",
          "iopub.status.idle": "2021-02-25T06:49:27.186708Z",
          "shell.execute_reply": "2021-02-25T06:49:27.187126Z"
        },
        "papermill": {
          "duration": 0.167469,
          "end_time": "2021-02-25T06:49:27.187422",
          "exception": false,
          "start_time": "2021-02-25T06:49:27.019953",
          "status": "completed"
        },
        "tags": [],
        "id": "NyklVZJAE6Y4"
      },
      "source": [
        "merged.columns\n",
        "merged = merged.rename(columns={\"Children'splayarea\": \"ChildrenPlayArea\"})\n",
        "merged = merged.dropna()"
      ],
      "execution_count": null,
      "outputs": []
    },
    {
      "cell_type": "code",
      "metadata": {
        "execution": {
          "iopub.execute_input": "2021-02-25T06:49:27.499905Z",
          "iopub.status.busy": "2021-02-25T06:49:27.499094Z",
          "iopub.status.idle": "2021-02-25T06:49:30.957815Z",
          "shell.execute_reply": "2021-02-25T06:49:30.958333Z"
        },
        "papermill": {
          "duration": 3.615011,
          "end_time": "2021-02-25T06:49:30.958474",
          "exception": false,
          "start_time": "2021-02-25T06:49:27.343463",
          "status": "completed"
        },
        "tags": [],
        "id": "VgWY_NrAE6Y5"
      },
      "source": [
        "plt.figure(figsize=(30,35))\n",
        "corr=merged.corr()\n",
        "mask = np.triu(np.ones_like(corr, dtype=bool))\n",
        "sns.heatmap(merged.corr(), mask=mask, cmap='coolwarm', vmax=.3, center=0,\n",
        "            square=True, linewidths=.5,annot=True)\n",
        "plt.show()"
      ],
      "execution_count": null,
      "outputs": []
    },
    {
      "cell_type": "code",
      "metadata": {
        "execution": {
          "iopub.execute_input": "2021-02-25T06:49:33.670687Z",
          "iopub.status.busy": "2021-02-25T06:49:33.669683Z",
          "iopub.status.idle": "2021-02-25T06:49:33.674484Z",
          "shell.execute_reply": "2021-02-25T06:49:33.673228Z"
        },
        "papermill": {
          "duration": 0.190222,
          "end_time": "2021-02-25T06:49:33.674667",
          "exception": false,
          "start_time": "2021-02-25T06:49:33.484445",
          "status": "completed"
        },
        "tags": [],
        "id": "6gCAHG72E6ZD"
      },
      "source": [
        "feature_names = ['Area','No. of Bedrooms', 'Resale',\n",
        "       'MaintenanceStaff', 'Gymnasium', 'SwimmingPool', 'LandscapedGardens',\n",
        "       'JoggingTrack', 'RainWaterHarvesting', 'IndoorGames', 'ShoppingMall',\n",
        "       'Intercom', 'SportsFacility', 'ATM', 'ClubHouse', 'School',\n",
        "       '24X7Security', 'PowerBackup', 'CarParking', 'StaffQuarter',\n",
        "       'Cafeteria', 'MultipurposeRoom', 'Hospital', 'WashingMachine',\n",
        "       'Gasconnection', 'AC', 'Wifi', 'ChildrenPlayArea', 'LiftAvailable',\n",
        "       'BED', 'VaastuCompliant', 'Microwave', 'GolfCourse', 'TV',\n",
        "       'DiningTable', 'Sofa', 'Wardrobe', 'Refrigerator', 'Latitude',\n",
        "       'Longitude']\n",
        "\n",
        "X = merged[feature_names]\n",
        "y = merged['Price']"
      ],
      "execution_count": null,
      "outputs": []
    },
    {
      "cell_type": "code",
      "metadata": {
        "execution": {
          "iopub.execute_input": "2021-02-25T06:49:34.042355Z",
          "iopub.status.busy": "2021-02-25T06:49:34.041335Z",
          "iopub.status.idle": "2021-02-25T06:49:36.527588Z",
          "shell.execute_reply": "2021-02-25T06:49:36.528066Z"
        },
        "papermill": {
          "duration": 2.672139,
          "end_time": "2021-02-25T06:49:36.528225",
          "exception": false,
          "start_time": "2021-02-25T06:49:33.856086",
          "status": "completed"
        },
        "tags": [],
        "id": "RZz63bW4E6ZE"
      },
      "source": [
        "train_X, val_X, train_y, val_y = train_test_split(X, y, random_state=1)\n",
        "model = RandomForestRegressor().fit(train_X, train_y)"
      ],
      "execution_count": null,
      "outputs": []
    },
    {
      "cell_type": "code",
      "metadata": {
        "execution": {
          "iopub.execute_input": "2021-02-25T06:49:36.898792Z",
          "iopub.status.busy": "2021-02-25T06:49:36.897671Z",
          "iopub.status.idle": "2021-02-25T06:49:45.053942Z",
          "shell.execute_reply": "2021-02-25T06:49:45.053371Z"
        },
        "papermill": {
          "duration": 8.341802,
          "end_time": "2021-02-25T06:49:45.054051",
          "exception": false,
          "start_time": "2021-02-25T06:49:36.712249",
          "status": "completed"
        },
        "tags": [],
        "id": "nCIcyhNdE6ZE"
      },
      "source": [
        "perm = PermutationImportance(model, random_state=1).fit(val_X, val_y)\n",
        "eli5.show_weights(perm, feature_names = val_X.columns.tolist())"
      ],
      "execution_count": null,
      "outputs": []
    },
    {
      "cell_type": "code",
      "metadata": {
        "execution": {
          "iopub.execute_input": "2021-02-25T06:49:53.317091Z",
          "iopub.status.busy": "2021-02-25T06:49:53.316152Z",
          "iopub.status.idle": "2021-02-25T06:49:53.321953Z",
          "shell.execute_reply": "2021-02-25T06:49:53.321336Z"
        },
        "papermill": {
          "duration": 0.198709,
          "end_time": "2021-02-25T06:49:53.322063",
          "exception": false,
          "start_time": "2021-02-25T06:49:53.123354",
          "status": "completed"
        },
        "tags": [],
        "id": "MQfvwptWE6ZP"
      },
      "source": [
        "feature_names = ['Area','No. of Bedrooms','MaintenanceStaff','24X7Security','Latitude','Longitude']\n",
        "\n",
        "X = merged[feature_names]\n",
        "y = merged['Price']\n",
        "\n",
        "train_X, val_X, train_y, val_y = train_test_split(X, y, random_state=1)"
      ],
      "execution_count": null,
      "outputs": []
    },
    {
      "cell_type": "code",
      "metadata": {
        "execution": {
          "iopub.execute_input": "2021-02-25T06:49:53.705949Z",
          "iopub.status.busy": "2021-02-25T06:49:53.704982Z",
          "iopub.status.idle": "2021-02-25T06:49:55.818015Z",
          "shell.execute_reply": "2021-02-25T06:49:55.818750Z"
        },
        "papermill": {
          "duration": 2.311117,
          "end_time": "2021-02-25T06:49:55.818927",
          "exception": false,
          "start_time": "2021-02-25T06:49:53.507810",
          "status": "completed"
        },
        "tags": [],
        "id": "hMRlewUNE6ZQ"
      },
      "source": [
        "def train_model(m,name):\n",
        "    model = m\n",
        "    model.fit(X=train_X, y=train_y)\n",
        "    predictions = model.predict(val_X)\n",
        "    mae = mean_absolute_error(val_y, predictions)\n",
        "    r2 = r2_score(val_y, predictions)\n",
        "    print(\"{0} mae {1} r2 {2}\".format(name,mae,r2))\n",
        "\n",
        "train_model(DecisionTreeRegressor(),\"Decision Tree Regressor\")\n",
        "train_model(RandomForestRegressor(),\"Random Forest Regressor\")   \n",
        "train_model(XGBRegressor(n_estimators=600),\"XGBoost Regressor\")   "
      ],
      "execution_count": null,
      "outputs": []
    }
  ]
}