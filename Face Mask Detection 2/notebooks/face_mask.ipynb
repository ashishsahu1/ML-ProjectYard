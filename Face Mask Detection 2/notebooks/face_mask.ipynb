{
  "nbformat": 4,
  "nbformat_minor": 0,
  "metadata": {
    "colab": {
      "name": "face mask.ipynb",
      "provenance": [],
      "collapsed_sections": []
    },
    "kernelspec": {
      "name": "python3",
      "display_name": "Python 3"
    }
  },
  "cells": [
    {
      "cell_type": "code",
      "metadata": {
        "id": "oTEBEq2nH7Hj",
        "colab_type": "code",
        "colab": {
          "base_uri": "https://localhost:8080/",
          "height": 54
        },
        "outputId": "5b7d2e80-9b1f-4579-92f8-4f136b95dbf4"
      },
      "source": [
        "from google.colab import drive\n",
        "drive.mount(\"/content/drive\")"
      ],
      "execution_count": 6,
      "outputs": [
        {
          "output_type": "stream",
          "text": [
            "Drive already mounted at /content/drive; to attempt to forcibly remount, call drive.mount(\"/content/drive\", force_remount=True).\n"
          ],
          "name": "stdout"
        }
      ]
    },
    {
      "cell_type": "code",
      "metadata": {
        "id": "7NQtZVwMIDn0",
        "colab_type": "code",
        "colab": {}
      },
      "source": [
        "from tensorflow.keras.preprocessing.image import ImageDataGenerator\n",
        "from tensorflow.keras.applications import MobileNetV2\n",
        "from tensorflow.keras.layers import AveragePooling2D\n",
        "from tensorflow.keras.layers import Dropout, Flatten, Dense, Input\n",
        "from tensorflow.keras.models import Model\n",
        "from tensorflow.keras.optimizers import Adam\n",
        "from tensorflow.keras.applications.mobilenet_v2 import preprocess_input\n",
        "from tensorflow.keras.preprocessing.image import img_to_array, load_img\n",
        "from tensorflow.keras.utils import to_categorical\n",
        "from sklearn.preprocessing import LabelBinarizer\n",
        "from sklearn.preprocessing import OneHotEncoder\n",
        "from sklearn.metrics import classification_report\n",
        "from sklearn.model_selection import train_test_split\n",
        "from imutils import paths\n",
        "import matplotlib.pyplot as plt\n",
        "import numpy as np\n",
        "import argparse\n",
        "import os\n",
        "import cv2"
      ],
      "execution_count": 7,
      "outputs": []
    },
    {
      "cell_type": "code",
      "metadata": {
        "id": "TzRAKvaZI9-d",
        "colab_type": "code",
        "colab": {}
      },
      "source": [
        "path = \"/content/drive/My Drive/AI-MINOR-JUNE/dataset/\"\n",
        "imagePaths = list(paths.list_images(path))\n",
        "images = []\n",
        "labels = []"
      ],
      "execution_count": 8,
      "outputs": []
    },
    {
      "cell_type": "code",
      "metadata": {
        "id": "KAOTzmTRKQ-d",
        "colab_type": "code",
        "colab": {}
      },
      "source": [
        "for imagePath in imagePaths:\n",
        "    label = imagePath.split(os.path.sep)[-2]\n",
        "    image = load_img(imagePath, target_size=(224, 224))\n",
        "    image = img_to_array(image)\n",
        "    image = preprocess_input(image)\n",
        "    images.append(image)\n",
        "    labels.append(label)\n",
        "images = np.array(images, dtype=\"float32\")\n",
        "labels = np.array(labels)"
      ],
      "execution_count": 9,
      "outputs": []
    },
    {
      "cell_type": "code",
      "metadata": {
        "id": "3nnb-muoeNjr",
        "colab_type": "code",
        "colab": {
          "base_uri": "https://localhost:8080/",
          "height": 51
        },
        "outputId": "d68360d3-5d4a-4793-895d-041f6a21173a"
      },
      "source": [
        "print(images.shape)\n",
        "print(labels.shape)"
      ],
      "execution_count": 20,
      "outputs": [
        {
          "output_type": "stream",
          "text": [
            "(1376, 224, 224, 3)\n",
            "(1376, 2)\n"
          ],
          "name": "stdout"
        }
      ]
    },
    {
      "cell_type": "code",
      "metadata": {
        "id": "GwfZfS-Thxp3",
        "colab_type": "code",
        "colab": {
          "base_uri": "https://localhost:8080/",
          "height": 34
        },
        "outputId": "6fd97b38-925f-4c84-d48c-d26533fd79a8"
      },
      "source": [
        "np.unique(labels)"
      ],
      "execution_count": 11,
      "outputs": [
        {
          "output_type": "execute_result",
          "data": {
            "text/plain": [
              "array(['with_mask', 'without_mask'], dtype='<U12')"
            ]
          },
          "metadata": {
            "tags": []
          },
          "execution_count": 11
        }
      ]
    },
    {
      "cell_type": "code",
      "metadata": {
        "id": "5Z8UHCyoh3xd",
        "colab_type": "code",
        "colab": {}
      },
      "source": [
        "labels = LabelBinarizer().fit_transform(labels)\n",
        "labels = to_categorical(labels)"
      ],
      "execution_count": 12,
      "outputs": []
    },
    {
      "cell_type": "code",
      "metadata": {
        "id": "LqvjGBHNiLuu",
        "colab_type": "code",
        "colab": {}
      },
      "source": [
        "X_train, X_test, y_train, y_test = train_test_split(images, labels, test_size=0.2, stratify = labels)"
      ],
      "execution_count": 13,
      "outputs": []
    },
    {
      "cell_type": "code",
      "metadata": {
        "id": "v1mrTEc6idYm",
        "colab_type": "code",
        "colab": {}
      },
      "source": [
        "datagen = ImageDataGenerator(rotation_range = 20,\n",
        "                             zoom_range = 0.15,\n",
        "                             width_shift_range = 0.2,\n",
        "                             height_shift_range = 0.2,\n",
        "                             shear_range = 0.15,\n",
        "                             horizontal_flip = True,\n",
        "                             fill_mode = \"nearest\")"
      ],
      "execution_count": 14,
      "outputs": []
    },
    {
      "cell_type": "code",
      "metadata": {
        "id": "8HZZcIAEi8qi",
        "colab_type": "code",
        "colab": {
          "base_uri": "https://localhost:8080/",
          "height": 88
        },
        "outputId": "2b25aba1-1119-4db9-eb2b-29903477e431"
      },
      "source": [
        "baseModel = MobileNetV2(weights=\"imagenet\", include_top = False,\n",
        "                        input_tensor = Input(shape=(224, 224, 3)))\n",
        "X = baseModel.output\n",
        "X = AveragePooling2D(pool_size = (7, 7))(X)\n",
        "X = Flatten()(X)\n",
        "X = Dense(128, activation=\"relu\")(X)\n",
        "X = Dropout(0.5)(X)\n",
        "X = Dense(2, activation=\"softmax\")(X)\n",
        "model = Model(inputs = baseModel.input, outputs = X)"
      ],
      "execution_count": 16,
      "outputs": [
        {
          "output_type": "stream",
          "text": [
            "WARNING:tensorflow:`input_shape` is undefined or non-square, or `rows` is not in [96, 128, 160, 192, 224]. Weights for input shape (224, 224) will be loaded as the default.\n",
            "Downloading data from https://storage.googleapis.com/tensorflow/keras-applications/mobilenet_v2/mobilenet_v2_weights_tf_dim_ordering_tf_kernels_1.0_224_no_top.h5\n",
            "9412608/9406464 [==============================] - 0s 0us/step\n"
          ],
          "name": "stdout"
        }
      ]
    },
    {
      "cell_type": "code",
      "metadata": {
        "id": "yxEXlchbj9NC",
        "colab_type": "code",
        "colab": {}
      },
      "source": [
        "for layer in baseModel.layers:\n",
        "\tlayer.trainable = False"
      ],
      "execution_count": 17,
      "outputs": []
    },
    {
      "cell_type": "code",
      "metadata": {
        "id": "ByISO8H2kJrb",
        "colab_type": "code",
        "colab": {}
      },
      "source": [
        "# model.summary()"
      ],
      "execution_count": 22,
      "outputs": []
    },
    {
      "cell_type": "code",
      "metadata": {
        "id": "03VXZOwrkZwb",
        "colab_type": "code",
        "colab": {}
      },
      "source": [
        "batch_size = 128\n",
        "epochs = 15"
      ],
      "execution_count": 23,
      "outputs": []
    },
    {
      "cell_type": "code",
      "metadata": {
        "id": "K1TSqNVxk-tN",
        "colab_type": "code",
        "colab": {}
      },
      "source": [
        "model.compile(loss=\"binary_crossentropy\", optimizer=\"adam\", metrics=[\"accuracy\"])"
      ],
      "execution_count": 24,
      "outputs": []
    },
    {
      "cell_type": "code",
      "metadata": {
        "id": "gOu4pt_5lL5D",
        "colab_type": "code",
        "colab": {
          "base_uri": "https://localhost:8080/",
          "height": 547
        },
        "outputId": "a110620d-8eff-40ac-cd9c-ef3d10747f14"
      },
      "source": [
        "hist = model.fit(datagen.flow(X_train, y_train, batch_size=batch_size),\n",
        "                 steps_per_epoch = len(X_train) // batch_size,\n",
        "                 validation_data = (X_test, y_test),\n",
        "                 validation_steps = len(X_test) // batch_size,\n",
        "                 epochs = epochs)"
      ],
      "execution_count": 25,
      "outputs": [
        {
          "output_type": "stream",
          "text": [
            "Epoch 1/15\n",
            "8/8 [==============================] - 45s 6s/step - loss: 0.3467 - accuracy: 0.8611 - val_loss: 0.0384 - val_accuracy: 0.9855\n",
            "Epoch 2/15\n",
            "8/8 [==============================] - 46s 6s/step - loss: 0.0307 - accuracy: 0.9918 - val_loss: 0.0265 - val_accuracy: 0.9891\n",
            "Epoch 3/15\n",
            "8/8 [==============================] - 45s 6s/step - loss: 0.0121 - accuracy: 0.9969 - val_loss: 0.0279 - val_accuracy: 0.9855\n",
            "Epoch 4/15\n",
            "8/8 [==============================] - 45s 6s/step - loss: 0.0203 - accuracy: 0.9949 - val_loss: 0.0273 - val_accuracy: 0.9855\n",
            "Epoch 5/15\n",
            "8/8 [==============================] - 46s 6s/step - loss: 0.0111 - accuracy: 0.9979 - val_loss: 0.0182 - val_accuracy: 0.9891\n",
            "Epoch 6/15\n",
            "8/8 [==============================] - 44s 6s/step - loss: 0.0076 - accuracy: 0.9979 - val_loss: 0.0440 - val_accuracy: 0.9855\n",
            "Epoch 7/15\n",
            "8/8 [==============================] - 44s 6s/step - loss: 0.0066 - accuracy: 0.9969 - val_loss: 0.0328 - val_accuracy: 0.9891\n",
            "Epoch 8/15\n",
            "8/8 [==============================] - 46s 6s/step - loss: 0.0079 - accuracy: 0.9959 - val_loss: 0.0276 - val_accuracy: 0.9891\n",
            "Epoch 9/15\n",
            "8/8 [==============================] - 44s 6s/step - loss: 0.0071 - accuracy: 0.9959 - val_loss: 0.0334 - val_accuracy: 0.9891\n",
            "Epoch 10/15\n",
            "8/8 [==============================] - 44s 6s/step - loss: 0.0107 - accuracy: 0.9949 - val_loss: 0.0363 - val_accuracy: 0.9891\n",
            "Epoch 11/15\n",
            "8/8 [==============================] - 44s 6s/step - loss: 0.0094 - accuracy: 0.9959 - val_loss: 0.0321 - val_accuracy: 0.9891\n",
            "Epoch 12/15\n",
            "8/8 [==============================] - 49s 6s/step - loss: 0.0155 - accuracy: 0.9951 - val_loss: 0.0183 - val_accuracy: 0.9891\n",
            "Epoch 13/15\n",
            "8/8 [==============================] - 44s 5s/step - loss: 0.0064 - accuracy: 0.9979 - val_loss: 0.0407 - val_accuracy: 0.9891\n",
            "Epoch 14/15\n",
            "8/8 [==============================] - 44s 6s/step - loss: 0.0082 - accuracy: 0.9990 - val_loss: 0.0302 - val_accuracy: 0.9891\n",
            "Epoch 15/15\n",
            "8/8 [==============================] - 43s 5s/step - loss: 0.0058 - accuracy: 0.9979 - val_loss: 0.0179 - val_accuracy: 0.9891\n"
          ],
          "name": "stdout"
        }
      ]
    },
    {
      "cell_type": "code",
      "metadata": {
        "id": "mnay9MOel1KQ",
        "colab_type": "code",
        "colab": {
          "base_uri": "https://localhost:8080/",
          "height": 170
        },
        "outputId": "35953110-e8cf-48c5-fdba-7abd685947d6"
      },
      "source": [
        "# encoder = LabelBinarizer()\n",
        "# encoder.fit([\"with_mask\", \"without_mask\"])\n",
        "y_pred = model.predict(X_test, batch_size=batch_size)\n",
        "y_pred = np.argmax(y_pred, axis = 1)\n",
        "print(classification_report(y_test.argmax(axis=1), y_pred, \n",
        "                            target_names=LabelBinarizer().fit([\"with_mask\", \"without_mask\"]).classes_))"
      ],
      "execution_count": 42,
      "outputs": [
        {
          "output_type": "stream",
          "text": [
            "              precision    recall  f1-score   support\n",
            "\n",
            "   with_mask       1.00      0.98      0.99       138\n",
            "without_mask       0.98      1.00      0.99       138\n",
            "\n",
            "    accuracy                           0.99       276\n",
            "   macro avg       0.99      0.99      0.99       276\n",
            "weighted avg       0.99      0.99      0.99       276\n",
            "\n"
          ],
          "name": "stdout"
        }
      ]
    },
    {
      "cell_type": "code",
      "metadata": {
        "id": "Ssth4zcCpv-H",
        "colab_type": "code",
        "colab": {
          "base_uri": "https://localhost:8080/",
          "height": 312
        },
        "outputId": "bf90d97a-ce81-4b17-96c3-508894f620a5"
      },
      "source": [
        "plt.plot(np.arange(0, epochs), hist.history[\"loss\"], label=\"train_loss\")\n",
        "plt.plot(np.arange(0, epochs), hist.history[\"val_loss\"], label=\"val_loss\")\n",
        "plt.title(\"Training and Validation Loss\")\n",
        "plt.xlabel(\"Epochs\")\n",
        "plt.ylabel(\"Loss\")\n",
        "plt.legend(loc=\"upper right\")"
      ],
      "execution_count": 47,
      "outputs": [
        {
          "output_type": "execute_result",
          "data": {
            "text/plain": [
              "<matplotlib.legend.Legend at 0x7f8ea452c6a0>"
            ]
          },
          "metadata": {
            "tags": []
          },
          "execution_count": 47
        },
        {
          "output_type": "display_data",
          "data": {
            "image/png": "[encoded data removed]",
            "text/plain": [
              "<Figure size 432x288 with 1 Axes>"
            ]
          },
          "metadata": {
            "tags": [],
            "needs_background": "light"
          }
        }
      ]
    },
    {
      "cell_type": "code",
      "metadata": {
        "id": "FVlBGok8saSI",
        "colab_type": "code",
        "colab": {}
      },
      "source": [
        ""
      ],
      "execution_count": null,
      "outputs": []
    }
  ]
}