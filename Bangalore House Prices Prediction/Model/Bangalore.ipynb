{
 "cells": [
  {
   "cell_type": "code",
   "execution_count": 5,
   "metadata": {
    "id": "mZ1NINrtABwf"
   },
   "outputs": [],
   "source": [
    "%matplotlib inline\n",
    "import pandas as pd\n",
    "import numpy as np\n",
    "import matplotlib.pyplot as plt\n",
    "from sklearn.pipeline import Pipeline\n",
    "from sklearn.model_selection import train_test_split\n",
    "from sklearn.preprocessing import StandardScaler\n",
    "from sklearn.linear_model import LinearRegression\n",
    "from sklearn.linear_model import Ridge\n",
    "from sklearn.ensemble import RandomForestRegressor\n",
    "from sklearn.tree import DecisionTreeRegressor\n",
    "import seaborn as sns\n",
    "from sklearn.metrics import r2_score"
   ]
  },
  {
   "cell_type": "code",
   "execution_count": 22,
   "metadata": {
    "id": "KcVcEIDUABwt"
   },
   "outputs": [],
   "source": [
    "house_price=pd.read_csv('Bangalore.csv')"
   ]
  },
  {
   "cell_type": "code",
   "execution_count": 33,
   "metadata": {
    "colab": {
     "base_uri": "https://localhost:8080/",
     "height": 301
    },
    "id": "m7L9l1ZtABwu",
    "outputId": "0a5d9ffa-2b7b-4d18-8c9d-fc602f5d1cdb"
   },
   "outputs": [
    {
     "data": {
      "text/html": [
       "<div>\n",
       "<style scoped>\n",
       "    .dataframe tbody tr th:only-of-type {\n",
       "        vertical-align: middle;\n",
       "    }\n",
       "\n",
       "    .dataframe tbody tr th {\n",
       "        vertical-align: top;\n",
       "    }\n",
       "\n",
       "    .dataframe thead th {\n",
       "        text-align: right;\n",
       "    }\n",
       "</style>\n",
       "<table border=\"1\" class=\"dataframe\">\n",
       "  <thead>\n",
       "    <tr style=\"text-align: right;\">\n",
       "      <th></th>\n",
       "      <th>Price</th>\n",
       "      <th>Area</th>\n",
       "      <th>Location</th>\n",
       "      <th>No. of Bedrooms</th>\n",
       "      <th>Resale</th>\n",
       "      <th>MaintenanceStaff</th>\n",
       "      <th>Gymnasium</th>\n",
       "      <th>SwimmingPool</th>\n",
       "      <th>LandscapedGardens</th>\n",
       "      <th>JoggingTrack</th>\n",
       "      <th>...</th>\n",
       "      <th>LiftAvailable</th>\n",
       "      <th>BED</th>\n",
       "      <th>VaastuCompliant</th>\n",
       "      <th>Microwave</th>\n",
       "      <th>GolfCourse</th>\n",
       "      <th>TV</th>\n",
       "      <th>DiningTable</th>\n",
       "      <th>Sofa</th>\n",
       "      <th>Wardrobe</th>\n",
       "      <th>Refrigerator</th>\n",
       "    </tr>\n",
       "  </thead>\n",
       "  <tbody>\n",
       "    <tr>\n",
       "      <th>0</th>\n",
       "      <td>30000000</td>\n",
       "      <td>3340</td>\n",
       "      <td>JP Nagar Phase 1</td>\n",
       "      <td>4</td>\n",
       "      <td>0</td>\n",
       "      <td>1</td>\n",
       "      <td>1</td>\n",
       "      <td>1</td>\n",
       "      <td>1</td>\n",
       "      <td>1</td>\n",
       "      <td>...</td>\n",
       "      <td>1</td>\n",
       "      <td>0</td>\n",
       "      <td>0</td>\n",
       "      <td>0</td>\n",
       "      <td>0</td>\n",
       "      <td>0</td>\n",
       "      <td>0</td>\n",
       "      <td>0</td>\n",
       "      <td>0</td>\n",
       "      <td>0</td>\n",
       "    </tr>\n",
       "    <tr>\n",
       "      <th>1</th>\n",
       "      <td>7888000</td>\n",
       "      <td>1045</td>\n",
       "      <td>Dasarahalli on Tumkur Road</td>\n",
       "      <td>2</td>\n",
       "      <td>0</td>\n",
       "      <td>0</td>\n",
       "      <td>1</td>\n",
       "      <td>1</td>\n",
       "      <td>1</td>\n",
       "      <td>1</td>\n",
       "      <td>...</td>\n",
       "      <td>1</td>\n",
       "      <td>0</td>\n",
       "      <td>1</td>\n",
       "      <td>0</td>\n",
       "      <td>0</td>\n",
       "      <td>0</td>\n",
       "      <td>0</td>\n",
       "      <td>0</td>\n",
       "      <td>0</td>\n",
       "      <td>0</td>\n",
       "    </tr>\n",
       "    <tr>\n",
       "      <th>2</th>\n",
       "      <td>4866000</td>\n",
       "      <td>1179</td>\n",
       "      <td>Kannur on Thanisandra Main Road</td>\n",
       "      <td>2</td>\n",
       "      <td>0</td>\n",
       "      <td>0</td>\n",
       "      <td>1</td>\n",
       "      <td>1</td>\n",
       "      <td>1</td>\n",
       "      <td>1</td>\n",
       "      <td>...</td>\n",
       "      <td>1</td>\n",
       "      <td>0</td>\n",
       "      <td>0</td>\n",
       "      <td>0</td>\n",
       "      <td>0</td>\n",
       "      <td>0</td>\n",
       "      <td>0</td>\n",
       "      <td>0</td>\n",
       "      <td>0</td>\n",
       "      <td>0</td>\n",
       "    </tr>\n",
       "    <tr>\n",
       "      <th>3</th>\n",
       "      <td>8358000</td>\n",
       "      <td>1675</td>\n",
       "      <td>Doddanekundi</td>\n",
       "      <td>3</td>\n",
       "      <td>0</td>\n",
       "      <td>0</td>\n",
       "      <td>0</td>\n",
       "      <td>0</td>\n",
       "      <td>0</td>\n",
       "      <td>0</td>\n",
       "      <td>...</td>\n",
       "      <td>1</td>\n",
       "      <td>0</td>\n",
       "      <td>0</td>\n",
       "      <td>0</td>\n",
       "      <td>0</td>\n",
       "      <td>0</td>\n",
       "      <td>0</td>\n",
       "      <td>0</td>\n",
       "      <td>0</td>\n",
       "      <td>0</td>\n",
       "    </tr>\n",
       "    <tr>\n",
       "      <th>4</th>\n",
       "      <td>6845000</td>\n",
       "      <td>1670</td>\n",
       "      <td>Kengeri</td>\n",
       "      <td>3</td>\n",
       "      <td>0</td>\n",
       "      <td>1</td>\n",
       "      <td>1</td>\n",
       "      <td>1</td>\n",
       "      <td>1</td>\n",
       "      <td>1</td>\n",
       "      <td>...</td>\n",
       "      <td>1</td>\n",
       "      <td>0</td>\n",
       "      <td>0</td>\n",
       "      <td>0</td>\n",
       "      <td>0</td>\n",
       "      <td>0</td>\n",
       "      <td>0</td>\n",
       "      <td>0</td>\n",
       "      <td>0</td>\n",
       "      <td>0</td>\n",
       "    </tr>\n",
       "  </tbody>\n",
       "</table>\n",
       "<p>5 rows × 40 columns</p>\n",
       "</div>"
      ],
      "text/plain": [
       "      Price  Area                         Location  No. of Bedrooms  Resale  \\\n",
       "0  30000000  3340                 JP Nagar Phase 1                4       0   \n",
       "1   7888000  1045       Dasarahalli on Tumkur Road                2       0   \n",
       "2   4866000  1179  Kannur on Thanisandra Main Road                2       0   \n",
       "3   8358000  1675                     Doddanekundi                3       0   \n",
       "4   6845000  1670                          Kengeri                3       0   \n",
       "\n",
       "   MaintenanceStaff  Gymnasium  SwimmingPool  LandscapedGardens  JoggingTrack  \\\n",
       "0                 1          1             1                  1             1   \n",
       "1                 0          1             1                  1             1   \n",
       "2                 0          1             1                  1             1   \n",
       "3                 0          0             0                  0             0   \n",
       "4                 1          1             1                  1             1   \n",
       "\n",
       "   ...  LiftAvailable  BED  VaastuCompliant  Microwave  GolfCourse  TV  \\\n",
       "0  ...              1    0                0          0           0   0   \n",
       "1  ...              1    0                1          0           0   0   \n",
       "2  ...              1    0                0          0           0   0   \n",
       "3  ...              1    0                0          0           0   0   \n",
       "4  ...              1    0                0          0           0   0   \n",
       "\n",
       "   DiningTable  Sofa  Wardrobe  Refrigerator  \n",
       "0            0     0         0             0  \n",
       "1            0     0         0             0  \n",
       "2            0     0         0             0  \n",
       "3            0     0         0             0  \n",
       "4            0     0         0             0  \n",
       "\n",
       "[5 rows x 40 columns]"
      ]
     },
     "execution_count": 33,
     "metadata": {},
     "output_type": "execute_result"
    }
   ],
   "source": [
    "house_price.head()     "
   ]
  },
  {
   "cell_type": "code",
   "execution_count": 34,
   "metadata": {
    "id": "sNf29XyNABww"
   },
   "outputs": [],
   "source": [
    "house_price.rename(columns={'No. of Bedrooms':'Bedrooms'},inplace=True)"
   ]
  },
  {
   "cell_type": "code",
   "execution_count": 35,
   "metadata": {
    "id": "NhgomKyGABww"
   },
   "outputs": [],
   "source": [
    "house_price_train, house_price_test=train_test_split(house_price,test_size=0.2,random_state=47)"
   ]
  },
  {
   "cell_type": "code",
   "execution_count": 36,
   "metadata": {
    "colab": {
     "base_uri": "https://localhost:8080/",
     "height": 307
    },
    "id": "tmEihPfEABwx",
    "outputId": "154a9ffd-728e-4fe5-dbaa-fd712d2910a1"
   },
   "outputs": [
    {
     "data": {
      "text/html": [
       "<div>\n",
       "<style scoped>\n",
       "    .dataframe tbody tr th:only-of-type {\n",
       "        vertical-align: middle;\n",
       "    }\n",
       "\n",
       "    .dataframe tbody tr th {\n",
       "        vertical-align: top;\n",
       "    }\n",
       "\n",
       "    .dataframe thead th {\n",
       "        text-align: right;\n",
       "    }\n",
       "</style>\n",
       "<table border=\"1\" class=\"dataframe\">\n",
       "  <thead>\n",
       "    <tr style=\"text-align: right;\">\n",
       "      <th></th>\n",
       "      <th>Price</th>\n",
       "      <th>Area</th>\n",
       "      <th>Bedrooms</th>\n",
       "      <th>Resale</th>\n",
       "      <th>MaintenanceStaff</th>\n",
       "      <th>Gymnasium</th>\n",
       "      <th>SwimmingPool</th>\n",
       "      <th>LandscapedGardens</th>\n",
       "      <th>JoggingTrack</th>\n",
       "      <th>RainWaterHarvesting</th>\n",
       "      <th>...</th>\n",
       "      <th>LiftAvailable</th>\n",
       "      <th>BED</th>\n",
       "      <th>VaastuCompliant</th>\n",
       "      <th>Microwave</th>\n",
       "      <th>GolfCourse</th>\n",
       "      <th>TV</th>\n",
       "      <th>DiningTable</th>\n",
       "      <th>Sofa</th>\n",
       "      <th>Wardrobe</th>\n",
       "      <th>Refrigerator</th>\n",
       "    </tr>\n",
       "  </thead>\n",
       "  <tbody>\n",
       "    <tr>\n",
       "      <th>count</th>\n",
       "      <td>4.965000e+03</td>\n",
       "      <td>4965.000000</td>\n",
       "      <td>4965.000000</td>\n",
       "      <td>4965.000000</td>\n",
       "      <td>4965.000000</td>\n",
       "      <td>4965.000000</td>\n",
       "      <td>4965.000000</td>\n",
       "      <td>4965.000000</td>\n",
       "      <td>4965.000000</td>\n",
       "      <td>4965.000000</td>\n",
       "      <td>...</td>\n",
       "      <td>4965.000000</td>\n",
       "      <td>4965.000000</td>\n",
       "      <td>4965.000000</td>\n",
       "      <td>4965.000000</td>\n",
       "      <td>4965.000000</td>\n",
       "      <td>4965.000000</td>\n",
       "      <td>4965.000000</td>\n",
       "      <td>4965.000000</td>\n",
       "      <td>4965.000000</td>\n",
       "      <td>4965.000000</td>\n",
       "    </tr>\n",
       "    <tr>\n",
       "      <th>mean</th>\n",
       "      <td>1.054205e+07</td>\n",
       "      <td>1522.798389</td>\n",
       "      <td>2.558912</td>\n",
       "      <td>0.079960</td>\n",
       "      <td>6.229607</td>\n",
       "      <td>6.478751</td>\n",
       "      <td>6.453172</td>\n",
       "      <td>6.401007</td>\n",
       "      <td>6.415509</td>\n",
       "      <td>6.390735</td>\n",
       "      <td>...</td>\n",
       "      <td>6.455388</td>\n",
       "      <td>6.230010</td>\n",
       "      <td>6.331319</td>\n",
       "      <td>6.229406</td>\n",
       "      <td>6.201007</td>\n",
       "      <td>6.229406</td>\n",
       "      <td>6.229406</td>\n",
       "      <td>6.229406</td>\n",
       "      <td>6.190332</td>\n",
       "      <td>6.229406</td>\n",
       "    </tr>\n",
       "    <tr>\n",
       "      <th>std</th>\n",
       "      <td>1.369193e+07</td>\n",
       "      <td>747.280401</td>\n",
       "      <td>0.689512</td>\n",
       "      <td>0.271258</td>\n",
       "      <td>4.116755</td>\n",
       "      <td>3.745667</td>\n",
       "      <td>3.786197</td>\n",
       "      <td>3.867013</td>\n",
       "      <td>3.844788</td>\n",
       "      <td>3.882645</td>\n",
       "      <td>...</td>\n",
       "      <td>3.782710</td>\n",
       "      <td>4.116194</td>\n",
       "      <td>3.971341</td>\n",
       "      <td>4.117035</td>\n",
       "      <td>4.156279</td>\n",
       "      <td>4.117035</td>\n",
       "      <td>4.117035</td>\n",
       "      <td>4.117035</td>\n",
       "      <td>4.170885</td>\n",
       "      <td>4.117035</td>\n",
       "    </tr>\n",
       "    <tr>\n",
       "      <th>min</th>\n",
       "      <td>2.000000e+06</td>\n",
       "      <td>415.000000</td>\n",
       "      <td>1.000000</td>\n",
       "      <td>0.000000</td>\n",
       "      <td>0.000000</td>\n",
       "      <td>0.000000</td>\n",
       "      <td>0.000000</td>\n",
       "      <td>0.000000</td>\n",
       "      <td>0.000000</td>\n",
       "      <td>0.000000</td>\n",
       "      <td>...</td>\n",
       "      <td>0.000000</td>\n",
       "      <td>0.000000</td>\n",
       "      <td>0.000000</td>\n",
       "      <td>0.000000</td>\n",
       "      <td>0.000000</td>\n",
       "      <td>0.000000</td>\n",
       "      <td>0.000000</td>\n",
       "      <td>0.000000</td>\n",
       "      <td>0.000000</td>\n",
       "      <td>0.000000</td>\n",
       "    </tr>\n",
       "    <tr>\n",
       "      <th>25%</th>\n",
       "      <td>5.000000e+06</td>\n",
       "      <td>1110.000000</td>\n",
       "      <td>2.000000</td>\n",
       "      <td>0.000000</td>\n",
       "      <td>0.000000</td>\n",
       "      <td>1.000000</td>\n",
       "      <td>1.000000</td>\n",
       "      <td>1.000000</td>\n",
       "      <td>1.000000</td>\n",
       "      <td>1.000000</td>\n",
       "      <td>...</td>\n",
       "      <td>1.000000</td>\n",
       "      <td>0.000000</td>\n",
       "      <td>1.000000</td>\n",
       "      <td>0.000000</td>\n",
       "      <td>0.000000</td>\n",
       "      <td>0.000000</td>\n",
       "      <td>0.000000</td>\n",
       "      <td>0.000000</td>\n",
       "      <td>0.000000</td>\n",
       "      <td>0.000000</td>\n",
       "    </tr>\n",
       "    <tr>\n",
       "      <th>50%</th>\n",
       "      <td>7.400000e+06</td>\n",
       "      <td>1338.000000</td>\n",
       "      <td>3.000000</td>\n",
       "      <td>0.000000</td>\n",
       "      <td>9.000000</td>\n",
       "      <td>9.000000</td>\n",
       "      <td>9.000000</td>\n",
       "      <td>9.000000</td>\n",
       "      <td>9.000000</td>\n",
       "      <td>9.000000</td>\n",
       "      <td>...</td>\n",
       "      <td>9.000000</td>\n",
       "      <td>9.000000</td>\n",
       "      <td>9.000000</td>\n",
       "      <td>9.000000</td>\n",
       "      <td>9.000000</td>\n",
       "      <td>9.000000</td>\n",
       "      <td>9.000000</td>\n",
       "      <td>9.000000</td>\n",
       "      <td>9.000000</td>\n",
       "      <td>9.000000</td>\n",
       "    </tr>\n",
       "    <tr>\n",
       "      <th>75%</th>\n",
       "      <td>1.080000e+07</td>\n",
       "      <td>1660.000000</td>\n",
       "      <td>3.000000</td>\n",
       "      <td>0.000000</td>\n",
       "      <td>9.000000</td>\n",
       "      <td>9.000000</td>\n",
       "      <td>9.000000</td>\n",
       "      <td>9.000000</td>\n",
       "      <td>9.000000</td>\n",
       "      <td>9.000000</td>\n",
       "      <td>...</td>\n",
       "      <td>9.000000</td>\n",
       "      <td>9.000000</td>\n",
       "      <td>9.000000</td>\n",
       "      <td>9.000000</td>\n",
       "      <td>9.000000</td>\n",
       "      <td>9.000000</td>\n",
       "      <td>9.000000</td>\n",
       "      <td>9.000000</td>\n",
       "      <td>9.000000</td>\n",
       "      <td>9.000000</td>\n",
       "    </tr>\n",
       "    <tr>\n",
       "      <th>max</th>\n",
       "      <td>3.000000e+08</td>\n",
       "      <td>9900.000000</td>\n",
       "      <td>7.000000</td>\n",
       "      <td>1.000000</td>\n",
       "      <td>9.000000</td>\n",
       "      <td>9.000000</td>\n",
       "      <td>9.000000</td>\n",
       "      <td>9.000000</td>\n",
       "      <td>9.000000</td>\n",
       "      <td>9.000000</td>\n",
       "      <td>...</td>\n",
       "      <td>9.000000</td>\n",
       "      <td>9.000000</td>\n",
       "      <td>9.000000</td>\n",
       "      <td>9.000000</td>\n",
       "      <td>9.000000</td>\n",
       "      <td>9.000000</td>\n",
       "      <td>9.000000</td>\n",
       "      <td>9.000000</td>\n",
       "      <td>9.000000</td>\n",
       "      <td>9.000000</td>\n",
       "    </tr>\n",
       "  </tbody>\n",
       "</table>\n",
       "<p>8 rows × 39 columns</p>\n",
       "</div>"
      ],
      "text/plain": [
       "              Price         Area     Bedrooms       Resale  MaintenanceStaff  \\\n",
       "count  4.965000e+03  4965.000000  4965.000000  4965.000000       4965.000000   \n",
       "mean   1.054205e+07  1522.798389     2.558912     0.079960          6.229607   \n",
       "std    1.369193e+07   747.280401     0.689512     0.271258          4.116755   \n",
       "min    2.000000e+06   415.000000     1.000000     0.000000          0.000000   \n",
       "25%    5.000000e+06  1110.000000     2.000000     0.000000          0.000000   \n",
       "50%    7.400000e+06  1338.000000     3.000000     0.000000          9.000000   \n",
       "75%    1.080000e+07  1660.000000     3.000000     0.000000          9.000000   \n",
       "max    3.000000e+08  9900.000000     7.000000     1.000000          9.000000   \n",
       "\n",
       "         Gymnasium  SwimmingPool  LandscapedGardens  JoggingTrack  \\\n",
       "count  4965.000000   4965.000000        4965.000000   4965.000000   \n",
       "mean      6.478751      6.453172           6.401007      6.415509   \n",
       "std       3.745667      3.786197           3.867013      3.844788   \n",
       "min       0.000000      0.000000           0.000000      0.000000   \n",
       "25%       1.000000      1.000000           1.000000      1.000000   \n",
       "50%       9.000000      9.000000           9.000000      9.000000   \n",
       "75%       9.000000      9.000000           9.000000      9.000000   \n",
       "max       9.000000      9.000000           9.000000      9.000000   \n",
       "\n",
       "       RainWaterHarvesting  ...  LiftAvailable          BED  VaastuCompliant  \\\n",
       "count          4965.000000  ...    4965.000000  4965.000000      4965.000000   \n",
       "mean              6.390735  ...       6.455388     6.230010         6.331319   \n",
       "std               3.882645  ...       3.782710     4.116194         3.971341   \n",
       "min               0.000000  ...       0.000000     0.000000         0.000000   \n",
       "25%               1.000000  ...       1.000000     0.000000         1.000000   \n",
       "50%               9.000000  ...       9.000000     9.000000         9.000000   \n",
       "75%               9.000000  ...       9.000000     9.000000         9.000000   \n",
       "max               9.000000  ...       9.000000     9.000000         9.000000   \n",
       "\n",
       "         Microwave   GolfCourse           TV  DiningTable         Sofa  \\\n",
       "count  4965.000000  4965.000000  4965.000000  4965.000000  4965.000000   \n",
       "mean      6.229406     6.201007     6.229406     6.229406     6.229406   \n",
       "std       4.117035     4.156279     4.117035     4.117035     4.117035   \n",
       "min       0.000000     0.000000     0.000000     0.000000     0.000000   \n",
       "25%       0.000000     0.000000     0.000000     0.000000     0.000000   \n",
       "50%       9.000000     9.000000     9.000000     9.000000     9.000000   \n",
       "75%       9.000000     9.000000     9.000000     9.000000     9.000000   \n",
       "max       9.000000     9.000000     9.000000     9.000000     9.000000   \n",
       "\n",
       "          Wardrobe  Refrigerator  \n",
       "count  4965.000000   4965.000000  \n",
       "mean      6.190332      6.229406  \n",
       "std       4.170885      4.117035  \n",
       "min       0.000000      0.000000  \n",
       "25%       0.000000      0.000000  \n",
       "50%       9.000000      9.000000  \n",
       "75%       9.000000      9.000000  \n",
       "max       9.000000      9.000000  \n",
       "\n",
       "[8 rows x 39 columns]"
      ]
     },
     "execution_count": 36,
     "metadata": {},
     "output_type": "execute_result"
    }
   ],
   "source": [
    "house_price_train.describe()"
   ]
  },
  {
   "cell_type": "code",
   "execution_count": 37,
   "metadata": {
    "colab": {
     "base_uri": "https://localhost:8080/",
     "height": 295
    },
    "id": "qfFZeZqzABw6",
    "outputId": "aeccb6fb-5ab5-4c1a-9708-ac7cba2122d0"
   },
   "outputs": [
    {
     "data": {
      "image/png": "[encoded data removed]",
      "text/plain": [
       "<Figure size 432x288 with 1 Axes>"
      ]
     },
     "metadata": {
      "needs_background": "light"
     },
     "output_type": "display_data"
    }
   ],
   "source": [
    "K=np.log(house_price_train['Price']/house_price_train['Area'])\n",
    "\n",
    "plt.plot(K,house_price_train['Price'],'o')\n",
    "plt.xlabel('Location decoded value')\n",
    "plt.ylabel('Price')\n",
    "plt.title('Bangalore housing price')\n",
    "plt.show()"
   ]
  },
  {
   "cell_type": "code",
   "execution_count": 38,
   "metadata": {
    "colab": {
     "base_uri": "https://localhost:8080/"
    },
    "id": "xgGqdxjUABw8",
    "outputId": "072891b5-c70f-4770-bd47-088021df5266"
   },
   "outputs": [
    {
     "data": {
      "text/plain": [
       "Price                  1.000000\n",
       "Area                   0.397143\n",
       "Bedrooms               0.235537\n",
       "Resale                -0.042893\n",
       "MaintenanceStaff       0.033609\n",
       "Gymnasium              0.035335\n",
       "SwimmingPool           0.037890\n",
       "LandscapedGardens      0.033338\n",
       "JoggingTrack           0.038366\n",
       "RainWaterHarvesting    0.036764\n",
       "IndoorGames            0.037229\n",
       "ShoppingMall           0.032634\n",
       "Intercom               0.034270\n",
       "SportsFacility         0.039681\n",
       "ATM                    0.033293\n",
       "ClubHouse              0.039482\n",
       "School                 0.032154\n",
       "24X7Security           0.036502\n",
       "PowerBackup            0.034424\n",
       "CarParking             0.038602\n",
       "StaffQuarter           0.034976\n",
       "Cafeteria              0.034760\n",
       "MultipurposeRoom       0.033996\n",
       "Hospital               0.033252\n",
       "WashingMachine         0.037073\n",
       "Gasconnection          0.037523\n",
       "AC                     0.037122\n",
       "Wifi                   0.033707\n",
       "Children'splayarea     0.035585\n",
       "LiftAvailable          0.032593\n",
       "BED                    0.037150\n",
       "VaastuCompliant        0.033409\n",
       "Microwave              0.037073\n",
       "GolfCourse             0.034773\n",
       "TV                     0.037073\n",
       "DiningTable            0.037073\n",
       "Sofa                   0.037073\n",
       "Wardrobe               0.033707\n",
       "Refrigerator           0.037073\n",
       "Name: Price, dtype: float64"
      ]
     },
     "execution_count": 38,
     "metadata": {},
     "output_type": "execute_result"
    }
   ],
   "source": [
    "matrix_corr=house_price_train.corr()\n",
    "matrix_corr['Price']  "
   ]
  },
  {
   "cell_type": "code",
   "execution_count": 39,
   "metadata": {
    "id": "L0dL0U_YABw9"
   },
   "outputs": [],
   "source": [
    "def na_remover(data):\n",
    "    data.replace(9,0.5,inplace=True)"
   ]
  },
  {
   "cell_type": "code",
   "execution_count": 40,
   "metadata": {
    "id": "pPtyddXsABw9"
   },
   "outputs": [],
   "source": [
    "def data_processing(data):\n",
    "    K=np.log(data['Price']/data['Area'])\n",
    "    data['Location']=K\n",
    "    house_feature=data.drop(['Price'],axis=1)\n",
    "    my_pipeline=Pipeline([('rem',na_remover(house_feature)),\n",
    "                          ('std',StandardScaler())   \n",
    "                         ])\n",
    "    return my_pipeline.fit_transform(house_feature)"
   ]
  },
  {
   "cell_type": "code",
   "execution_count": 41,
   "metadata": {
    "colab": {
     "base_uri": "https://localhost:8080/"
    },
    "id": "9BsR6s_-ABw-",
    "outputId": "c9a72272-1528-41a8-f318-d0b550d61bb4"
   },
   "outputs": [
    {
     "name": "stderr",
     "output_type": "stream",
     "text": [
      "<ipython-input-40-4413df406079>:3: SettingWithCopyWarning: \n",
      "A value is trying to be set on a copy of a slice from a DataFrame.\n",
      "Try using .loc[row_indexer,col_indexer] = value instead\n",
      "\n",
      "See the caveats in the documentation: https://pandas.pydata.org/pandas-docs/stable/user_guide/indexing.html#returning-a-view-versus-a-copy\n",
      "  data['Location']=K\n"
     ]
    }
   ],
   "source": [
    "Y_train=np.log(house_price_train['Price'])\n",
    "X_train=data_processing(house_price_train)"
   ]
  },
  {
   "cell_type": "code",
   "execution_count": 42,
   "metadata": {
    "colab": {
     "base_uri": "https://localhost:8080/"
    },
    "id": "J7uoVghnABw_",
    "outputId": "11add4fe-d595-49f9-e411-fccf21e68ad0"
   },
   "outputs": [
    {
     "data": {
      "text/plain": [
       "(4965, 39)"
      ]
     },
     "execution_count": 42,
     "metadata": {},
     "output_type": "execute_result"
    }
   ],
   "source": [
    "X_train.shape\n"
   ]
  },
  {
   "cell_type": "markdown",
   "metadata": {
    "id": "ZtSNWvo8ABw_"
   },
   "source": [
    "## Different model training "
   ]
  },
  {
   "cell_type": "code",
   "execution_count": 43,
   "metadata": {
    "id": "2gQ89CBPABxA"
   },
   "outputs": [],
   "source": [
    "model1=LinearRegression().fit(X_train,Y_train)   "
   ]
  },
  {
   "cell_type": "code",
   "execution_count": 44,
   "metadata": {
    "id": "G02DoKFMABxA"
   },
   "outputs": [],
   "source": [
    "model2=Ridge().fit(X_train,Y_train)  "
   ]
  },
  {
   "cell_type": "code",
   "execution_count": 45,
   "metadata": {
    "id": "V2AF8PycABxA"
   },
   "outputs": [],
   "source": [
    "model3=DecisionTreeRegressor().fit(X_train,Y_train)    "
   ]
  },
  {
   "cell_type": "code",
   "execution_count": 46,
   "metadata": {
    "id": "yu51XV1vABxA"
   },
   "outputs": [],
   "source": [
    "model4=RandomForestRegressor().fit(X_train,Y_train)     "
   ]
  },
  {
   "cell_type": "code",
   "execution_count": 47,
   "metadata": {
    "id": "-Ng72Wg-ABxB"
   },
   "outputs": [],
   "source": [
    "model1_predict=model1.predict(X_train)\n",
    "model2_predict=model2.predict(X_train)\n",
    "model3_predict=model3.predict(X_train)\n",
    "model4_predict=model4.predict(X_train)"
   ]
  },
  {
   "cell_type": "code",
   "execution_count": 48,
   "metadata": {
    "colab": {
     "base_uri": "https://localhost:8080/",
     "height": 337
    },
    "id": "d2vChc6rABxB",
    "outputId": "35fe2ad5-ce07-452f-9209-1e608f346a5c"
   },
   "outputs": [
    {
     "data": {
      "text/plain": [
       "<matplotlib.axes._subplots.AxesSubplot at 0x1989db791c0>"
      ]
     },
     "execution_count": 48,
     "metadata": {},
     "output_type": "execute_result"
    },
    {
     "data": {
      "image/png": "[encoded data removed]",
      "text/plain": [
       "<Figure size 432x288 with 1 Axes>"
      ]
     },
     "metadata": {
      "needs_background": "light"
     },
     "output_type": "display_data"
    }
   ],
   "source": [
    "sns.regplot(model1_predict,Y_train)"
   ]
  },
  {
   "cell_type": "code",
   "execution_count": 49,
   "metadata": {
    "colab": {
     "base_uri": "https://localhost:8080/",
     "height": 337
    },
    "id": "GT4lFNYmABxC",
    "outputId": "af8357de-14ab-4dc3-93dd-09926e598de2"
   },
   "outputs": [
    {
     "data": {
      "text/plain": [
       "<matplotlib.axes._subplots.AxesSubplot at 0x1989e4d1370>"
      ]
     },
     "execution_count": 49,
     "metadata": {},
     "output_type": "execute_result"
    },
    {
     "data": {
      "image/png": "[encoded data removed]",
      "text/plain": [
       "<Figure size 432x288 with 1 Axes>"
      ]
     },
     "metadata": {
      "needs_background": "light"
     },
     "output_type": "display_data"
    }
   ],
   "source": [
    "sns.regplot(model2_predict,Y_train)"
   ]
  },
  {
   "cell_type": "code",
   "execution_count": 50,
   "metadata": {
    "colab": {
     "base_uri": "https://localhost:8080/",
     "height": 337
    },
    "id": "fZuuR3ROABxC",
    "outputId": "ea5cfdd2-d618-4b38-c8f6-1a96ffa18f5b"
   },
   "outputs": [
    {
     "data": {
      "text/plain": [
       "<matplotlib.axes._subplots.AxesSubplot at 0x1989e51c0d0>"
      ]
     },
     "execution_count": 50,
     "metadata": {},
     "output_type": "execute_result"
    },
    {
     "data": {
      "image/png": "[encoded data removed]",
      "text/plain": [
       "<Figure size 432x288 with 1 Axes>"
      ]
     },
     "metadata": {
      "needs_background": "light"
     },
     "output_type": "display_data"
    }
   ],
   "source": [
    "sns.regplot(model3_predict,Y_train)"
   ]
  },
  {
   "cell_type": "code",
   "execution_count": 51,
   "metadata": {
    "colab": {
     "base_uri": "https://localhost:8080/",
     "height": 337
    },
    "id": "o3QnA9ZAABxD",
    "outputId": "9bca929d-28ad-4255-9f90-abe11f7ae4fc"
   },
   "outputs": [
    {
     "data": {
      "text/plain": [
       "<matplotlib.axes._subplots.AxesSubplot at 0x1989e588460>"
      ]
     },
     "execution_count": 51,
     "metadata": {},
     "output_type": "execute_result"
    },
    {
     "data": {
      "image/png": "[encoded data removed]",
      "text/plain": [
       "<Figure size 432x288 with 1 Axes>"
      ]
     },
     "metadata": {
      "needs_background": "light"
     },
     "output_type": "display_data"
    }
   ],
   "source": [
    "sns.regplot(model4_predict,Y_train)"
   ]
  },
  {
   "cell_type": "markdown",
   "metadata": {
    "id": "uiUWkg4vABxD"
   },
   "source": [
    "## testing"
   ]
  },
  {
   "cell_type": "code",
   "execution_count": 52,
   "metadata": {
    "id": "xWEAqlDpABxD"
   },
   "outputs": [],
   "source": [
    "Y_test=house_price_test['Price']\n"
   ]
  },
  {
   "cell_type": "code",
   "execution_count": 53,
   "metadata": {
    "colab": {
     "base_uri": "https://localhost:8080/"
    },
    "id": "DzTTpwLrABxE",
    "outputId": "bc62666c-1b4d-43f5-ea08-014ac39ce562"
   },
   "outputs": [
    {
     "name": "stderr",
     "output_type": "stream",
     "text": [
      "<ipython-input-40-4413df406079>:3: SettingWithCopyWarning: \n",
      "A value is trying to be set on a copy of a slice from a DataFrame.\n",
      "Try using .loc[row_indexer,col_indexer] = value instead\n",
      "\n",
      "See the caveats in the documentation: https://pandas.pydata.org/pandas-docs/stable/user_guide/indexing.html#returning-a-view-versus-a-copy\n",
      "  data['Location']=K\n"
     ]
    }
   ],
   "source": [
    "X_test=data_processing(house_price_test)"
   ]
  },
  {
   "cell_type": "code",
   "execution_count": 54,
   "metadata": {
    "id": "b4NxkkcoABxE"
   },
   "outputs": [],
   "source": [
    "model1_test=np.exp(model1.predict(X_test))\n",
    "model2_test=np.exp(model2.predict(X_test))\n",
    "model3_test=np.exp(model3.predict(X_test))\n",
    "model4_test=np.exp(model4.predict(X_test))"
   ]
  },
  {
   "cell_type": "code",
   "execution_count": 55,
   "metadata": {
    "colab": {
     "base_uri": "https://localhost:8080/",
     "height": 362
    },
    "id": "XIjp34fOABxE",
    "outputId": "62bdc74c-2f06-4f1b-e9d7-cf12f5c25846"
   },
   "outputs": [
    {
     "data": {
      "text/plain": [
       "<matplotlib.axes._subplots.AxesSubplot at 0x1989e5dd8e0>"
      ]
     },
     "execution_count": 55,
     "metadata": {},
     "output_type": "execute_result"
    },
    {
     "data": {
      "image/png": "[encoded data removed]",
      "text/plain": [
       "<Figure size 432x288 with 1 Axes>"
      ]
     },
     "metadata": {
      "needs_background": "light"
     },
     "output_type": "display_data"
    }
   ],
   "source": [
    "sns.regplot(model1_test,Y_test)"
   ]
  },
  {
   "cell_type": "code",
   "execution_count": 56,
   "metadata": {
    "colab": {
     "base_uri": "https://localhost:8080/",
     "height": 362
    },
    "id": "1ioaCIR8ABxF",
    "outputId": "c93a897d-9b28-47db-a491-df3120517517"
   },
   "outputs": [
    {
     "data": {
      "text/plain": [
       "<matplotlib.axes._subplots.AxesSubplot at 0x1989e63ce80>"
      ]
     },
     "execution_count": 56,
     "metadata": {},
     "output_type": "execute_result"
    },
    {
     "data": {
      "image/png": "[encoded data removed]",
      "text/plain": [
       "<Figure size 432x288 with 1 Axes>"
      ]
     },
     "metadata": {
      "needs_background": "light"
     },
     "output_type": "display_data"
    }
   ],
   "source": [
    "sns.regplot(model2_test,Y_test)"
   ]
  },
  {
   "cell_type": "code",
   "execution_count": 57,
   "metadata": {
    "colab": {
     "base_uri": "https://localhost:8080/",
     "height": 362
    },
    "id": "oROfAJs-ABxF",
    "outputId": "c168bea5-9413-421b-9ec2-e9315b77bd6c"
   },
   "outputs": [
    {
     "data": {
      "text/plain": [
       "<matplotlib.axes._subplots.AxesSubplot at 0x1989e9df760>"
      ]
     },
     "execution_count": 57,
     "metadata": {},
     "output_type": "execute_result"
    },
    {
     "data": {
      "image/png": "[encoded data removed]",
      "text/plain": [
       "<Figure size 432x288 with 1 Axes>"
      ]
     },
     "metadata": {
      "needs_background": "light"
     },
     "output_type": "display_data"
    }
   ],
   "source": [
    "sns.regplot(model3_test,Y_test)"
   ]
  },
  {
   "cell_type": "code",
   "execution_count": 58,
   "metadata": {
    "colab": {
     "base_uri": "https://localhost:8080/",
     "height": 362
    },
    "id": "dEHq7nLfABxN",
    "outputId": "d4d445fb-a5d1-4ee0-df4d-43db5660e625"
   },
   "outputs": [
    {
     "data": {
      "text/plain": [
       "<matplotlib.axes._subplots.AxesSubplot at 0x1989ea43670>"
      ]
     },
     "execution_count": 58,
     "metadata": {},
     "output_type": "execute_result"
    },
    {
     "data": {
      "image/png": "[encoded data removed]",
      "text/plain": [
       "<Figure size 432x288 with 1 Axes>"
      ]
     },
     "metadata": {
      "needs_background": "light"
     },
     "output_type": "display_data"
    }
   ],
   "source": [
    "sns.regplot(model4_test,Y_test)"
   ]
  },
  {
   "cell_type": "code",
   "execution_count": 59,
   "metadata": {
    "id": "cxZNW3S6ABxO"
   },
   "outputs": [],
   "source": [
    "model1_r2=r2_score(model1_test,Y_test)\n",
    "\n",
    "model2_r2=r2_score(model2_test,Y_test)\n",
    "\n",
    "model3_r2=r2_score(model3_test,Y_test)\n",
    "\n",
    "model4_r2=r2_score(model4_test,Y_test)"
   ]
  },
  {
   "cell_type": "code",
   "execution_count": 60,
   "metadata": {
    "colab": {
     "base_uri": "https://localhost:8080/"
    },
    "id": "7Mc3nxkdABxO",
    "outputId": "7e980fec-43a8-46db-c208-845de3d477de"
   },
   "outputs": [
    {
     "name": "stdout",
     "output_type": "stream",
     "text": [
      "model1_error:0.7304596707330325\n",
      "model2_error:0.7307650182599637\n",
      "model3_error:0.8826984080875863\n",
      "model4_error:0.9246496770775795\n"
     ]
    }
   ],
   "source": [
    "print(\"model1_error:{}\\nmodel2_error:{}\\nmodel3_error:{}\\nmodel4_error:{}\".format(model1_r2,model2_r2,model3_r2,model4_r2))"
   ]
  },
  {
   "cell_type": "markdown",
   "metadata": {
    "id": "wa3nuBqaABxP"
   },
   "source": [
    "## model exporting"
   ]
  },
  {
   "cell_type": "code",
   "execution_count": 62,
   "metadata": {
    "colab": {
     "base_uri": "https://localhost:8080/"
    },
    "id": "RYMrTqVPABxP",
    "outputId": "f5a07d6b-37e6-4f02-8f52-72038aa2fad9"
   },
   "outputs": [],
   "source": [
    "import joblib as jb"
   ]
  },
  {
   "cell_type": "code",
   "execution_count": 64,
   "metadata": {
    "colab": {
     "base_uri": "https://localhost:8080/"
    },
    "id": "SbbaWU6XABxQ",
    "outputId": "ef82b71e-b6f7-4f1c-ef30-70dd830bfed6"
   },
   "outputs": [
    {
     "data": {
      "text/plain": [
       "['bangalore_house_price']"
      ]
     },
     "execution_count": 64,
     "metadata": {},
     "output_type": "execute_result"
    }
   ],
   "source": [
    "jb.dump(model4,'bangalore_house_price')"
   ]
  },
  {
   "cell_type": "code",
   "execution_count": null,
   "metadata": {
    "id": "UaChCbZVABxR"
   },
   "outputs": [],
   "source": []
  }
 ],
 "metadata": {
  "colab": {
   "name": "delhi housing price prediction .ipynb",
   "provenance": []
  },
  "kernelspec": {
   "display_name": "Python 3",
   "language": "python",
   "name": "python3"
  },
  "language_info": {
   "codemirror_mode": {
    "name": "ipython",
    "version": 3
   },
   "file_extension": ".py",
   "mimetype": "text/x-python",
   "name": "python",
   "nbconvert_exporter": "python",
   "pygments_lexer": "ipython3",
   "version": "3.8.3"
  }
 },
 "nbformat": 4,
 "nbformat_minor": 1
}
