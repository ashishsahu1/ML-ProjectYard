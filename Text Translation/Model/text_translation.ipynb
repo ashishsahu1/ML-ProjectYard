{
  "nbformat": 4,
  "nbformat_minor": 0,
  "metadata": {
    "colab": {
      "name": "NLP-2.ipynb",
      "provenance": []
    },
    "kernelspec": {
      "name": "python3",
      "display_name": "Python 3"
    }
  },
  "cells": [
    {
      "cell_type": "code",
      "metadata": {
        "colab": {
          "base_uri": "https://localhost:8080/"
        },
        "id": "bJ8VASyNA1X5",
        "outputId": "7fbf32e3-e055-45ef-edcc-e05d48e6b035"
      },
      "source": [
        "!pip install h5py pyyaml"
      ],
      "execution_count": 1,
      "outputs": [
        {
          "output_type": "stream",
          "text": [
            "Requirement already satisfied: h5py in /usr/local/lib/python3.7/dist-packages (2.10.0)\n",
            "Requirement already satisfied: pyyaml in /usr/local/lib/python3.7/dist-packages (3.13)\n",
            "Requirement already satisfied: numpy>=1.7 in /usr/local/lib/python3.7/dist-packages (from h5py) (1.19.5)\n",
            "Requirement already satisfied: six in /usr/local/lib/python3.7/dist-packages (from h5py) (1.15.0)\n"
          ],
          "name": "stdout"
        }
      ]
    },
    {
      "cell_type": "code",
      "metadata": {
        "id": "KHcCn-3kIdJp"
      },
      "source": [
        "import string\n",
        "import re\n",
        "from numpy import array, argmax, random, take\n",
        "import pandas as pd\n",
        "from keras.models import Sequential\n",
        "from keras.layers import Dense, LSTM, Embedding, RepeatVector\n",
        "from keras.preprocessing.text import Tokenizer\n",
        "from keras.callbacks import ModelCheckpoint\n",
        "from keras.preprocessing.sequence import pad_sequences\n",
        "from keras.models import load_model\n",
        "from keras import optimizers\n",
        "import matplotlib.pyplot as plt\n",
        "import os\n",
        "import tensorflow as tf\n",
        "%matplotlib inline\n",
        "pd.set_option('display.max_colwidth', 200)"
      ],
      "execution_count": 10,
      "outputs": []
    },
    {
      "cell_type": "code",
      "metadata": {
        "id": "z13nQ0fUIkBV"
      },
      "source": [
        "# function to read raw text file\n",
        "def read_text(filename):\n",
        "        # open the file\n",
        "        file = open(\"deu.txt\", mode='rt', encoding='utf-8')\n",
        "        \n",
        "        # read all text\n",
        "        text = file.read()\n",
        "        file.close()\n",
        "        return text\n"
      ],
      "execution_count": 11,
      "outputs": []
    },
    {
      "cell_type": "code",
      "metadata": {
        "id": "AsrqettEIkWn"
      },
      "source": [
        "# split a text into sentences\n",
        "def to_lines(text):\n",
        "      sents = text.strip().split('\\n')\n",
        "      sents = [i.split('\\t') for i in sents]\n",
        "      return sents"
      ],
      "execution_count": 12,
      "outputs": []
    },
    {
      "cell_type": "code",
      "metadata": {
        "id": "4T1c8hkJIkg-",
        "colab": {
          "base_uri": "https://localhost:8080/"
        },
        "outputId": "ff475c80-25fe-4012-aaa7-35d6f8d3b3ad"
      },
      "source": [
        "data = read_text(\"deu.txt\")\n",
        "deu_eng = to_lines(data)\n",
        "deu_eng = array(deu_eng)\n",
        "deu_eng = deu_eng[:25000,:]\n",
        "deu_eng"
      ],
      "execution_count": 13,
      "outputs": [
        {
          "output_type": "execute_result",
          "data": {
            "text/plain": [
              "array([['Go.', 'Geh.',\n",
              "        'CC-BY 2.0 (France) Attribution: tatoeba.org #2877272 (CM) & #8597805 (Roujin)'],\n",
              "       ['Hi.', 'Hallo!',\n",
              "        'CC-BY 2.0 (France) Attribution: tatoeba.org #538123 (CM) & #380701 (cburgmer)'],\n",
              "       ['Hi.', 'Grüß Gott!',\n",
              "        'CC-BY 2.0 (France) Attribution: tatoeba.org #538123 (CM) & #659813 (Esperantostern)'],\n",
              "       ...,\n",
              "       ['Tom sounded tired.', 'Tom klang müde.',\n",
              "        'CC-BY 2.0 (France) Attribution: tatoeba.org #4502231 (CK) & #6625452 (Felixjp)'],\n",
              "       ['Tom sounded tired.', 'Tom hat müde geklungen.',\n",
              "        'CC-BY 2.0 (France) Attribution: tatoeba.org #4502231 (CK) & #6625453 (Felixjp)'],\n",
              "       ['Tom sounded upset.', 'Tom klang aufgebracht.',\n",
              "        'CC-BY 2.0 (France) Attribution: tatoeba.org #1877549 (CK) & #6625456 (Felixjp)']],\n",
              "      dtype='<U537')"
            ]
          },
          "metadata": {
            "tags": []
          },
          "execution_count": 13
        }
      ]
    },
    {
      "cell_type": "code",
      "metadata": {
        "id": "4GHDYnXzIktJ",
        "colab": {
          "base_uri": "https://localhost:8080/"
        },
        "outputId": "a874e19b-5016-40e5-bdb0-19d2b7b5863d"
      },
      "source": [
        "# Remove punctuation\n",
        "deu_eng[:,0] = [s.translate(str.maketrans('', '', string.punctuation)) for s in deu_eng[:,0]]\n",
        "deu_eng[:,1] = [s.translate(str.maketrans('', '', string.punctuation)) for s in deu_eng[:,1]]\n",
        "\n",
        "deu_eng"
      ],
      "execution_count": 14,
      "outputs": [
        {
          "output_type": "execute_result",
          "data": {
            "text/plain": [
              "array([['Go', 'Geh',\n",
              "        'CC-BY 2.0 (France) Attribution: tatoeba.org #2877272 (CM) & #8597805 (Roujin)'],\n",
              "       ['Hi', 'Hallo',\n",
              "        'CC-BY 2.0 (France) Attribution: tatoeba.org #538123 (CM) & #380701 (cburgmer)'],\n",
              "       ['Hi', 'Grüß Gott',\n",
              "        'CC-BY 2.0 (France) Attribution: tatoeba.org #538123 (CM) & #659813 (Esperantostern)'],\n",
              "       ...,\n",
              "       ['Tom sounded tired', 'Tom klang müde',\n",
              "        'CC-BY 2.0 (France) Attribution: tatoeba.org #4502231 (CK) & #6625452 (Felixjp)'],\n",
              "       ['Tom sounded tired', 'Tom hat müde geklungen',\n",
              "        'CC-BY 2.0 (France) Attribution: tatoeba.org #4502231 (CK) & #6625453 (Felixjp)'],\n",
              "       ['Tom sounded upset', 'Tom klang aufgebracht',\n",
              "        'CC-BY 2.0 (France) Attribution: tatoeba.org #1877549 (CK) & #6625456 (Felixjp)']],\n",
              "      dtype='<U537')"
            ]
          },
          "metadata": {
            "tags": []
          },
          "execution_count": 14
        }
      ]
    },
    {
      "cell_type": "code",
      "metadata": {
        "colab": {
          "base_uri": "https://localhost:8080/"
        },
        "id": "_BLmGFdaI-B8",
        "outputId": "dad57807-6784-430d-a030-2d40d7d92fa7"
      },
      "source": [
        "# convert text to lowercase\n",
        "for i in range(len(deu_eng)):\n",
        "    deu_eng[i,0] = deu_eng[i,0].lower()\n",
        "    deu_eng[i,1] = deu_eng[i,1].lower()\n",
        "\n",
        "deu_eng"
      ],
      "execution_count": 15,
      "outputs": [
        {
          "output_type": "execute_result",
          "data": {
            "text/plain": [
              "array([['go', 'geh',\n",
              "        'CC-BY 2.0 (France) Attribution: tatoeba.org #2877272 (CM) & #8597805 (Roujin)'],\n",
              "       ['hi', 'hallo',\n",
              "        'CC-BY 2.0 (France) Attribution: tatoeba.org #538123 (CM) & #380701 (cburgmer)'],\n",
              "       ['hi', 'grüß gott',\n",
              "        'CC-BY 2.0 (France) Attribution: tatoeba.org #538123 (CM) & #659813 (Esperantostern)'],\n",
              "       ...,\n",
              "       ['tom sounded tired', 'tom klang müde',\n",
              "        'CC-BY 2.0 (France) Attribution: tatoeba.org #4502231 (CK) & #6625452 (Felixjp)'],\n",
              "       ['tom sounded tired', 'tom hat müde geklungen',\n",
              "        'CC-BY 2.0 (France) Attribution: tatoeba.org #4502231 (CK) & #6625453 (Felixjp)'],\n",
              "       ['tom sounded upset', 'tom klang aufgebracht',\n",
              "        'CC-BY 2.0 (France) Attribution: tatoeba.org #1877549 (CK) & #6625456 (Felixjp)']],\n",
              "      dtype='<U537')"
            ]
          },
          "metadata": {
            "tags": []
          },
          "execution_count": 15
        }
      ]
    },
    {
      "cell_type": "code",
      "metadata": {
        "colab": {
          "base_uri": "https://localhost:8080/",
          "height": 281
        },
        "id": "-4E5oOYfI-J7",
        "outputId": "85a24145-779a-4f4e-9543-50a64e17bfca"
      },
      "source": [
        "# empty lists\n",
        "eng_l = []\n",
        "deu_l = []\n",
        "\n",
        "# populate the lists with sentence lengths\n",
        "for i in deu_eng[:,0]:\n",
        "      eng_l.append(len(i.split()))\n",
        "\n",
        "for i in deu_eng[:,1]:\n",
        "      deu_l.append(len(i.split()))\n",
        "\n",
        "length_df = pd.DataFrame({'eng':eng_l, 'deu':deu_l})\n",
        "\n",
        "length_df.hist(bins = 30)\n",
        "plt.show()"
      ],
      "execution_count": 16,
      "outputs": [
        {
          "output_type": "display_data",
          "data": {
            "image/png": "[encoded data removed]",
            "text/plain": [
              "<Figure size 432x288 with 2 Axes>"
            ]
          },
          "metadata": {
            "tags": [],
            "needs_background": "light"
          }
        }
      ]
    },
    {
      "cell_type": "code",
      "metadata": {
        "id": "xPZ0CrHII-RV"
      },
      "source": [
        "# function to build a tokenizer\n",
        "def tokenization(lines):\n",
        "      tokenizer = Tokenizer()\n",
        "      tokenizer.fit_on_texts(lines)\n",
        "      return tokenizer"
      ],
      "execution_count": 17,
      "outputs": []
    },
    {
      "cell_type": "code",
      "metadata": {
        "colab": {
          "base_uri": "https://localhost:8080/"
        },
        "id": "Co465KWSI-X4",
        "outputId": "9455b6dd-dc09-4d2d-a996-35958fa3b41f"
      },
      "source": [
        "# prepare english tokenizer\n",
        "eng_tokenizer = tokenization(deu_eng[:, 0])\n",
        "eng_vocab_size = len(eng_tokenizer.word_index) + 1\n",
        "\n",
        "eng_length = 8\n",
        "print('English Vocabulary Size: %d' % eng_vocab_size)"
      ],
      "execution_count": 18,
      "outputs": [
        {
          "output_type": "stream",
          "text": [
            "English Vocabulary Size: 4268\n"
          ],
          "name": "stdout"
        }
      ]
    },
    {
      "cell_type": "code",
      "metadata": {
        "colab": {
          "base_uri": "https://localhost:8080/"
        },
        "id": "ZGWsZPCCJWd3",
        "outputId": "c6ee205f-53d3-4c7c-a573-08f680d9de3c"
      },
      "source": [
        "# prepare Deutch tokenizer\n",
        "deu_tokenizer = tokenization(deu_eng[:, 1])\n",
        "deu_vocab_size = len(deu_tokenizer.word_index) + 1\n",
        "\n",
        "deu_length = 8\n",
        "print('Deutch Vocabulary Size: %d' % deu_vocab_size)"
      ],
      "execution_count": 19,
      "outputs": [
        {
          "output_type": "stream",
          "text": [
            "Deutch Vocabulary Size: 6693\n"
          ],
          "name": "stdout"
        }
      ]
    },
    {
      "cell_type": "code",
      "metadata": {
        "id": "0WRBWIXCJWht"
      },
      "source": [
        "# encode and pad sequences\n",
        "def encode_sequences(tokenizer, length, lines):\n",
        "         # integer encode sequences\n",
        "         seq = tokenizer.texts_to_sequences(lines)\n",
        "         # pad sequences with 0 values\n",
        "         seq = pad_sequences(seq, maxlen=length, padding='post')\n",
        "         return seq"
      ],
      "execution_count": 20,
      "outputs": []
    },
    {
      "cell_type": "code",
      "metadata": {
        "id": "_WLAJ9MZJWk8"
      },
      "source": [
        "from sklearn.model_selection import train_test_split\n",
        "\n",
        "# split data into train and test set\n",
        "train, test = train_test_split(deu_eng, test_size=0.2, random_state = 12)"
      ],
      "execution_count": 21,
      "outputs": []
    },
    {
      "cell_type": "code",
      "metadata": {
        "id": "nz4iFJvtJWnb"
      },
      "source": [
        "# prepare training data\n",
        "trainX = encode_sequences(deu_tokenizer, deu_length, train[:, 1])\n",
        "trainY = encode_sequences(eng_tokenizer, eng_length, train[:, 0])\n",
        "\n",
        "# prepare validation data\n",
        "testX = encode_sequences(deu_tokenizer, deu_length, test[:, 1])\n",
        "testY = encode_sequences(eng_tokenizer, eng_length, test[:, 0])"
      ],
      "execution_count": 22,
      "outputs": []
    },
    {
      "cell_type": "code",
      "metadata": {
        "id": "OVwxuyW1JWtz"
      },
      "source": [
        "# build NMT model\n",
        "def define_model(in_vocab,out_vocab, in_timesteps,out_timesteps,units):\n",
        "      model = Sequential()\n",
        "      model.add(Embedding(in_vocab, units, input_length=in_timesteps, mask_zero=True))\n",
        "      model.add(LSTM(units))\n",
        "      model.add(RepeatVector(out_timesteps))\n",
        "      model.add(LSTM(units, return_sequences=True))\n",
        "      model.add(Dense(out_vocab, activation='softmax'))\n",
        "      return model"
      ],
      "execution_count": 23,
      "outputs": []
    },
    {
      "cell_type": "code",
      "metadata": {
        "id": "rzvywkqCJgc_"
      },
      "source": [
        "# model compilation\n",
        "model = define_model(deu_vocab_size, eng_vocab_size, deu_length, eng_length, 512)\n",
        "rms = optimizers.RMSprop(lr=0.001)\n",
        "model.compile(optimizer=rms, loss='sparse_categorical_crossentropy')"
      ],
      "execution_count": 24,
      "outputs": []
    },
    {
      "cell_type": "code",
      "metadata": {
        "colab": {
          "base_uri": "https://localhost:8080/"
        },
        "id": "MiBLiCtgJggB",
        "outputId": "609b2b1e-63eb-4d29-e480-4164ca6a0928"
      },
      "source": [
        "\n",
        "\n",
        "\n",
        "# train model\n",
        "history = model.fit(trainX, trainY.reshape(trainY.shape[0], trainY.shape[1], 1),\n",
        "                    epochs=30, batch_size=512, validation_split = 0.2,\n",
        "                    verbose=1)"
      ],
      "execution_count": 25,
      "outputs": [
        {
          "output_type": "stream",
          "text": [
            "Epoch 1/30\n",
            "32/32 [==============================] - 121s 4s/step - loss: 4.6383 - val_loss: 2.5645\n",
            "Epoch 2/30\n",
            "32/32 [==============================] - 110s 3s/step - loss: 2.4991 - val_loss: 2.4237\n",
            "Epoch 3/30\n",
            "32/32 [==============================] - 110s 3s/step - loss: 2.3647 - val_loss: 2.3682\n",
            "Epoch 4/30\n",
            "32/32 [==============================] - 110s 3s/step - loss: 2.3033 - val_loss: 2.3009\n",
            "Epoch 5/30\n",
            "32/32 [==============================] - 111s 3s/step - loss: 2.1758 - val_loss: 2.2030\n",
            "Epoch 6/30\n",
            "32/32 [==============================] - 110s 3s/step - loss: 2.0745 - val_loss: 2.1644\n",
            "Epoch 7/30\n",
            "32/32 [==============================] - 112s 4s/step - loss: 1.9719 - val_loss: 2.0830\n",
            "Epoch 8/30\n",
            "32/32 [==============================] - 110s 3s/step - loss: 1.8869 - val_loss: 2.0415\n",
            "Epoch 9/30\n",
            "32/32 [==============================] - 110s 3s/step - loss: 1.8125 - val_loss: 1.9881\n",
            "Epoch 10/30\n",
            "32/32 [==============================] - 112s 4s/step - loss: 1.7301 - val_loss: 1.9329\n",
            "Epoch 11/30\n",
            "32/32 [==============================] - 110s 3s/step - loss: 1.6527 - val_loss: 1.8898\n",
            "Epoch 12/30\n",
            "32/32 [==============================] - 110s 3s/step - loss: 1.5911 - val_loss: 1.8373\n",
            "Epoch 13/30\n",
            "32/32 [==============================] - 110s 3s/step - loss: 1.5209 - val_loss: 1.8210\n",
            "Epoch 14/30\n",
            "32/32 [==============================] - 109s 3s/step - loss: 1.4603 - val_loss: 1.7800\n",
            "Epoch 15/30\n",
            "32/32 [==============================] - 109s 3s/step - loss: 1.4031 - val_loss: 1.7434\n",
            "Epoch 16/30\n",
            "32/32 [==============================] - 109s 3s/step - loss: 1.3396 - val_loss: 1.7328\n",
            "Epoch 17/30\n",
            "32/32 [==============================] - 109s 3s/step - loss: 1.2843 - val_loss: 1.6755\n",
            "Epoch 18/30\n",
            "32/32 [==============================] - 110s 3s/step - loss: 1.2311 - val_loss: 1.6707\n",
            "Epoch 19/30\n",
            "32/32 [==============================] - 110s 3s/step - loss: 1.1769 - val_loss: 1.6243\n",
            "Epoch 20/30\n",
            "32/32 [==============================] - 110s 3s/step - loss: 1.1159 - val_loss: 1.6091\n",
            "Epoch 21/30\n",
            "32/32 [==============================] - 110s 3s/step - loss: 1.0785 - val_loss: 1.5879\n",
            "Epoch 22/30\n",
            "32/32 [==============================] - 110s 3s/step - loss: 1.0303 - val_loss: 1.5599\n",
            "Epoch 23/30\n",
            "32/32 [==============================] - 110s 3s/step - loss: 0.9917 - val_loss: 1.5541\n",
            "Epoch 24/30\n",
            "32/32 [==============================] - 110s 3s/step - loss: 0.9454 - val_loss: 1.5348\n",
            "Epoch 25/30\n",
            "32/32 [==============================] - 110s 3s/step - loss: 0.8977 - val_loss: 1.5114\n",
            "Epoch 26/30\n",
            "32/32 [==============================] - 110s 3s/step - loss: 0.8581 - val_loss: 1.4900\n",
            "Epoch 27/30\n",
            "32/32 [==============================] - 111s 3s/step - loss: 0.8048 - val_loss: 1.5071\n",
            "Epoch 28/30\n",
            "32/32 [==============================] - 113s 4s/step - loss: 0.7770 - val_loss: 1.4792\n",
            "Epoch 29/30\n",
            "32/32 [==============================] - 114s 4s/step - loss: 0.7365 - val_loss: 1.4611\n",
            "Epoch 30/30\n",
            "32/32 [==============================] - 114s 4s/step - loss: 0.6978 - val_loss: 1.4488\n"
          ],
          "name": "stdout"
        }
      ]
    },
    {
      "cell_type": "code",
      "metadata": {
        "colab": {
          "base_uri": "https://localhost:8080/",
          "height": 265
        },
        "id": "fbE2Bch2JgjB",
        "outputId": "7e121b95-fec9-4463-c72c-a7905fb7324e"
      },
      "source": [
        "plt.plot(history.history['loss'])\n",
        "plt.plot(history.history['val_loss'])\n",
        "plt.legend(['train','validation'])\n",
        "plt.show()"
      ],
      "execution_count": 26,
      "outputs": [
        {
          "output_type": "display_data",
          "data": {
            "image/png": "[encoded data removed]",
            "text/plain": [
              "<Figure size 432x288 with 1 Axes>"
            ]
          },
          "metadata": {
            "tags": [],
            "needs_background": "light"
          }
        }
      ]
    },
    {
      "cell_type": "code",
      "metadata": {
        "id": "oZmHyjUrJgpR"
      },
      "source": [
        "def get_word(n, tokenizer):\n",
        "      for word, index in tokenizer.word_index.items():\n",
        "          if index == n:\n",
        "              return word\n",
        "      return None"
      ],
      "execution_count": 29,
      "outputs": []
    },
    {
      "cell_type": "code",
      "metadata": {
        "id": "B55ZRVhWurdH",
        "colab": {
          "base_uri": "https://localhost:8080/"
        },
        "outputId": "3b022a1e-485d-4a12-8690-1aed1dd272b1"
      },
      "source": [
        "model.evaluate(testX, testY, batch_size=512)"
      ],
      "execution_count": 34,
      "outputs": [
        {
          "output_type": "stream",
          "text": [
            "10/10 [==============================] - 13s 1s/step - loss: 1.4393\n"
          ],
          "name": "stdout"
        },
        {
          "output_type": "execute_result",
          "data": {
            "text/plain": [
              "1.4392874240875244"
            ]
          },
          "metadata": {
            "tags": []
          },
          "execution_count": 34
        }
      ]
    },
    {
      "cell_type": "code",
      "metadata": {
        "colab": {
          "base_uri": "https://localhost:8080/"
        },
        "id": "3_48ji3CfgM_",
        "outputId": "00c1df62-ac4d-490e-ccc8-f6555f68495b"
      },
      "source": [
        "model.evaluate(trainX, trainY, batch_size=512)"
      ],
      "execution_count": 35,
      "outputs": [
        {
          "output_type": "stream",
          "text": [
            "40/40 [==============================] - 46s 1s/step - loss: 0.8109\n"
          ],
          "name": "stdout"
        },
        {
          "output_type": "execute_result",
          "data": {
            "text/plain": [
              "0.8109166026115417"
            ]
          },
          "metadata": {
            "tags": []
          },
          "execution_count": 35
        }
      ]
    },
    {
      "cell_type": "code",
      "metadata": {
        "colab": {
          "base_uri": "https://localhost:8080/"
        },
        "id": "ubLIYboDgRhS",
        "outputId": "72f27154-04e0-4815-a57b-944f476bccb8"
      },
      "source": [
        "import time\n",
        "t = time.time()\n",
        "export_path_keras = \"./{}.h5\".format(int(t))\n",
        "print(export_path_keras)\n",
        "\n",
        "model.save(export_path_keras)\n"
      ],
      "execution_count": 38,
      "outputs": [
        {
          "output_type": "stream",
          "text": [
            "./1617184732.h5\n"
          ],
          "name": "stdout"
        }
      ]
    }
  ]
}